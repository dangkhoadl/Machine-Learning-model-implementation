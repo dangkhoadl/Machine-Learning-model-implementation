{
 "cells": [
  {
   "cell_type": "code",
   "execution_count": 1,
   "id": "89774dcd",
   "metadata": {},
   "outputs": [
    {
     "name": "stdout",
     "output_type": "stream",
     "text": [
      "torch.__version__ = '1.13.1+cu117'\n",
      "/home/dangkhoadl/.cache/huggingface/hub\n"
     ]
    }
   ],
   "source": [
    "import os\n",
    "import numpy as np\n",
    "import pandas as pd\n",
    "import json\n",
    "from tqdm import tqdm\n",
    "\n",
    "import torch\n",
    "from torch.utils.data import Dataset\n",
    "print(f\"{torch.__version__ = }\")\n",
    "\n",
    "from transformers import TrainingArguments, Trainer\n",
    "from transformers import BertTokenizer, BertForSequenceClassification\n",
    "from transformers import file_utils\n",
    "print(file_utils.default_cache_path)\n",
    "\n",
    "from sklearn.metrics import \\\n",
    "    accuracy_score, recall_score, precision_score, f1_score"
   ]
  },
  {
   "cell_type": "code",
   "execution_count": 2,
   "id": "a7893fa4",
   "metadata": {},
   "outputs": [],
   "source": [
    "random_seed = 147\n",
    "\n",
    "np.random.seed(random_seed)\n",
    "torch.manual_seed(random_seed)\n",
    "torch.cuda.manual_seed_all(random_seed)\n",
    "\n",
    "os.environ[\"CUDA_VISIBLE_DEVICES\"]=\"1\"\n",
    "os.environ[\"PYTORCH_CUDA_ALLOC_CONF\"]=\"max_split_size_mb:512\"\n",
    "\n",
    "# device = torch.device(\n",
    "#     \"cuda\" if torch.cuda.is_available() else \"cpu\")"
   ]
  },
  {
   "cell_type": "markdown",
   "id": "ea1a689d",
   "metadata": {},
   "source": [
    "# 1. Dataset"
   ]
  },
  {
   "cell_type": "code",
   "execution_count": 3,
   "id": "af764517",
   "metadata": {},
   "outputs": [
    {
     "name": "stdout",
     "output_type": "stream",
     "text": [
      "0    29720\n",
      "1     2242\n",
      "Name: label, dtype: int64\n"
     ]
    },
    {
     "data": {
      "text/html": [
       "<div>\n",
       "<style scoped>\n",
       "    .dataframe tbody tr th:only-of-type {\n",
       "        vertical-align: middle;\n",
       "    }\n",
       "\n",
       "    .dataframe tbody tr th {\n",
       "        vertical-align: top;\n",
       "    }\n",
       "\n",
       "    .dataframe thead th {\n",
       "        text-align: right;\n",
       "    }\n",
       "</style>\n",
       "<table border=\"1\" class=\"dataframe\">\n",
       "  <thead>\n",
       "    <tr style=\"text-align: right;\">\n",
       "      <th></th>\n",
       "      <th>id</th>\n",
       "      <th>label</th>\n",
       "      <th>tweet</th>\n",
       "    </tr>\n",
       "  </thead>\n",
       "  <tbody>\n",
       "    <tr>\n",
       "      <th>0</th>\n",
       "      <td>1</td>\n",
       "      <td>0</td>\n",
       "      <td>@user when a father is dysfunctional and is s...</td>\n",
       "    </tr>\n",
       "    <tr>\n",
       "      <th>1</th>\n",
       "      <td>2</td>\n",
       "      <td>0</td>\n",
       "      <td>@user @user thanks for #lyft credit i can't us...</td>\n",
       "    </tr>\n",
       "    <tr>\n",
       "      <th>2</th>\n",
       "      <td>3</td>\n",
       "      <td>0</td>\n",
       "      <td>bihday your majesty</td>\n",
       "    </tr>\n",
       "    <tr>\n",
       "      <th>3</th>\n",
       "      <td>4</td>\n",
       "      <td>0</td>\n",
       "      <td>#model   i love u take with u all the time in ...</td>\n",
       "    </tr>\n",
       "    <tr>\n",
       "      <th>4</th>\n",
       "      <td>5</td>\n",
       "      <td>0</td>\n",
       "      <td>factsguide: society now    #motivation</td>\n",
       "    </tr>\n",
       "  </tbody>\n",
       "</table>\n",
       "</div>"
      ],
      "text/plain": [
       "   id  label                                              tweet\n",
       "0   1      0   @user when a father is dysfunctional and is s...\n",
       "1   2      0  @user @user thanks for #lyft credit i can't us...\n",
       "2   3      0                                bihday your majesty\n",
       "3   4      0  #model   i love u take with u all the time in ...\n",
       "4   5      0             factsguide: society now    #motivation"
      ]
     },
     "execution_count": 3,
     "metadata": {},
     "output_type": "execute_result"
    }
   ],
   "source": [
    "data = pd.read_csv(\"data.csv\")\n",
    "\n",
    "print(data['label'].value_counts())\n",
    "data.head()"
   ]
  },
  {
   "cell_type": "code",
   "execution_count": 4,
   "id": "9495be9c",
   "metadata": {},
   "outputs": [
    {
     "name": "stdout",
     "output_type": "stream",
     "text": [
      "0    3200\n",
      "1    2242\n",
      "Name: label, dtype: int64\n"
     ]
    },
    {
     "data": {
      "text/html": [
       "<div>\n",
       "<style scoped>\n",
       "    .dataframe tbody tr th:only-of-type {\n",
       "        vertical-align: middle;\n",
       "    }\n",
       "\n",
       "    .dataframe tbody tr th {\n",
       "        vertical-align: top;\n",
       "    }\n",
       "\n",
       "    .dataframe thead th {\n",
       "        text-align: right;\n",
       "    }\n",
       "</style>\n",
       "<table border=\"1\" class=\"dataframe\">\n",
       "  <thead>\n",
       "    <tr style=\"text-align: right;\">\n",
       "      <th></th>\n",
       "      <th>id</th>\n",
       "      <th>label</th>\n",
       "      <th>tweet</th>\n",
       "    </tr>\n",
       "  </thead>\n",
       "  <tbody>\n",
       "    <tr>\n",
       "      <th>0</th>\n",
       "      <td>1393</td>\n",
       "      <td>1</td>\n",
       "      <td>@user buffalo school districts boots trump all...</td>\n",
       "    </tr>\n",
       "    <tr>\n",
       "      <th>1</th>\n",
       "      <td>9689</td>\n",
       "      <td>1</td>\n",
       "      <td>are â¦ #black &amp;amp; feel like the  are stompi...</td>\n",
       "    </tr>\n",
       "    <tr>\n",
       "      <th>2</th>\n",
       "      <td>18889</td>\n",
       "      <td>0</td>\n",
       "      <td>be happy. be bright. be you.ðð   #monday...</td>\n",
       "    </tr>\n",
       "    <tr>\n",
       "      <th>3</th>\n",
       "      <td>16067</td>\n",
       "      <td>0</td>\n",
       "      <td>@user rubbing her head in the grass #pepitaes...</td>\n",
       "    </tr>\n",
       "    <tr>\n",
       "      <th>4</th>\n",
       "      <td>322</td>\n",
       "      <td>1</td>\n",
       "      <td>@user \"the dying of the light\"  village green/...</td>\n",
       "    </tr>\n",
       "  </tbody>\n",
       "</table>\n",
       "</div>"
      ],
      "text/plain": [
       "      id  label                                              tweet\n",
       "0   1393      1  @user buffalo school districts boots trump all...\n",
       "1   9689      1  are â¦ #black &amp; feel like the  are stompi...\n",
       "2  18889      0  be happy. be bright. be you.ðð   #monday...\n",
       "3  16067      0   @user rubbing her head in the grass #pepitaes...\n",
       "4    322      1  @user \"the dying of the light\"  village green/..."
      ]
     },
     "execution_count": 4,
     "metadata": {},
     "output_type": "execute_result"
    }
   ],
   "source": [
    "df_0 = data[data['label'] == 0] \\\n",
    "    .sample(n=3200,random_state=random_seed) \\\n",
    "    .reset_index(drop=True)\n",
    "df_1 = data[data['label'] == 1] \\\n",
    "    .reset_index(drop=True)\n",
    "\n",
    "df = pd.concat([df_0, df_1], ignore_index=True) \\\n",
    "    .sample(frac=1) \\\n",
    "    .reset_index(drop=True)\n",
    "\n",
    "print(df['label'].value_counts())\n",
    "df.head()"
   ]
  },
  {
   "cell_type": "markdown",
   "id": "cbf575b4",
   "metadata": {},
   "source": [
    "#### Train-Eval-Test Split"
   ]
  },
  {
   "cell_type": "code",
   "execution_count": 5,
   "id": "f4039314",
   "metadata": {},
   "outputs": [
    {
     "name": "stdout",
     "output_type": "stream",
     "text": [
      "len(train_df) = 3047\n",
      "len(eval_df) = 762\n",
      "len(test_df) = 1633\n"
     ]
    }
   ],
   "source": [
    "from sklearn.model_selection import train_test_split\n",
    "\n",
    "\n",
    "train_eval_df, test_df = train_test_split(df,\n",
    "    test_size=0.3,\n",
    "    random_state=147,\n",
    "    stratify=df['label'])\n",
    "\n",
    "train_df, eval_df = train_test_split(train_eval_df,\n",
    "    test_size=0.2,\n",
    "    random_state=147,\n",
    "    stratify=train_eval_df['label'])\n",
    "\n",
    "print(f\"{len(train_df) = }\")\n",
    "print(f\"{len(eval_df) = }\")\n",
    "print(f\"{len(test_df) = }\")"
   ]
  },
  {
   "cell_type": "markdown",
   "id": "667635cb",
   "metadata": {},
   "source": [
    "# 2. Preprocess data"
   ]
  },
  {
   "cell_type": "markdown",
   "id": "8de36525",
   "metadata": {},
   "source": [
    "#### Tokenize"
   ]
  },
  {
   "cell_type": "code",
   "execution_count": 6,
   "id": "5fd36deb",
   "metadata": {
    "scrolled": false
   },
   "outputs": [
    {
     "name": "stdout",
     "output_type": "stream",
     "text": [
      "X_train_tokenized.keys() = dict_keys(['input_ids', 'token_type_ids', 'attention_mask'])\n",
      "type(X_train_tokenized['input_ids']) = <class 'list'>\n",
      "torch.tensor(X_train_tokenized['input_ids']).shape = torch.Size([3047, 73])\n",
      "X_train_tokenized['input_ids'][0][:20] = [101, 1030, 5310, 1030, 5310, 2021, 2298, 2129, 13459, 2027, 2024, 2055, 1001, 7332, 24498, 6824, 2361, 2006, 1996, 4946]\n"
     ]
    }
   ],
   "source": [
    "tokenizer = BertTokenizer.from_pretrained(\"bert-base-uncased\")\n",
    "\n",
    "X_train_tokenized = tokenizer(train_df['tweet'].tolist(),\n",
    "    padding=True, truncation=True, max_length=512)\n",
    "X_val_tokenized = tokenizer(eval_df['tweet'].tolist(),\n",
    "    padding=True, truncation=True, max_length=512)\n",
    "\n",
    "print(f\"{X_train_tokenized.keys() = }\")\n",
    "print(f\"{type(X_train_tokenized['input_ids']) = }\")\n",
    "print(f\"{torch.tensor(X_train_tokenized['input_ids']).shape = }\")\n",
    "print(f\"{X_train_tokenized['input_ids'][0][:20] = }\")"
   ]
  },
  {
   "cell_type": "markdown",
   "id": "1c467265",
   "metadata": {},
   "source": [
    "#### Dataset"
   ]
  },
  {
   "cell_type": "code",
   "execution_count": 7,
   "id": "6dccc354",
   "metadata": {},
   "outputs": [],
   "source": [
    "class SentimentAnalysis_Dset(Dataset):\n",
    "    def __init__(self, encodings, labels):\n",
    "        super().__init__()\n",
    "\n",
    "        self._encodings = encodings\n",
    "        self._labels = labels\n",
    "\n",
    "    def __len__(self):\n",
    "        return len(self._encodings[\"input_ids\"])\n",
    "\n",
    "    def __getitem__(self, idx):\n",
    "        return {\n",
    "            'input_ids': torch.tensor(self._encodings['input_ids'][idx]),\n",
    "            'attention_mask': torch.tensor(self._encodings['attention_mask'][idx]),\n",
    "            'token_type_ids': torch.tensor(self._encodings['token_type_ids'][idx]),\n",
    "            'labels': torch.tensor(self._labels[idx])\n",
    "        }"
   ]
  },
  {
   "cell_type": "code",
   "execution_count": 8,
   "id": "7e7962b3",
   "metadata": {},
   "outputs": [
    {
     "name": "stdout",
     "output_type": "stream",
     "text": [
      "{'attention_mask': tensor([1, 1, 1, 1, 1, 1, 1, 1, 1, 1, 1, 1, 1, 1, 1, 1, 1, 1, 1, 1, 1, 1, 1, 1,\n",
      "        1, 1, 1, 1, 1, 1, 1, 1, 1, 1, 1, 1, 1, 1, 0, 0, 0, 0, 0, 0, 0, 0, 0, 0,\n",
      "        0, 0, 0, 0, 0, 0, 0, 0, 0, 0, 0, 0, 0, 0, 0, 0, 0, 0, 0, 0, 0, 0, 0, 0,\n",
      "        0]),\n",
      " 'input_ids': tensor([  101,  1030,  5310,  1030,  5310,  2021,  2298,  2129, 13459,  2027,\n",
      "         2024,  2055,  1001,  7332, 24498,  6824,  2361,  2006,  1996,  4946,\n",
      "         1012,  2029,  2001,  1001,  8275,  1012,  2664,  8568,  1001,  5922,\n",
      "         9453,  2232,  1012,  1001, 10958,  2050, 29649,   102,     0,     0,\n",
      "            0,     0,     0,     0,     0,     0,     0,     0,     0,     0,\n",
      "            0,     0,     0,     0,     0,     0,     0,     0,     0,     0,\n",
      "            0,     0,     0,     0,     0,     0,     0,     0,     0,     0,\n",
      "            0,     0,     0]),\n",
      " 'labels': tensor(1),\n",
      " 'token_type_ids': tensor([0, 0, 0, 0, 0, 0, 0, 0, 0, 0, 0, 0, 0, 0, 0, 0, 0, 0, 0, 0, 0, 0, 0, 0,\n",
      "        0, 0, 0, 0, 0, 0, 0, 0, 0, 0, 0, 0, 0, 0, 0, 0, 0, 0, 0, 0, 0, 0, 0, 0,\n",
      "        0, 0, 0, 0, 0, 0, 0, 0, 0, 0, 0, 0, 0, 0, 0, 0, 0, 0, 0, 0, 0, 0, 0, 0,\n",
      "        0])}\n"
     ]
    }
   ],
   "source": [
    "train_dset = SentimentAnalysis_Dset(\n",
    "    encodings=X_train_tokenized,\n",
    "    labels=train_df['label'].tolist())\n",
    "\n",
    "eval_dset = SentimentAnalysis_Dset(\n",
    "    encodings=X_val_tokenized,\n",
    "    labels=eval_df['label'].tolist())\n",
    "\n",
    "# Pretty Print a Dictionary using pprint\n",
    "import pprint\n",
    "pprint.pprint(train_dset[0])"
   ]
  },
  {
   "cell_type": "markdown",
   "id": "67b65b0b",
   "metadata": {},
   "source": [
    "# 3. Finetune BERT"
   ]
  },
  {
   "cell_type": "code",
   "execution_count": 9,
   "id": "9ec305e8",
   "metadata": {},
   "outputs": [
    {
     "name": "stderr",
     "output_type": "stream",
     "text": [
      "Some weights of the model checkpoint at bert-base-uncased were not used when initializing BertForSequenceClassification: ['cls.predictions.bias', 'cls.predictions.transform.LayerNorm.weight', 'cls.predictions.transform.dense.bias', 'cls.predictions.transform.dense.weight', 'cls.seq_relationship.weight', 'cls.predictions.transform.LayerNorm.bias', 'cls.seq_relationship.bias']\n",
      "- This IS expected if you are initializing BertForSequenceClassification from the checkpoint of a model trained on another task or with another architecture (e.g. initializing a BertForSequenceClassification model from a BertForPreTraining model).\n",
      "- This IS NOT expected if you are initializing BertForSequenceClassification from the checkpoint of a model that you expect to be exactly identical (initializing a BertForSequenceClassification model from a BertForSequenceClassification model).\n",
      "Some weights of BertForSequenceClassification were not initialized from the model checkpoint at bert-base-uncased and are newly initialized: ['classifier.bias', 'classifier.weight']\n",
      "You should probably TRAIN this model on a down-stream task to be able to use it for predictions and inference.\n"
     ]
    }
   ],
   "source": [
    "model = BertForSequenceClassification.from_pretrained(\"bert-base-uncased\",\n",
    "    num_labels=2)"
   ]
  },
  {
   "cell_type": "markdown",
   "id": "a4b06cd4",
   "metadata": {},
   "source": [
    "#### Training arg"
   ]
  },
  {
   "cell_type": "code",
   "execution_count": 10,
   "id": "73f8e9f4",
   "metadata": {},
   "outputs": [],
   "source": [
    "batch_size = 32\n",
    "output_dir = \"ckpts/bert-finetuned\"\n",
    "if not os.path.exists(output_dir):\n",
    "    os.makedirs(output_dir)\n",
    "\n",
    "log_dir = \"log/\"\n",
    "if not os.path.exists(log_dir):\n",
    "    os.makedirs(log_dir)\n",
    "\n",
    "training_args = TrainingArguments(\n",
    "    output_dir=output_dir,\n",
    "    evaluation_strategy=\"steps\",\n",
    "    save_strategy=\"steps\",\n",
    "    eval_steps=100,\n",
    "    learning_rate=1e-5,\n",
    "    per_device_train_batch_size=batch_size,\n",
    "    per_device_eval_batch_size=batch_size,\n",
    "    dataloader_num_workers=32,\n",
    "    eval_accumulation_steps=4,\n",
    "    gradient_accumulation_steps=4,\n",
    "    num_train_epochs=20,\n",
    "    load_best_model_at_end=True,\n",
    "    warmup_ratio=0.1,\n",
    "    logging_steps=100,\n",
    "    metric_for_best_model=\"eval_f1\",\n",
    "    seed=147,\n",
    "    push_to_hub=False,\n",
    ")"
   ]
  },
  {
   "cell_type": "markdown",
   "id": "f7514ad5",
   "metadata": {},
   "source": [
    "#### optimizer, scheduler, loss function"
   ]
  },
  {
   "cell_type": "code",
   "execution_count": 11,
   "id": "2cead4d1",
   "metadata": {},
   "outputs": [],
   "source": [
    "optimizer = torch.optim.AdamW(model.parameters(),\n",
    "    lr=1e-5,\n",
    "    weight_decay=0.01)\n",
    "scheduler = torch.optim.lr_scheduler.LinearLR(\n",
    "    optimizer=optimizer)\n",
    "\n",
    "criterion = torch.nn.CrossEntropyLoss()\n",
    "class Custom_Trainer(Trainer):\n",
    "    def compute_loss(self, model, inputs, return_outputs=False):\n",
    "        labels = inputs.pop(\"labels\")\n",
    "        outputs = model(**inputs)\n",
    "\n",
    "        loss = criterion(outputs.logits, labels)\n",
    "        return (loss, outputs) if return_outputs else loss"
   ]
  },
  {
   "cell_type": "markdown",
   "id": "8f2f986c",
   "metadata": {},
   "source": [
    "#### Eval metrics"
   ]
  },
  {
   "cell_type": "code",
   "execution_count": 12,
   "id": "8cf6623d",
   "metadata": {},
   "outputs": [],
   "source": [
    "def compute_metrics(eval_pred, average='binary'):\n",
    "    predictions = np.argmax(eval_pred.predictions, axis=1)\n",
    "    labels = eval_pred.label_ids\n",
    "\n",
    "    # accuracy, precision, recall, f1-score\n",
    "    acc = accuracy_score(\n",
    "        y_true=labels, y_pred=predictions,\n",
    "        normalize=True)\n",
    "    r = recall_score(\n",
    "        y_true=labels, y_pred=predictions,\n",
    "        average=average, zero_division=0)\n",
    "    p = precision_score(\n",
    "        y_true=labels, y_pred=predictions,\n",
    "        average=average, zero_division=0)\n",
    "    f1 = f1_score(\n",
    "        y_true=labels, y_pred=predictions,\n",
    "        average=average, zero_division=0)\n",
    "\n",
    "    return {\n",
    "        \"accuracy\": acc,\n",
    "        \"precision\": p,\n",
    "        \"recall\": r,\n",
    "        \"f1\": f1 }"
   ]
  },
  {
   "cell_type": "markdown",
   "id": "5356bd2a",
   "metadata": {},
   "source": [
    "#### Train"
   ]
  },
  {
   "cell_type": "code",
   "execution_count": 13,
   "id": "ddccf1bd",
   "metadata": {},
   "outputs": [],
   "source": [
    "from transformers import EarlyStoppingCallback\n",
    "\n",
    "trainer = Custom_Trainer(\n",
    "    model=model,\n",
    "    args=training_args,\n",
    "    train_dataset=train_dset,\n",
    "    eval_dataset=eval_dset,\n",
    "    compute_metrics=compute_metrics,\n",
    "    optimizers=(optimizer, scheduler),\n",
    "    callbacks=[EarlyStoppingCallback(early_stopping_patience=3)]\n",
    ")"
   ]
  },
  {
   "cell_type": "code",
   "execution_count": 14,
   "id": "d7469956",
   "metadata": {},
   "outputs": [
    {
     "data": {
      "text/html": [
       "\n",
       "    <div>\n",
       "      \n",
       "      <progress value='480' max='480' style='width:300px; height:20px; vertical-align: middle;'></progress>\n",
       "      [480/480 10:47, Epoch 20/20]\n",
       "    </div>\n",
       "    <table border=\"1\" class=\"dataframe\">\n",
       "  <thead>\n",
       " <tr style=\"text-align: left;\">\n",
       "      <th>Step</th>\n",
       "      <th>Training Loss</th>\n",
       "      <th>Validation Loss</th>\n",
       "      <th>Accuracy</th>\n",
       "      <th>Precision</th>\n",
       "      <th>Recall</th>\n",
       "      <th>F1</th>\n",
       "    </tr>\n",
       "  </thead>\n",
       "  <tbody>\n",
       "    <tr>\n",
       "      <td>100</td>\n",
       "      <td>0.390500</td>\n",
       "      <td>0.303316</td>\n",
       "      <td>0.877953</td>\n",
       "      <td>0.867110</td>\n",
       "      <td>0.831210</td>\n",
       "      <td>0.848780</td>\n",
       "    </tr>\n",
       "    <tr>\n",
       "      <td>200</td>\n",
       "      <td>0.148800</td>\n",
       "      <td>0.318162</td>\n",
       "      <td>0.889764</td>\n",
       "      <td>0.868590</td>\n",
       "      <td>0.863057</td>\n",
       "      <td>0.865815</td>\n",
       "    </tr>\n",
       "    <tr>\n",
       "      <td>300</td>\n",
       "      <td>0.054600</td>\n",
       "      <td>0.401863</td>\n",
       "      <td>0.891076</td>\n",
       "      <td>0.908127</td>\n",
       "      <td>0.818471</td>\n",
       "      <td>0.860972</td>\n",
       "    </tr>\n",
       "    <tr>\n",
       "      <td>400</td>\n",
       "      <td>0.029300</td>\n",
       "      <td>0.474656</td>\n",
       "      <td>0.879265</td>\n",
       "      <td>0.872483</td>\n",
       "      <td>0.828025</td>\n",
       "      <td>0.849673</td>\n",
       "    </tr>\n",
       "  </tbody>\n",
       "</table><p>"
      ],
      "text/plain": [
       "<IPython.core.display.HTML object>"
      ]
     },
     "metadata": {},
     "output_type": "display_data"
    }
   ],
   "source": [
    "trainer.train()\n",
    "trainer.save_model(output_dir)"
   ]
  },
  {
   "cell_type": "markdown",
   "id": "916b1321",
   "metadata": {},
   "source": [
    "#### Evaluate"
   ]
  },
  {
   "cell_type": "code",
   "execution_count": 15,
   "id": "ee834e91",
   "metadata": {},
   "outputs": [
    {
     "data": {
      "text/html": [
       "\n",
       "    <div>\n",
       "      \n",
       "      <progress value='24' max='24' style='width:300px; height:20px; vertical-align: middle;'></progress>\n",
       "      [24/24 00:02]\n",
       "    </div>\n",
       "    "
      ],
      "text/plain": [
       "<IPython.core.display.HTML object>"
      ]
     },
     "metadata": {},
     "output_type": "display_data"
    },
    {
     "name": "stdout",
     "output_type": "stream",
     "text": [
      "{'epoch': 20.0,\n",
      " 'eval_accuracy': 0.8858267716535433,\n",
      " 'eval_f1': 0.85667215815486,\n",
      " 'eval_loss': 0.4955345392227173,\n",
      " 'eval_precision': 0.8873720136518771,\n",
      " 'eval_recall': 0.8280254777070064,\n",
      " 'eval_runtime': 4.07,\n",
      " 'eval_samples_per_second': 187.223,\n",
      " 'eval_steps_per_second': 5.897}\n"
     ]
    }
   ],
   "source": [
    "eval_res = trainer.evaluate()\n",
    "pprint.pprint(eval_res)"
   ]
  },
  {
   "cell_type": "markdown",
   "id": "5c31df61",
   "metadata": {},
   "source": [
    "#### Log"
   ]
  },
  {
   "cell_type": "code",
   "execution_count": 16,
   "id": "e6c57480",
   "metadata": {},
   "outputs": [],
   "source": [
    "train_log, eval_log = [], []\n",
    "for e in trainer.state.log_history:\n",
    "    e_keys = set(e)\n",
    "    if \"loss\" in e_keys: train_log.append(e)\n",
    "    elif \"eval_loss\" in e_keys: eval_log.append(e)\n",
    "    elif \"train_runtime\" in e_keys:\n",
    "        with open(f\"{log_dir}/trainer_info.json\", 'w+', encoding='utf-8') as fin:\n",
    "            json.dump(e, fin, ensure_ascii=False, indent=4)\n",
    "\n",
    "if train_log != []:\n",
    "    train_log_df = pd.DataFrame.from_dict(train_log) \\\n",
    "        .sort_values(\"step\", ascending=True) \\\n",
    "        .reset_index(drop=True)\n",
    "    train_log_df.to_csv(f\"{log_dir}/log_trainset.csv\", index=False)\n",
    "\n",
    "if eval_log != []:\n",
    "    eval_log_df = pd.DataFrame.from_dict(eval_log) \\\n",
    "        .sort_values(\"step\", ascending=True) \\\n",
    "        .reset_index(drop=True)\n",
    "    eval_log_df.to_csv(f\"{log_dir}/log_evalset.csv\", index=False)"
   ]
  },
  {
   "cell_type": "markdown",
   "id": "d4176642",
   "metadata": {},
   "source": [
    "# 4. Inference"
   ]
  },
  {
   "cell_type": "code",
   "execution_count": 17,
   "id": "ee936a82",
   "metadata": {},
   "outputs": [],
   "source": [
    "ckpt_fpath = \"ckpts/bert-finetuned\"\n",
    "\n",
    "model = BertForSequenceClassification.from_pretrained(ckpt_fpath,\n",
    "    num_labels=2)"
   ]
  },
  {
   "cell_type": "code",
   "execution_count": 18,
   "id": "5987c61d",
   "metadata": {},
   "outputs": [
    {
     "data": {
      "text/html": [],
      "text/plain": [
       "<IPython.core.display.HTML object>"
      ]
     },
     "metadata": {},
     "output_type": "display_data"
    },
    {
     "name": "stdout",
     "output_type": "stream",
     "text": [
      "preds.shape = (1633, 2)\n",
      "y_preds.shape = (1633,)\n"
     ]
    }
   ],
   "source": [
    "# Tokenize\n",
    "X_test_tokenized = tokenizer(test_df['tweet'].tolist(),\n",
    "    padding=True, truncation=True, max_length=512)\n",
    "\n",
    "# Create dset\n",
    "test_dset = SentimentAnalysis_Dset(\n",
    "    encodings=X_test_tokenized,\n",
    "    labels=test_df['label'].tolist())\n",
    "\n",
    "# Inference\n",
    "test_trainer = Trainer(model)\n",
    "preds, _ , _ = test_trainer.predict(test_dset)\n",
    "print(f\"{preds.shape = }\")\n",
    "\n",
    "# Prediction\n",
    "y_preds = np.argmax(preds, axis=1).astype(int)\n",
    "print(f\"{y_preds.shape = }\")"
   ]
  },
  {
   "cell_type": "code",
   "execution_count": 19,
   "id": "89256c48",
   "metadata": {},
   "outputs": [
    {
     "data": {
      "text/html": [
       "<div>\n",
       "<style scoped>\n",
       "    .dataframe tbody tr th:only-of-type {\n",
       "        vertical-align: middle;\n",
       "    }\n",
       "\n",
       "    .dataframe tbody tr th {\n",
       "        vertical-align: top;\n",
       "    }\n",
       "\n",
       "    .dataframe thead th {\n",
       "        text-align: right;\n",
       "    }\n",
       "</style>\n",
       "<table border=\"1\" class=\"dataframe\">\n",
       "  <thead>\n",
       "    <tr style=\"text-align: right;\">\n",
       "      <th></th>\n",
       "      <th>id</th>\n",
       "      <th>label</th>\n",
       "      <th>tweet</th>\n",
       "      <th>Class_0_score</th>\n",
       "      <th>Class_1_score</th>\n",
       "      <th>Prediction</th>\n",
       "    </tr>\n",
       "  </thead>\n",
       "  <tbody>\n",
       "    <tr>\n",
       "      <th>0</th>\n",
       "      <td>13539</td>\n",
       "      <td>1</td>\n",
       "      <td>black girl porn teen virgin sex pictures</td>\n",
       "      <td>-3.276530</td>\n",
       "      <td>3.325020</td>\n",
       "      <td>1</td>\n",
       "    </tr>\n",
       "    <tr>\n",
       "      <th>1</th>\n",
       "      <td>3168</td>\n",
       "      <td>1</td>\n",
       "      <td>@user .@user what a douchebag. like his dad!  ...</td>\n",
       "      <td>-3.211478</td>\n",
       "      <td>3.178723</td>\n",
       "      <td>1</td>\n",
       "    </tr>\n",
       "    <tr>\n",
       "      <th>2</th>\n",
       "      <td>30372</td>\n",
       "      <td>0</td>\n",
       "      <td>, 30 rock, tracy jordan</td>\n",
       "      <td>0.473693</td>\n",
       "      <td>0.009304</td>\n",
       "      <td>0</td>\n",
       "    </tr>\n",
       "    <tr>\n",
       "      <th>3</th>\n",
       "      <td>11365</td>\n",
       "      <td>0</td>\n",
       "      <td>back to schoolð¤ð   #dnhs ð</td>\n",
       "      <td>3.477470</td>\n",
       "      <td>-3.240072</td>\n",
       "      <td>0</td>\n",
       "    </tr>\n",
       "    <tr>\n",
       "      <th>4</th>\n",
       "      <td>22540</td>\n",
       "      <td>0</td>\n",
       "      <td>yes these days they call stuff like this journ...</td>\n",
       "      <td>-2.086720</td>\n",
       "      <td>1.588510</td>\n",
       "      <td>1</td>\n",
       "    </tr>\n",
       "  </tbody>\n",
       "</table>\n",
       "</div>"
      ],
      "text/plain": [
       "      id  label                                              tweet  \\\n",
       "0  13539      1          black girl porn teen virgin sex pictures    \n",
       "1   3168      1  @user .@user what a douchebag. like his dad!  ...   \n",
       "2  30372      0                          , 30 rock, tracy jordan     \n",
       "3  11365      0                back to schoolð¤ð   #dnhs ð   \n",
       "4  22540      0  yes these days they call stuff like this journ...   \n",
       "\n",
       "   Class_0_score  Class_1_score  Prediction  \n",
       "0      -3.276530       3.325020           1  \n",
       "1      -3.211478       3.178723           1  \n",
       "2       0.473693       0.009304           0  \n",
       "3       3.477470      -3.240072           0  \n",
       "4      -2.086720       1.588510           1  "
      ]
     },
     "execution_count": 19,
     "metadata": {},
     "output_type": "execute_result"
    }
   ],
   "source": [
    "# scores\n",
    "num_classes = 2\n",
    "scores = pd.DataFrame(\n",
    "    data=preds,\n",
    "    columns=[ f\"Class_{c}_score\" for c in (np.arange(num_classes)) ])\n",
    "\n",
    "# Prediction\n",
    "y_preds = pd.DataFrame(\n",
    "    data=y_preds,\n",
    "    columns=[ 'Prediction' ])\n",
    "\n",
    "# out\n",
    "test_df = pd.concat(\n",
    "    [test_df.reset_index(drop=True), scores, y_preds], axis=1)\n",
    "test_df.head()"
   ]
  },
  {
   "cell_type": "code",
   "execution_count": 20,
   "id": "e74e6a15",
   "metadata": {},
   "outputs": [
    {
     "name": "stdout",
     "output_type": "stream",
     "text": [
      "Test Accuracy: 0.9038579301898346\n",
      "Test Precision: 0.9056603773584906\n",
      "Test Recall: 0.8558692421991084\n",
      "Test F1 score: 0.8800611153552331\n"
     ]
    }
   ],
   "source": [
    "def calculate_accuracy(df, num_classes=2, average='binary'):\n",
    "    assert average in [None, 'binary', 'micro', 'macro', 'weighted']\n",
    "    y_test = df['label'].values\n",
    "    y_pred = df.loc[:, [f'Class_{c}_score' for c in range(num_classes)]] \\\n",
    "        .to_numpy().argmax(axis=1)\n",
    "\n",
    "    # accuracy, precision, recall, f1-score\n",
    "    acc = accuracy_score(\n",
    "        y_true=y_test,\n",
    "        y_pred=y_pred, normalize=True)\n",
    "\n",
    "    p = precision_score(\n",
    "        y_true=y_test,\n",
    "        y_pred=y_pred, average=average)\n",
    "\n",
    "    r = recall_score(\n",
    "        y_true=y_test,\n",
    "        y_pred=y_pred, average=average)\n",
    "\n",
    "    f1 = f1_score(\n",
    "        y_true=y_test,\n",
    "        y_pred=y_pred, average=average)\n",
    "\n",
    "    return acc, p, r, f1\n",
    "\n",
    "acc, p, r, f1 = calculate_accuracy(test_df, num_classes=2)\n",
    "print(f\"Test Accuracy: {acc}\")\n",
    "print(f\"Test Precision: {p}\")\n",
    "print(f\"Test Recall: {r}\")\n",
    "print(f\"Test F1 score: {f1}\")"
   ]
  }
 ],
 "metadata": {
  "kernelspec": {
   "display_name": "dl-audio",
   "language": "python",
   "name": "python3"
  },
  "language_info": {
   "codemirror_mode": {
    "name": "ipython",
    "version": 3
   },
   "file_extension": ".py",
   "mimetype": "text/x-python",
   "name": "python",
   "nbconvert_exporter": "python",
   "pygments_lexer": "ipython3",
   "version": "3.8.17"
  }
 },
 "nbformat": 4,
 "nbformat_minor": 5
}
