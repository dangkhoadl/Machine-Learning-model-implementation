{
 "cells": [
  {
   "cell_type": "code",
   "execution_count": 1,
   "id": "89774dcd",
   "metadata": {},
   "outputs": [
    {
     "name": "stdout",
     "output_type": "stream",
     "text": [
      "torch.__version__ = '1.13.1+cu117'\n",
      "/home/dangkhoadl/.cache/huggingface/hub\n"
     ]
    }
   ],
   "source": [
    "import os\n",
    "import numpy as np\n",
    "import pandas as pd\n",
    "import json\n",
    "from tqdm import tqdm\n",
    "import pprint\n",
    "\n",
    "import torch\n",
    "from datasets import Dataset, DatasetDict\n",
    "print(f\"{torch.__version__ = }\")\n",
    "\n",
    "from transformers import TrainingArguments, Trainer\n",
    "from transformers import BertTokenizer, BertConfig, BertForSequenceClassification\n",
    "from transformers import file_utils\n",
    "print(file_utils.default_cache_path)\n",
    "\n",
    "from sklearn.metrics import \\\n",
    "    accuracy_score, recall_score, precision_score, f1_score"
   ]
  },
  {
   "cell_type": "code",
   "execution_count": 2,
   "id": "a7893fa4",
   "metadata": {},
   "outputs": [],
   "source": [
    "random_seed = 147\n",
    "\n",
    "np.random.seed(random_seed)\n",
    "torch.manual_seed(random_seed)\n",
    "torch.cuda.manual_seed_all(random_seed)\n",
    "\n",
    "os.environ[\"CUDA_VISIBLE_DEVICES\"]=\"2\"\n",
    "os.environ[\"PYTORCH_CUDA_ALLOC_CONF\"]=\"max_split_size_mb:512\"\n",
    "\n",
    "# device = torch.device(\n",
    "#     \"cuda\" if torch.cuda.is_available() else \"cpu\")"
   ]
  },
  {
   "cell_type": "markdown",
   "id": "ea1a689d",
   "metadata": {},
   "source": [
    "# 1. Data"
   ]
  },
  {
   "cell_type": "code",
   "execution_count": 3,
   "id": "af764517",
   "metadata": {},
   "outputs": [
    {
     "name": "stdout",
     "output_type": "stream",
     "text": [
      "0    29720\n",
      "1     2242\n",
      "Name: label, dtype: int64\n"
     ]
    },
    {
     "data": {
      "text/html": [
       "<div>\n",
       "<style scoped>\n",
       "    .dataframe tbody tr th:only-of-type {\n",
       "        vertical-align: middle;\n",
       "    }\n",
       "\n",
       "    .dataframe tbody tr th {\n",
       "        vertical-align: top;\n",
       "    }\n",
       "\n",
       "    .dataframe thead th {\n",
       "        text-align: right;\n",
       "    }\n",
       "</style>\n",
       "<table border=\"1\" class=\"dataframe\">\n",
       "  <thead>\n",
       "    <tr style=\"text-align: right;\">\n",
       "      <th></th>\n",
       "      <th>id</th>\n",
       "      <th>label</th>\n",
       "      <th>tweet</th>\n",
       "    </tr>\n",
       "  </thead>\n",
       "  <tbody>\n",
       "    <tr>\n",
       "      <th>0</th>\n",
       "      <td>1</td>\n",
       "      <td>0</td>\n",
       "      <td>@user when a father is dysfunctional and is s...</td>\n",
       "    </tr>\n",
       "    <tr>\n",
       "      <th>1</th>\n",
       "      <td>2</td>\n",
       "      <td>0</td>\n",
       "      <td>@user @user thanks for #lyft credit i can't us...</td>\n",
       "    </tr>\n",
       "    <tr>\n",
       "      <th>2</th>\n",
       "      <td>3</td>\n",
       "      <td>0</td>\n",
       "      <td>bihday your majesty</td>\n",
       "    </tr>\n",
       "    <tr>\n",
       "      <th>3</th>\n",
       "      <td>4</td>\n",
       "      <td>0</td>\n",
       "      <td>#model   i love u take with u all the time in ...</td>\n",
       "    </tr>\n",
       "    <tr>\n",
       "      <th>4</th>\n",
       "      <td>5</td>\n",
       "      <td>0</td>\n",
       "      <td>factsguide: society now    #motivation</td>\n",
       "    </tr>\n",
       "  </tbody>\n",
       "</table>\n",
       "</div>"
      ],
      "text/plain": [
       "   id  label                                              tweet\n",
       "0   1      0   @user when a father is dysfunctional and is s...\n",
       "1   2      0  @user @user thanks for #lyft credit i can't us...\n",
       "2   3      0                                bihday your majesty\n",
       "3   4      0  #model   i love u take with u all the time in ...\n",
       "4   5      0             factsguide: society now    #motivation"
      ]
     },
     "execution_count": 3,
     "metadata": {},
     "output_type": "execute_result"
    }
   ],
   "source": [
    "data = pd.read_csv(\"data/data.csv\", encoding='utf-8')\n",
    "\n",
    "print(data['label'].value_counts())\n",
    "data.head()"
   ]
  },
  {
   "cell_type": "code",
   "execution_count": 4,
   "id": "9495be9c",
   "metadata": {},
   "outputs": [
    {
     "name": "stdout",
     "output_type": "stream",
     "text": [
      "0    3200\n",
      "1    2242\n",
      "Name: label, dtype: int64\n"
     ]
    },
    {
     "data": {
      "text/html": [
       "<div>\n",
       "<style scoped>\n",
       "    .dataframe tbody tr th:only-of-type {\n",
       "        vertical-align: middle;\n",
       "    }\n",
       "\n",
       "    .dataframe tbody tr th {\n",
       "        vertical-align: top;\n",
       "    }\n",
       "\n",
       "    .dataframe thead th {\n",
       "        text-align: right;\n",
       "    }\n",
       "</style>\n",
       "<table border=\"1\" class=\"dataframe\">\n",
       "  <thead>\n",
       "    <tr style=\"text-align: right;\">\n",
       "      <th></th>\n",
       "      <th>id</th>\n",
       "      <th>label</th>\n",
       "      <th>tweet</th>\n",
       "    </tr>\n",
       "  </thead>\n",
       "  <tbody>\n",
       "    <tr>\n",
       "      <th>0</th>\n",
       "      <td>1393</td>\n",
       "      <td>1</td>\n",
       "      <td>@user buffalo school districts boots trump all...</td>\n",
       "    </tr>\n",
       "    <tr>\n",
       "      <th>1</th>\n",
       "      <td>9689</td>\n",
       "      <td>1</td>\n",
       "      <td>are â¦ #black &amp;amp; feel like the  are stompi...</td>\n",
       "    </tr>\n",
       "    <tr>\n",
       "      <th>2</th>\n",
       "      <td>18889</td>\n",
       "      <td>0</td>\n",
       "      <td>be happy. be bright. be you.ðð   #monday...</td>\n",
       "    </tr>\n",
       "    <tr>\n",
       "      <th>3</th>\n",
       "      <td>16067</td>\n",
       "      <td>0</td>\n",
       "      <td>@user rubbing her head in the grass #pepitaes...</td>\n",
       "    </tr>\n",
       "    <tr>\n",
       "      <th>4</th>\n",
       "      <td>322</td>\n",
       "      <td>1</td>\n",
       "      <td>@user \"the dying of the light\"  village green/...</td>\n",
       "    </tr>\n",
       "  </tbody>\n",
       "</table>\n",
       "</div>"
      ],
      "text/plain": [
       "      id  label                                              tweet\n",
       "0   1393      1  @user buffalo school districts boots trump all...\n",
       "1   9689      1  are â¦ #black &amp; feel like the  are stompi...\n",
       "2  18889      0  be happy. be bright. be you.ðð   #monday...\n",
       "3  16067      0   @user rubbing her head in the grass #pepitaes...\n",
       "4    322      1  @user \"the dying of the light\"  village green/..."
      ]
     },
     "execution_count": 4,
     "metadata": {},
     "output_type": "execute_result"
    }
   ],
   "source": [
    "df_0 = data[data['label'] == 0] \\\n",
    "    .sample(n=3200,random_state=random_seed) \\\n",
    "    .reset_index(drop=True)\n",
    "df_1 = data[data['label'] == 1] \\\n",
    "    .reset_index(drop=True)\n",
    "\n",
    "df = pd.concat([df_0, df_1], ignore_index=True) \\\n",
    "    .sample(frac=1) \\\n",
    "    .reset_index(drop=True)\n",
    "\n",
    "print(df['label'].value_counts())\n",
    "df.head()"
   ]
  },
  {
   "cell_type": "markdown",
   "id": "cbf575b4",
   "metadata": {},
   "source": [
    "#### Train-Eval-Test Split"
   ]
  },
  {
   "cell_type": "code",
   "execution_count": 5,
   "id": "f4039314",
   "metadata": {},
   "outputs": [
    {
     "name": "stdout",
     "output_type": "stream",
     "text": [
      "train_df.shape[0] = 3047\n",
      "eval_df.shape[0] = 762\n",
      "test_df.shape[0] = 1633\n"
     ]
    }
   ],
   "source": [
    "from sklearn.model_selection import train_test_split\n",
    "\n",
    "\n",
    "train_eval_df, test_df = train_test_split(df,\n",
    "    test_size=0.3,\n",
    "    random_state=147,\n",
    "    stratify=df['label'])\n",
    "\n",
    "train_df, eval_df = train_test_split(train_eval_df,\n",
    "    test_size=0.2,\n",
    "    random_state=147,\n",
    "    stratify=train_eval_df['label'])\n",
    "\n",
    "print(f\"{train_df.shape[0] = }\")\n",
    "print(f\"{eval_df.shape[0] = }\")\n",
    "print(f\"{test_df.shape[0] = }\")"
   ]
  },
  {
   "cell_type": "markdown",
   "id": "667635cb",
   "metadata": {},
   "source": [
    "# 2. Preprocess data"
   ]
  },
  {
   "cell_type": "markdown",
   "id": "1c467265",
   "metadata": {},
   "source": [
    "#### Dataset"
   ]
  },
  {
   "cell_type": "code",
   "execution_count": 6,
   "id": "6dccc354",
   "metadata": {},
   "outputs": [
    {
     "name": "stdout",
     "output_type": "stream",
     "text": [
      "{'test': Dataset({\n",
      "    features: ['id', 'label', 'tweet'],\n",
      "    num_rows: 1633\n",
      "}),\n",
      " 'train': Dataset({\n",
      "    features: ['id', 'label', 'tweet'],\n",
      "    num_rows: 3047\n",
      "}),\n",
      " 'validation': Dataset({\n",
      "    features: ['id', 'label', 'tweet'],\n",
      "    num_rows: 762\n",
      "})}\n"
     ]
    }
   ],
   "source": [
    "# Load Datasets\n",
    "dsets = DatasetDict({\n",
    "    'train': Dataset.from_pandas(train_df),\n",
    "    'validation': Dataset.from_pandas(eval_df),\n",
    "    'test': Dataset.from_pandas(test_df),\n",
    "})\n",
    "dsets = dsets.remove_columns(\n",
    "    ['__index_level_0__'])\n",
    "\n",
    "pprint.pprint(dsets)"
   ]
  },
  {
   "cell_type": "markdown",
   "id": "d2a6b4dc",
   "metadata": {},
   "source": [
    "#### Tokenize"
   ]
  },
  {
   "cell_type": "code",
   "execution_count": 7,
   "id": "503db0ad",
   "metadata": {},
   "outputs": [
    {
     "data": {
      "application/json": {
       "ascii": false,
       "bar_format": null,
       "colour": null,
       "elapsed": 0.005225419998168945,
       "initial": 0,
       "n": 0,
       "ncols": null,
       "nrows": null,
       "postfix": null,
       "prefix": "Map",
       "rate": null,
       "total": 3047,
       "unit": " examples",
       "unit_divisor": 1000,
       "unit_scale": false
      },
      "application/vnd.jupyter.widget-view+json": {
       "model_id": "b1c2910d02764209ac9e5653dbca8777",
       "version_major": 2,
       "version_minor": 0
      },
      "text/plain": [
       "Map:   0%|          | 0/3047 [00:00<?, ? examples/s]"
      ]
     },
     "metadata": {},
     "output_type": "display_data"
    },
    {
     "data": {
      "application/json": {
       "ascii": false,
       "bar_format": null,
       "colour": null,
       "elapsed": 0.0045261383056640625,
       "initial": 0,
       "n": 0,
       "ncols": null,
       "nrows": null,
       "postfix": null,
       "prefix": "Map",
       "rate": null,
       "total": 762,
       "unit": " examples",
       "unit_divisor": 1000,
       "unit_scale": false
      },
      "application/vnd.jupyter.widget-view+json": {
       "model_id": "580c940c87524e6585cdcddd3cb12842",
       "version_major": 2,
       "version_minor": 0
      },
      "text/plain": [
       "Map:   0%|          | 0/762 [00:00<?, ? examples/s]"
      ]
     },
     "metadata": {},
     "output_type": "display_data"
    },
    {
     "data": {
      "application/json": {
       "ascii": false,
       "bar_format": null,
       "colour": null,
       "elapsed": 0.004532337188720703,
       "initial": 0,
       "n": 0,
       "ncols": null,
       "nrows": null,
       "postfix": null,
       "prefix": "Map",
       "rate": null,
       "total": 1633,
       "unit": " examples",
       "unit_divisor": 1000,
       "unit_scale": false
      },
      "application/vnd.jupyter.widget-view+json": {
       "model_id": "411eea335482499faef47fd60f097cff",
       "version_major": 2,
       "version_minor": 0
      },
      "text/plain": [
       "Map:   0%|          | 0/1633 [00:00<?, ? examples/s]"
      ]
     },
     "metadata": {},
     "output_type": "display_data"
    },
    {
     "name": "stdout",
     "output_type": "stream",
     "text": [
      "{'test': Dataset({\n",
      "    features: ['id', 'label', 'tweet', 'input_ids', 'attention_mask', 'token_type_ids', 'labels'],\n",
      "    num_rows: 1633\n",
      "}),\n",
      " 'train': Dataset({\n",
      "    features: ['id', 'label', 'tweet', 'input_ids', 'attention_mask', 'token_type_ids', 'labels'],\n",
      "    num_rows: 3047\n",
      "}),\n",
      " 'validation': Dataset({\n",
      "    features: ['id', 'label', 'tweet', 'input_ids', 'attention_mask', 'token_type_ids', 'labels'],\n",
      "    num_rows: 762\n",
      "})}\n"
     ]
    }
   ],
   "source": [
    "def tokenize_fn(examples, tokenizer):\n",
    "    # X\n",
    "    inputs = tokenizer(examples['tweet'],\n",
    "        padding=\"max_length\", truncation=True, max_length=512,\n",
    "        return_tensors=\"pt\",\n",
    "    )\n",
    "\n",
    "    examples['input_ids'] = inputs['input_ids']\n",
    "    examples['attention_mask'] = inputs['attention_mask']\n",
    "    examples['token_type_ids'] = inputs['token_type_ids']\n",
    "\n",
    "    # y\n",
    "    examples['labels'] = torch.tensor(\n",
    "        examples[\"label\"])\n",
    "\n",
    "    return examples\n",
    "\n",
    "tokenizer = BertTokenizer.from_pretrained(\"bert-base-uncased\")\n",
    "dsets = dsets \\\n",
    "    .map(lambda x: tokenize_fn(x, tokenizer),\n",
    "        batched=True)\n",
    "pprint.pprint(dsets)"
   ]
  },
  {
   "cell_type": "code",
   "execution_count": 8,
   "id": "7e7962b3",
   "metadata": {},
   "outputs": [
    {
     "name": "stdout",
     "output_type": "stream",
     "text": [
      "[101, 1030, 5310, 1030, 5310, 2021, 2298, 2129, 13459, 2027, 2024, 2055, 1001, 7332, 24498, 6824, 2361, 2006, 1996, 4946, 1012, 2029, 2001, 1001, 8275, 1012, 2664, 8568, 1001, 5922, 9453, 2232, 1012, 1001, 10958, 2050, 29649, 102, 0, 0, 0, 0, 0, 0, 0, 0, 0, 0, 0, 0]\n",
      "[1, 1, 1, 1, 1, 1, 1, 1, 1, 1, 1, 1, 1, 1, 1, 1, 1, 1, 1, 1, 1, 1, 1, 1, 1, 1, 1, 1, 1, 1, 1, 1, 1, 1, 1, 1, 1, 1, 0, 0, 0, 0, 0, 0, 0, 0, 0, 0, 0, 0]\n",
      "1\n"
     ]
    }
   ],
   "source": [
    "print(dsets['train'][0]['input_ids'][:50])\n",
    "print(dsets['train'][0]['attention_mask'][:50])\n",
    "print(dsets['train'][0]['labels'])"
   ]
  },
  {
   "cell_type": "markdown",
   "id": "67b65b0b",
   "metadata": {},
   "source": [
    "# 3. Train BERT from scratch"
   ]
  },
  {
   "cell_type": "code",
   "execution_count": 9,
   "id": "9ec305e8",
   "metadata": {},
   "outputs": [],
   "source": [
    "config = BertConfig(num_labels=2)\n",
    "model = BertForSequenceClassification(config=config)"
   ]
  },
  {
   "cell_type": "markdown",
   "id": "4b6a42b8",
   "metadata": {},
   "source": [
    "#### Eval metrics"
   ]
  },
  {
   "cell_type": "code",
   "execution_count": 10,
   "id": "a649687f",
   "metadata": {},
   "outputs": [],
   "source": [
    "def compute_metrics(eval_pred, average='binary'):\n",
    "    predictions = np.argmax(eval_pred.predictions, axis=1)\n",
    "    labels = eval_pred.label_ids\n",
    "\n",
    "    # accuracy, precision, recall, f1-score\n",
    "    acc = accuracy_score(\n",
    "        y_true=labels, y_pred=predictions,\n",
    "        normalize=True)\n",
    "    r = recall_score(\n",
    "        y_true=labels, y_pred=predictions,\n",
    "        average=average, zero_division=0)\n",
    "    p = precision_score(\n",
    "        y_true=labels, y_pred=predictions,\n",
    "        average=average, zero_division=0)\n",
    "    f1 = f1_score(\n",
    "        y_true=labels, y_pred=predictions,\n",
    "        average=average, zero_division=0)\n",
    "\n",
    "    return {\n",
    "        \"accuracy\": acc,\n",
    "        \"precision\": p,\n",
    "        \"recall\": r,\n",
    "        \"f1\": f1 }"
   ]
  },
  {
   "cell_type": "markdown",
   "id": "f7514ad5",
   "metadata": {},
   "source": [
    "#### optimizer, scheduler, loss function"
   ]
  },
  {
   "cell_type": "code",
   "execution_count": 11,
   "id": "2cead4d1",
   "metadata": {},
   "outputs": [],
   "source": [
    "optimizer = torch.optim.AdamW(model.parameters(),\n",
    "    lr=1e-5,\n",
    "    weight_decay=0.01)\n",
    "scheduler = torch.optim.lr_scheduler.LinearLR(\n",
    "    optimizer=optimizer)\n",
    "\n",
    "criterion = torch.nn.CrossEntropyLoss()\n",
    "class Custom_Trainer(Trainer):\n",
    "    def compute_loss(self, model, inputs, return_outputs=False):\n",
    "        labels = inputs.pop(\"labels\")\n",
    "        outputs = model(**inputs)\n",
    "\n",
    "        loss = criterion(outputs.logits, labels)\n",
    "        return (loss, outputs) if return_outputs else loss"
   ]
  },
  {
   "cell_type": "markdown",
   "id": "2f85c412",
   "metadata": {},
   "source": [
    "#### Trainer Args"
   ]
  },
  {
   "cell_type": "code",
   "execution_count": 12,
   "id": "3ad10bfd",
   "metadata": {},
   "outputs": [],
   "source": [
    "batch_size = 16\n",
    "num_workers = 32\n",
    "num_epochs = 20\n",
    "output_dir = \"exp/bert-from-scratch/\"\n",
    "\n",
    "\n",
    "training_args = TrainingArguments(\n",
    "    output_dir=output_dir,\n",
    "    evaluation_strategy=\"steps\",\n",
    "    save_strategy=\"steps\",\n",
    "    save_total_limit=4,   # Only last ... models are saved. Older ones are deleted.\n",
    "    save_steps=50,         # Save checkpoints after ... steps\n",
    "    eval_steps=50,         # Evaluation happens every ... steps\n",
    "    logging_steps=50,\n",
    "    learning_rate=1e-5,\n",
    "    warmup_ratio=0.1,\n",
    "    per_device_train_batch_size=batch_size,\n",
    "    per_device_eval_batch_size=batch_size,\n",
    "    dataloader_num_workers=num_workers,\n",
    "    eval_accumulation_steps=4,\n",
    "    gradient_accumulation_steps=4,\n",
    "    num_train_epochs=num_epochs,\n",
    "    load_best_model_at_end=True,\n",
    "    metric_for_best_model=\"f1\",\n",
    "    seed=147,\n",
    "    push_to_hub=False,\n",
    ")"
   ]
  },
  {
   "cell_type": "markdown",
   "id": "72a83378",
   "metadata": {},
   "source": [
    "#### Setup log"
   ]
  },
  {
   "cell_type": "code",
   "execution_count": 13,
   "id": "cc40f02a",
   "metadata": {},
   "outputs": [],
   "source": [
    "from transformers import EarlyStoppingCallback, TrainerCallback"
   ]
  },
  {
   "cell_type": "code",
   "execution_count": 14,
   "id": "78f0c209",
   "metadata": {},
   "outputs": [],
   "source": [
    "log_dir = os.path.join(output_dir, \"log/\")\n",
    "if not os.path.exists(log_dir):\n",
    "    os.makedirs(log_dir)\n",
    "\n",
    "# from transformers.utils import logging\n",
    "# logging.set_verbosity_info()\n",
    "\n",
    "class PrinterCallback(TrainerCallback):\n",
    "    def __write_log(self, state):\n",
    "        train_log, eval_log = [], []\n",
    "\n",
    "        for e in state.log_history:\n",
    "            e_keys = set(e)\n",
    "            if \"loss\" in e_keys: train_log.append(e)\n",
    "            elif \"eval_loss\" in e_keys: eval_log.append(e)\n",
    "            elif \"train_runtime\" in e_keys:\n",
    "                with open(f\"{log_dir}/trainer_info.json\", 'w+', encoding='utf-8') as fin:\n",
    "                    json.dump(e, fin, ensure_ascii=False, indent=4)\n",
    "\n",
    "        if train_log != []:\n",
    "            train_log_df = pd.DataFrame.from_dict(train_log) \\\n",
    "                .sort_values(\"step\", ascending=True) \\\n",
    "                .reset_index(drop=True)\n",
    "            train_log_df.to_csv(f\"{log_dir}/log_trainset.csv\", index=False)\n",
    "\n",
    "        if eval_log != []:\n",
    "            eval_log_df = pd.DataFrame.from_dict(eval_log) \\\n",
    "                .sort_values(\"step\", ascending=True) \\\n",
    "                .reset_index(drop=True)\n",
    "            eval_log_df.to_csv(f\"{log_dir}/log_evalset.csv\", index=False)\n",
    "\n",
    "    def on_evaluate(self, args, state, control, logs=None, **kwargs):\n",
    "        '''Write log after every eval round'''\n",
    "        self.__write_log(state)\n",
    "    def on_train_end(self, args, state, control, logs=None, **kwargs):\n",
    "        '''Write log after training'''\n",
    "        self.__write_log(state)"
   ]
  },
  {
   "cell_type": "markdown",
   "id": "51a4f5a6",
   "metadata": {},
   "source": [
    "#### Train"
   ]
  },
  {
   "cell_type": "code",
   "execution_count": 15,
   "id": "ddccf1bd",
   "metadata": {},
   "outputs": [],
   "source": [
    "trainer = Custom_Trainer(\n",
    "    model=model,\n",
    "    args=training_args,\n",
    "    train_dataset=dsets['train'],\n",
    "    eval_dataset=dsets['validation'],\n",
    "    compute_metrics=compute_metrics,\n",
    "    optimizers=(optimizer, scheduler),\n",
    "    callbacks=[\n",
    "        EarlyStoppingCallback(\n",
    "            early_stopping_patience=5,\n",
    "            early_stopping_threshold=1.0),\n",
    "        PrinterCallback()]\n",
    ")"
   ]
  },
  {
   "cell_type": "code",
   "execution_count": 16,
   "id": "d7469956",
   "metadata": {},
   "outputs": [
    {
     "data": {
      "text/html": [
       "\n",
       "    <div>\n",
       "      \n",
       "      <progress value='240' max='240' style='width:300px; height:20px; vertical-align: middle;'></progress>\n",
       "      [240/240 15:17, Epoch 20/20]\n",
       "    </div>\n",
       "    <table border=\"1\" class=\"dataframe\">\n",
       "  <thead>\n",
       " <tr style=\"text-align: left;\">\n",
       "      <th>Step</th>\n",
       "      <th>Training Loss</th>\n",
       "      <th>Validation Loss</th>\n",
       "      <th>Accuracy</th>\n",
       "      <th>Precision</th>\n",
       "      <th>Recall</th>\n",
       "      <th>F1</th>\n",
       "    </tr>\n",
       "  </thead>\n",
       "  <tbody>\n",
       "    <tr>\n",
       "      <td>50</td>\n",
       "      <td>0.612600</td>\n",
       "      <td>0.530887</td>\n",
       "      <td>0.741470</td>\n",
       "      <td>0.791045</td>\n",
       "      <td>0.506369</td>\n",
       "      <td>0.617476</td>\n",
       "    </tr>\n",
       "    <tr>\n",
       "      <td>100</td>\n",
       "      <td>0.444400</td>\n",
       "      <td>0.467825</td>\n",
       "      <td>0.766404</td>\n",
       "      <td>0.673469</td>\n",
       "      <td>0.840764</td>\n",
       "      <td>0.747875</td>\n",
       "    </tr>\n",
       "    <tr>\n",
       "      <td>150</td>\n",
       "      <td>0.342500</td>\n",
       "      <td>0.429586</td>\n",
       "      <td>0.801837</td>\n",
       "      <td>0.718499</td>\n",
       "      <td>0.853503</td>\n",
       "      <td>0.780204</td>\n",
       "    </tr>\n",
       "    <tr>\n",
       "      <td>200</td>\n",
       "      <td>0.266200</td>\n",
       "      <td>0.414967</td>\n",
       "      <td>0.832021</td>\n",
       "      <td>0.796178</td>\n",
       "      <td>0.796178</td>\n",
       "      <td>0.796178</td>\n",
       "    </tr>\n",
       "  </tbody>\n",
       "</table><p>"
      ],
      "text/plain": [
       "<IPython.core.display.HTML object>"
      ]
     },
     "metadata": {},
     "output_type": "display_data"
    }
   ],
   "source": [
    "trainer.train()\n",
    "\n",
    "# Save best model\n",
    "best_ckpts_path = os.path.join(output_dir, \"checkpoint-best\")\n",
    "trainer.save_model(best_ckpts_path)"
   ]
  },
  {
   "cell_type": "markdown",
   "id": "916b1321",
   "metadata": {},
   "source": [
    "#### Evaluate"
   ]
  },
  {
   "cell_type": "code",
   "execution_count": 17,
   "id": "ee834e91",
   "metadata": {},
   "outputs": [
    {
     "data": {
      "text/html": [
       "\n",
       "    <div>\n",
       "      \n",
       "      <progress value='12' max='12' style='width:300px; height:20px; vertical-align: middle;'></progress>\n",
       "      [12/12 00:03]\n",
       "    </div>\n",
       "    "
      ],
      "text/plain": [
       "<IPython.core.display.HTML object>"
      ]
     },
     "metadata": {},
     "output_type": "display_data"
    },
    {
     "name": "stdout",
     "output_type": "stream",
     "text": [
      "{'epoch': 20.0,\n",
      " 'eval_accuracy': 0.8320209973753281,\n",
      " 'eval_f1': 0.7961783439490446,\n",
      " 'eval_loss': 0.4149673879146576,\n",
      " 'eval_precision': 0.7961783439490446,\n",
      " 'eval_recall': 0.7961783439490446,\n",
      " 'eval_runtime': 6.3375,\n",
      " 'eval_samples_per_second': 120.237,\n",
      " 'eval_steps_per_second': 1.894}\n"
     ]
    }
   ],
   "source": [
    "eval_res = trainer.evaluate()\n",
    "pprint.pprint(eval_res)"
   ]
  },
  {
   "cell_type": "markdown",
   "id": "d4176642",
   "metadata": {},
   "source": [
    "# 4. Inference"
   ]
  },
  {
   "cell_type": "code",
   "execution_count": 18,
   "id": "ee936a82",
   "metadata": {},
   "outputs": [],
   "source": [
    "ckpt_fpath = \"exp/bert-from-scratch/checkpoint-best\"\n",
    "\n",
    "model = BertForSequenceClassification.from_pretrained(ckpt_fpath,\n",
    "    num_labels=2)"
   ]
  },
  {
   "cell_type": "code",
   "execution_count": 19,
   "id": "5987c61d",
   "metadata": {},
   "outputs": [
    {
     "name": "stderr",
     "output_type": "stream",
     "text": [
      "/home/dangkhoadl/anaconda3/envs/dl-audio/lib/python3.8/site-packages/torch/nn/parallel/_functions.py:68: UserWarning: Was asked to gather along dimension 0, but all input tensors were scalars; will instead unsqueeze and return a vector.\n",
      "  warnings.warn('Was asked to gather along dimension 0, but all '\n"
     ]
    },
    {
     "data": {
      "text/html": [],
      "text/plain": [
       "<IPython.core.display.HTML object>"
      ]
     },
     "metadata": {},
     "output_type": "display_data"
    },
    {
     "name": "stdout",
     "output_type": "stream",
     "text": [
      "preds.shape = (1633, 2)\n",
      "y_preds.shape = (1633,)\n"
     ]
    }
   ],
   "source": [
    "# Inference\n",
    "test_trainer = Trainer(model)\n",
    "preds, _ , _ = test_trainer.predict(dsets['test'])\n",
    "print(f\"{preds.shape = }\")\n",
    "\n",
    "# Prediction\n",
    "y_preds = np.argmax(preds, axis=1).astype(int)\n",
    "print(f\"{y_preds.shape = }\")"
   ]
  },
  {
   "cell_type": "code",
   "execution_count": 20,
   "id": "89256c48",
   "metadata": {},
   "outputs": [
    {
     "data": {
      "text/html": [
       "<div>\n",
       "<style scoped>\n",
       "    .dataframe tbody tr th:only-of-type {\n",
       "        vertical-align: middle;\n",
       "    }\n",
       "\n",
       "    .dataframe tbody tr th {\n",
       "        vertical-align: top;\n",
       "    }\n",
       "\n",
       "    .dataframe thead th {\n",
       "        text-align: right;\n",
       "    }\n",
       "</style>\n",
       "<table border=\"1\" class=\"dataframe\">\n",
       "  <thead>\n",
       "    <tr style=\"text-align: right;\">\n",
       "      <th></th>\n",
       "      <th>id</th>\n",
       "      <th>label</th>\n",
       "      <th>tweet</th>\n",
       "      <th>Class_0_score</th>\n",
       "      <th>Class_1_score</th>\n",
       "      <th>Prediction</th>\n",
       "    </tr>\n",
       "  </thead>\n",
       "  <tbody>\n",
       "    <tr>\n",
       "      <th>0</th>\n",
       "      <td>13539</td>\n",
       "      <td>1</td>\n",
       "      <td>black girl porn teen virgin sex pictures</td>\n",
       "      <td>-1.907104</td>\n",
       "      <td>2.276661</td>\n",
       "      <td>1</td>\n",
       "    </tr>\n",
       "    <tr>\n",
       "      <th>1</th>\n",
       "      <td>3168</td>\n",
       "      <td>1</td>\n",
       "      <td>@user .@user what a douchebag. like his dad!  ...</td>\n",
       "      <td>-1.815158</td>\n",
       "      <td>1.950696</td>\n",
       "      <td>1</td>\n",
       "    </tr>\n",
       "    <tr>\n",
       "      <th>2</th>\n",
       "      <td>30372</td>\n",
       "      <td>0</td>\n",
       "      <td>, 30 rock, tracy jordan</td>\n",
       "      <td>-0.157196</td>\n",
       "      <td>0.207884</td>\n",
       "      <td>1</td>\n",
       "    </tr>\n",
       "    <tr>\n",
       "      <th>3</th>\n",
       "      <td>11365</td>\n",
       "      <td>0</td>\n",
       "      <td>back to schoolð¤ð   #dnhs ð</td>\n",
       "      <td>2.991613</td>\n",
       "      <td>-3.127951</td>\n",
       "      <td>0</td>\n",
       "    </tr>\n",
       "    <tr>\n",
       "      <th>4</th>\n",
       "      <td>22540</td>\n",
       "      <td>0</td>\n",
       "      <td>yes these days they call stuff like this journ...</td>\n",
       "      <td>1.853733</td>\n",
       "      <td>-1.899091</td>\n",
       "      <td>0</td>\n",
       "    </tr>\n",
       "  </tbody>\n",
       "</table>\n",
       "</div>"
      ],
      "text/plain": [
       "      id  label                                              tweet  \\\n",
       "0  13539      1          black girl porn teen virgin sex pictures    \n",
       "1   3168      1  @user .@user what a douchebag. like his dad!  ...   \n",
       "2  30372      0                          , 30 rock, tracy jordan     \n",
       "3  11365      0                back to schoolð¤ð   #dnhs ð   \n",
       "4  22540      0  yes these days they call stuff like this journ...   \n",
       "\n",
       "   Class_0_score  Class_1_score  Prediction  \n",
       "0      -1.907104       2.276661           1  \n",
       "1      -1.815158       1.950696           1  \n",
       "2      -0.157196       0.207884           1  \n",
       "3       2.991613      -3.127951           0  \n",
       "4       1.853733      -1.899091           0  "
      ]
     },
     "execution_count": 20,
     "metadata": {},
     "output_type": "execute_result"
    }
   ],
   "source": [
    "# scores\n",
    "num_classes = 2\n",
    "scores = pd.DataFrame(\n",
    "    data=preds,\n",
    "    columns=[ f\"Class_{c}_score\" for c in (np.arange(num_classes)) ])\n",
    "\n",
    "# Prediction\n",
    "y_preds = pd.DataFrame(\n",
    "    data=y_preds,\n",
    "    columns=[ 'Prediction' ])\n",
    "\n",
    "# out\n",
    "test_df = pd.concat(\n",
    "    [test_df.reset_index(drop=True), scores, y_preds], axis=1)\n",
    "test_df.head()"
   ]
  },
  {
   "cell_type": "code",
   "execution_count": 21,
   "id": "e74e6a15",
   "metadata": {},
   "outputs": [
    {
     "name": "stdout",
     "output_type": "stream",
     "text": [
      "Test Accuracy: 0.8315982853643601\n",
      "Test Precision: 0.8015151515151515\n",
      "Test Recall: 0.7860326894502229\n",
      "Test F1 score: 0.7936984246061515\n"
     ]
    }
   ],
   "source": [
    "def calculate_accuracy(df, num_classes=2, average='binary'):\n",
    "    assert average in [None, 'binary', 'micro', 'macro', 'weighted']\n",
    "    y_test = df['label'].values\n",
    "    y_pred = df.loc[:, [f'Class_{c}_score' for c in range(num_classes)]] \\\n",
    "        .to_numpy().argmax(axis=1)\n",
    "\n",
    "    # accuracy, precision, recall, f1-score\n",
    "    acc = accuracy_score(\n",
    "        y_true=y_test,\n",
    "        y_pred=y_pred, normalize=True)\n",
    "\n",
    "    p = precision_score(\n",
    "        y_true=y_test,\n",
    "        y_pred=y_pred, average=average)\n",
    "\n",
    "    r = recall_score(\n",
    "        y_true=y_test,\n",
    "        y_pred=y_pred, average=average)\n",
    "\n",
    "    f1 = f1_score(\n",
    "        y_true=y_test,\n",
    "        y_pred=y_pred, average=average)\n",
    "\n",
    "    return acc, p, r, f1\n",
    "\n",
    "acc, p, r, f1 = calculate_accuracy(test_df, num_classes=2)\n",
    "print(f\"Test Accuracy: {acc}\")\n",
    "print(f\"Test Precision: {p}\")\n",
    "print(f\"Test Recall: {r}\")\n",
    "print(f\"Test F1 score: {f1}\")"
   ]
  }
 ],
 "metadata": {
  "kernelspec": {
   "display_name": "dl-audio",
   "language": "python",
   "name": "python3"
  },
  "language_info": {
   "codemirror_mode": {
    "name": "ipython",
    "version": 3
   },
   "file_extension": ".py",
   "mimetype": "text/x-python",
   "name": "python",
   "nbconvert_exporter": "python",
   "pygments_lexer": "ipython3",
   "version": "3.8.17"
  }
 },
 "nbformat": 4,
 "nbformat_minor": 5
}
