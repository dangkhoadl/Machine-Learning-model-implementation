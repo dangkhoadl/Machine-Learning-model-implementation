{
 "cells": [
  {
   "cell_type": "code",
   "execution_count": 1,
   "metadata": {},
   "outputs": [],
   "source": [
    "import numpy as np\n",
    "import matplotlib.pyplot as plt"
   ]
  },
  {
   "cell_type": "markdown",
   "metadata": {},
   "source": [
    "# 1. Dataset\n",
    "- Predict housing price based on size, num of bedrooms, num of floors, age of home\n",
    "\n",
    "| Size (sqft) | Number of Bedrooms  | Number of floors | Age of  Home | Price (1000s dollars)  |   \n",
    "| ----------------| ------------------- |----------------- |--------------|-------------- |  \n",
    "| 2104            | 5                   | 1                | 45           | 460           |  \n",
    "| 1416            | 3                   | 2                | 40           | 232           |  \n",
    "| 852             | 2                   | 1                | 35           | 178           | "
   ]
  },
  {
   "cell_type": "code",
   "execution_count": 2,
   "metadata": {},
   "outputs": [],
   "source": [
    "def load_data(f_path):\n",
    "    data = np.loadtxt(f_path, delimiter=',', skiprows=1)\n",
    "    X = data[:,:4]\n",
    "    y = data[:,4]\n",
    "    return X, y"
   ]
  },
  {
   "cell_type": "code",
   "execution_count": 3,
   "metadata": {},
   "outputs": [
    {
     "name": "stdout",
     "output_type": "stream",
     "text": [
      "X_train.shape = (99, 4)\n",
      "y_train.shape = (99,)\n"
     ]
    }
   ],
   "source": [
    "X_train, y_train = load_data('datasets/houses.txt')\n",
    "print(f'{X_train.shape = }')\n",
    "print(f'{y_train.shape = }')"
   ]
  },
  {
   "cell_type": "markdown",
   "metadata": {},
   "source": [
    "#### Analysis"
   ]
  },
  {
   "cell_type": "code",
   "execution_count": 4,
   "metadata": {},
   "outputs": [
    {
     "data": {
      "image/png": "[encoded data removed]",
      "text/plain": [
       "<Figure size 864x216 with 4 Axes>"
      ]
     },
     "metadata": {
      "needs_background": "light"
     },
     "output_type": "display_data"
    }
   ],
   "source": [
    "X_features = ['size(sqft)', 'bedrooms', 'floors', 'age']\n",
    "\n",
    "fig,ax=plt.subplots(1, 4, figsize=(12, 3), sharey=True)\n",
    "for i in range(len(ax)):\n",
    "    ax[i].scatter(X_train[:,i],y_train)\n",
    "    ax[i].set_xlabel(X_features[i])\n",
    "ax[0].set_ylabel(\"Price (1000's)\")\n",
    "plt.show()\n",
    "\n",
    "# We can see that\n",
    "#     size and house age have strong influence on house price\n",
    "#     num of bedrooms and num of floors have weak influence"
   ]
  },
  {
   "cell_type": "markdown",
   "metadata": {},
   "source": [
    "#### Feature scaling - Normalization\n",
    "\n",
    "$$x^{(i)}_j = \\dfrac{x^{(i)}_j - \\mu_j}{\\sigma_j}$$ \n",
    "\n",
    "- In which\n",
    "    - $(i)$: data point i-th\n",
    "    - $j$: feature j-th\n",
    "\n",
    "$$\n",
    "\\begin{align}\n",
    "\\mu_j &= \\frac{1}{m} \\sum_{i=0}^{m-1} x^{(i)}_j \\\\\n",
    "\\sigma^2_j &= \\frac{1}{m} \\sum_{i=0}^{m-1} (x^{(i)}_j - \\mu_j)^2 \n",
    "\\end{align}\n",
    "$$"
   ]
  },
  {
   "cell_type": "code",
   "execution_count": 5,
   "metadata": {},
   "outputs": [],
   "source": [
    "from sklearn.preprocessing import StandardScaler\n",
    "z_norm_scaler = StandardScaler()"
   ]
  },
  {
   "cell_type": "code",
   "execution_count": 6,
   "metadata": {},
   "outputs": [],
   "source": [
    "X_train = z_norm_scaler.fit_transform(X_train)"
   ]
  },
  {
   "cell_type": "markdown",
   "metadata": {},
   "source": [
    "# 2. Gradient descent from scratch"
   ]
  },
  {
   "cell_type": "code",
   "execution_count": 7,
   "metadata": {},
   "outputs": [],
   "source": [
    "import torch\n",
    "from torch.utils.data import TensorDataset, DataLoader"
   ]
  },
  {
   "cell_type": "code",
   "execution_count": 8,
   "metadata": {},
   "outputs": [],
   "source": [
    "def criterion(y_hat, y):\n",
    "    '''\n",
    "    MSE cost\n",
    "    '''\n",
    "    return 0.5 * torch.mean(torch.pow(y_hat - y, 2))\n",
    "\n",
    "class LR_GradDescent():\n",
    "    def __init__(self, n):\n",
    "        \"\"\"\n",
    "        w (torch tensor (n,))  : model parameters  \n",
    "        b (torch scalar)       : model parameter\n",
    "        \"\"\"\n",
    "        self.w = torch.rand((n), requires_grad=True, dtype=torch.float).cpu()\n",
    "        self.b = torch.rand((1), requires_grad=True, dtype=torch.float).cpu()\n",
    "\n",
    "    def __forward(self, X):\n",
    "        \"\"\"\n",
    "        Args:\n",
    "            X (torch tensor (m,n)): Data, m examples with n features\n",
    "        Returns:\n",
    "            y (torch tensor (m))\n",
    "        \"\"\"\n",
    "        return X @ self.w + self.b\n",
    "\n",
    "    def fit(self, X, y,\n",
    "        batch_size=16, alpha=1e-2, num_iters=1000):\n",
    "\n",
    "        # Dataset\n",
    "        dset = TensorDataset(\n",
    "            torch.Tensor(X),\n",
    "            torch.Tensor(y))\n",
    "\n",
    "        # Dataloader\n",
    "        dloader = DataLoader(\n",
    "            dataset=dset,\n",
    "            batch_size=batch_size)\n",
    "\n",
    "        J_hist = []\n",
    "        for i in range(num_iters):\n",
    "            cost = 0\n",
    "            for b, batch in enumerate(dloader):\n",
    "                Xb, yb = batch\n",
    "                # Reset grad = 0\n",
    "                if self.w.grad is not None: \n",
    "                    self.w.grad.data.zero_()\n",
    "                    self.b.grad.data.zero_()\n",
    "                \n",
    "                # Forward   \n",
    "                yb_hat = self.__forward(Xb)\n",
    "\n",
    "                # train loss\n",
    "                cost_b = criterion(yb_hat, yb)\n",
    "                cost += cost_b.item()\n",
    "\n",
    "                # Back Propagation\n",
    "                cost_b.backward()\n",
    "                self.w.data -= alpha * self.w.grad.data\n",
    "                self.b.data -= alpha * self.b.grad.data\n",
    "\n",
    "            # Log\n",
    "            J_hist.append(cost)\n",
    "            if i % 100 == 0 or i == num_iters-1:\n",
    "                print(f\"Iteration [{i}] : Cost = {cost:.3f}\")\n",
    "\n",
    "        return J_hist\n",
    "\n",
    "    def eval(self, X):\n",
    "        with torch.no_grad():\n",
    "            y_hat = self.__forward(X) \n",
    "        return y_hat"
   ]
  },
  {
   "cell_type": "code",
   "execution_count": 9,
   "metadata": {
    "scrolled": false
   },
   "outputs": [
    {
     "name": "stdout",
     "output_type": "stream",
     "text": [
      "Iteration [0] : Cost = 370531.637\n",
      "Iteration [100] : Cost = 1455.446\n",
      "Iteration [200] : Cost = 1455.446\n",
      "Iteration [300] : Cost = 1455.446\n",
      "Iteration [400] : Cost = 1455.446\n",
      "Iteration [500] : Cost = 1455.446\n",
      "Iteration [600] : Cost = 1455.446\n",
      "Iteration [700] : Cost = 1455.446\n",
      "Iteration [800] : Cost = 1455.446\n",
      "Iteration [900] : Cost = 1455.446\n",
      "Iteration [999] : Cost = 1455.446\n"
     ]
    }
   ],
   "source": [
    "lr = LR_GradDescent(n=X_train.shape[1])\n",
    "\n",
    "J_hist = lr.fit(X_train, y_train,\n",
    "    batch_size=16, alpha=5e-2, num_iters=1000)"
   ]
  },
  {
   "cell_type": "code",
   "execution_count": 10,
   "metadata": {},
   "outputs": [
    {
     "data": {
      "image/png": "[encoded data removed]",
      "text/plain": [
       "<Figure size 864x288 with 2 Axes>"
      ]
     },
     "metadata": {
      "needs_background": "light"
     },
     "output_type": "display_data"
    }
   ],
   "source": [
    "fig, (ax1, ax2) = plt.subplots(1, 2, constrained_layout=True, figsize=(12,4))\n",
    "\n",
    "ax1.plot(J_hist[:10])\n",
    "ax2.plot(10 + np.arange(len(J_hist[10:])), J_hist[10:])\n",
    "ax1.set_title(\"Cost vs. iteration(start)\");  ax2.set_title(\"Cost vs. iteration (end)\")\n",
    "ax1.set_ylabel('Cost')            ;  ax2.set_ylabel('Cost')\n",
    "ax1.set_xlabel('iteration step')  ;  ax2.set_xlabel('iteration step')\n",
    "plt.show()"
   ]
  },
  {
   "cell_type": "markdown",
   "metadata": {},
   "source": [
    "# 3. Inference"
   ]
  },
  {
   "cell_type": "markdown",
   "metadata": {},
   "source": [
    "#### Inference"
   ]
  },
  {
   "cell_type": "code",
   "execution_count": 11,
   "metadata": {},
   "outputs": [
    {
     "name": "stdout",
     "output_type": "stream",
     "text": [
      "y[24] = 304.0, y_hat[24] = tensor([295.2332])\n",
      "y[3] = 540.0, y_hat[3] = tensor([489.6449])\n",
      "y[56] = 350.0, y_hat[56] = tensor([335.5042])\n"
     ]
    }
   ],
   "source": [
    "np.random.seed(3)\n",
    "for x in range(3):\n",
    "    i = np.random.randint(0, X_train.shape[0])\n",
    "    y_hat = lr.eval(torch.tensor(X_train[i], dtype=torch.float))\n",
    "    print(f'y[{i}] = {y_train[i]}, y_hat[{i}] = {y_hat}')"
   ]
  },
  {
   "cell_type": "markdown",
   "metadata": {},
   "source": [
    "#### R2 Score"
   ]
  },
  {
   "cell_type": "code",
   "execution_count": 12,
   "metadata": {},
   "outputs": [
    {
     "name": "stdout",
     "output_type": "stream",
     "text": [
      "R2 = 0.959\n"
     ]
    }
   ],
   "source": [
    "from sklearn.metrics import r2_score\n",
    "\n",
    "y_hat = lr.eval(torch.tensor(X_train, dtype=torch.float))\n",
    "r2 = r2_score(\n",
    "    y_true=y_train,\n",
    "    y_pred=y_hat)\n",
    "print(f'R2 = {r2:.3f}')"
   ]
  }
 ],
 "metadata": {
  "kernelspec": {
   "display_name": "Python 3.8",
   "language": "python",
   "name": "py38"
  },
  "language_info": {
   "codemirror_mode": {
    "name": "ipython",
    "version": 3
   },
   "file_extension": ".py",
   "mimetype": "text/x-python",
   "name": "python",
   "nbconvert_exporter": "python",
   "pygments_lexer": "ipython3",
   "version": "3.8.13"
  }
 },
 "nbformat": 4,
 "nbformat_minor": 4
}
