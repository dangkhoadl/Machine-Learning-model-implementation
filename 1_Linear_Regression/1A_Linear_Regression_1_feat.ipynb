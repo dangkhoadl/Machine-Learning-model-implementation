{
 "cells": [
  {
   "cell_type": "code",
   "execution_count": 1,
   "metadata": {},
   "outputs": [],
   "source": [
    "import numpy as np\n",
    "import matplotlib.pyplot as plt\n",
    "from unit_tests.Linear_Regression_1_feat import compute_cost_test, compute_gradient_test"
   ]
  },
  {
   "cell_type": "markdown",
   "metadata": {},
   "source": [
    "# 1. Dataset\n",
    "- Predict company profit based on city population\n",
    "\n",
    "| Population in 10,000 (float) | Profit in \\$10,000 (float) |\n",
    "|------------------------------|---------------------------|\n",
    "| $x^{(i)}$                          | $y^{(i)}$                       |"
   ]
  },
  {
   "cell_type": "code",
   "execution_count": 2,
   "metadata": {},
   "outputs": [],
   "source": [
    "def load_data(f_path):\n",
    "    data = np.loadtxt(f_path, delimiter=',')\n",
    "    X = data[:,0]\n",
    "    y = data[:,1]\n",
    "    return X, y"
   ]
  },
  {
   "cell_type": "code",
   "execution_count": 3,
   "metadata": {},
   "outputs": [
    {
     "name": "stdout",
     "output_type": "stream",
     "text": [
      "x_train.shape = (97,)\n",
      "y_train.shape = (97,)\n",
      "\n",
      "x_train[:5] = array([6.1101, 5.5277, 8.5186, 7.0032, 5.8598])\n",
      "y_train[:5] = array([17.592 ,  9.1302, 13.662 , 11.854 ,  6.8233])\n"
     ]
    }
   ],
   "source": [
    "x_train, y_train = load_data('datasets/ex1data1.txt')\n",
    "print(f'{x_train.shape = }')\n",
    "print(f'{y_train.shape = }')\n",
    "print()\n",
    "print(f'{x_train[:5] = }')\n",
    "print(f'{y_train[:5] = }')"
   ]
  },
  {
   "cell_type": "code",
   "execution_count": 4,
   "metadata": {},
   "outputs": [
    {
     "data": {
      "image/png": "[encoded data removed]",
      "text/plain": [
       "<Figure size 432x288 with 1 Axes>"
      ]
     },
     "metadata": {
      "needs_background": "light"
     },
     "output_type": "display_data"
    }
   ],
   "source": [
    "plt.scatter(x_train, y_train, marker='x', c='r') \n",
    "\n",
    "plt.title(\"Profits vs. Population per city\")\n",
    "plt.ylabel('Profit in $10,000')\n",
    "plt.xlabel('Population of City in 10,000s')\n",
    "plt.show()"
   ]
  },
  {
   "cell_type": "markdown",
   "metadata": {},
   "source": [
    "# 2. Model\n",
    "#### Notation\n",
    "\n",
    "$$x^{(i)}$$\n",
    "+ $(i)$: data point i-th (m data points)\n",
    "\n",
    "#### Linear Regression\n",
    "\n",
    "$$\\hat{y}^{(i)} = f_{w,b}(x^{(i)}) = wx^{(i)} + b$$"
   ]
  },
  {
   "cell_type": "code",
   "execution_count": 5,
   "metadata": {},
   "outputs": [],
   "source": [
    "def f(x, w, b):\n",
    "    \"\"\"\n",
    "    predict using linear regression\n",
    "\n",
    "    Args:\n",
    "        x (ndarray): Shape (m,) example with 1 features\n",
    "        w (scalar): model parameters   \n",
    "        b (scalar): model parameter\n",
    "    Returns:\n",
    "        y_hat: predict, Shape (m,)\n",
    "    \"\"\"\n",
    "    return w*x + b"
   ]
  },
  {
   "cell_type": "markdown",
   "metadata": {},
   "source": [
    "# 3. Cost function"
   ]
  },
  {
   "cell_type": "markdown",
   "metadata": {},
   "source": [
    "#### MSE Cost function\n",
    "\n",
    "$$\\begin{split}\n",
    "    J(w,b) &= \\frac{1}{2m} \\sum\\limits_{i = 0}^{m-1} (\\hat{y}^{(i)} - y^{(i)})^2 \\\\\n",
    "        &= \\frac{1}{2m} \\sum\\limits_{i = 0}^{m-1} (f_{w,b}(x^{(i)}) - y^{(i)})^2 \n",
    "\\end{split}$$ \n",
    "\n",
    "- which:\n",
    "    + $m$: dataset size"
   ]
  },
  {
   "cell_type": "code",
   "execution_count": 6,
   "metadata": {},
   "outputs": [
    {
     "name": "stdout",
     "output_type": "stream",
     "text": [
      "\u001b[92mAll tests passed!\n"
     ]
    }
   ],
   "source": [
    "# Method 1: Loop\n",
    "def compute_cost(x, y, w, b): \n",
    "    \"\"\"\n",
    "    Computes the cost function for linear regression.\n",
    "\n",
    "    Args:\n",
    "        x (ndarray): Shape (m,) Input to the model (Population of cities) \n",
    "        y (ndarray): Shape (m,) Label (Actual profits for the cities)\n",
    "        w, b (scalar): Parameters of the model\n",
    "\n",
    "    Returns\n",
    "        total_cost (float): The cost of using w,b as the parameters for linear regression\n",
    "               to fit the data points in x and y\n",
    "    \"\"\"\n",
    "\n",
    "    # number of training examples\n",
    "    m = x.shape[0]\n",
    "\n",
    "    cost = 0.0\n",
    "    for i in range(m):\n",
    "        y_hat_i = f(x[i], w, b)\n",
    "        cost += (y_hat_i - y[i])**2\n",
    "\n",
    "    return cost/(2*m)\n",
    "\n",
    "# TEST\n",
    "compute_cost_test(compute_cost)"
   ]
  },
  {
   "cell_type": "code",
   "execution_count": 7,
   "metadata": {},
   "outputs": [
    {
     "name": "stdout",
     "output_type": "stream",
     "text": [
      "\u001b[92mAll tests passed!\n"
     ]
    }
   ],
   "source": [
    "# Method 2: Vectorwise\n",
    "def compute_cost_vector_wise(x, y, w, b):\n",
    "    \"\"\"\n",
    "    Computes the gradient for linear regression\n",
    "     Args:\n",
    "      x (ndarray (m,)): Data, m examples with 1 features\n",
    "      y (ndarray (m,)) : target values\n",
    "      w (ndarray (n,)) : model parameters  \n",
    "      b (scalar)       : model parameter\n",
    "      verbose : (Boolean) If true, print out intermediate value f_wb\n",
    "    Returns\n",
    "      cost: (scalar)\n",
    "    \"\"\"\n",
    "    m = x.shape[0]\n",
    "\n",
    "    # calculate y_hat for all examples.\n",
    "    y_hat = f(x, w, b)\n",
    "\n",
    "    # calculate cost\n",
    "    total_cost = (1/(2*m)) * np.sum((y_hat-y)**2)\n",
    "\n",
    "    return total_cost\n",
    "\n",
    "# TEST\n",
    "compute_cost_test(compute_cost_vector_wise)"
   ]
  },
  {
   "cell_type": "markdown",
   "metadata": {},
   "source": [
    "# 4. Gradient\n",
    "#### Gradient of cost function\n",
    "$$\\begin{split}\n",
    "\\frac{\\partial J(w,b)}{\\partial w}  &= \\frac{\\partial \\left( \\frac{1}{2m} \\sum\\limits_{i = 0}^{m-1} (wx^{(i)} + b - y^{(i)})^2 \\right)}{\\partial w} \\\\\n",
    "     &= \\frac{1}{m} \\sum\\limits_{i = 0}^{m-1} (wx^{(i)} + b - y^{(i)})  x^{(i)} \\\\\n",
    "     &= \\frac{1}{m} \\sum\\limits_{i = 0}^{m-1} (\\hat{y}^{(i)} - y^{(i)})  x^{(i)} \\\\\n",
    "\\end{split}$$\n",
    "\n",
    "$$\\begin{split}\n",
    "\\frac{\\partial J(w,b)}{\\partial b}  &= \\frac{\\partial \\left( \\frac{1}{2m} \\sum\\limits_{i = 0}^{m-1} (wx^{(i)} + b - y^{(i)})^2 \\right)}{\\partial b} \\\\\n",
    "     &= \\frac{1}{m} \\sum\\limits_{i = 0}^{m-1} (wx^{(i)} + b - y^{(i)}) \\\\\n",
    "     &= \\frac{1}{m} \\sum\\limits_{i = 0}^{m-1} (\\hat{y}^{(i)} - y^{(i)}) \\\\\n",
    "\\end{split}$$\n",
    "\n",
    "\n",
    "#### Update w, b\n",
    "+ $\\alpha$: Learning rate\n",
    "\n",
    "$$\\text{repeat until convergence: } \\\\\n",
    "\\begin{cases}\n",
    "    w &= w -  \\alpha \\frac{\\partial J(w,b)}{\\partial w} \\\\\n",
    "    b &= b -  \\alpha \\frac{\\partial J(w,b)}{\\partial b}\n",
    "\\end{cases}$$"
   ]
  },
  {
   "cell_type": "code",
   "execution_count": 8,
   "metadata": {},
   "outputs": [
    {
     "name": "stdout",
     "output_type": "stream",
     "text": [
      "Using X with shape (4, 1)\n",
      "\u001b[92mAll tests passed!\n"
     ]
    }
   ],
   "source": [
    "# Method 1: Loop\n",
    "def compute_gradient(x, y, w, b): \n",
    "    \"\"\"\n",
    "    Computes the gradient for linear regression \n",
    "    Args:\n",
    "      x (ndarray (m,)): Data, m examples \n",
    "      y (ndarray (m,)): target values\n",
    "      w,b (scalar)    : model parameters  \n",
    "    Returns\n",
    "      dj_dw (scalar): The gradient of the cost w.r.t. the parameters w\n",
    "      dj_db (scalar): The gradient of the cost w.r.t. the parameter b     \n",
    "     \"\"\"\n",
    "    \n",
    "    # Number of training examples\n",
    "    m = x.shape[0]\n",
    "\n",
    "    # Compute Grad\n",
    "    dj_dw = 0\n",
    "    dj_db = 0\n",
    "    for i in range(m):  \n",
    "        y_hat_i = f(x[i], w, b) \n",
    "\n",
    "        dj_dw += (y_hat_i - y[i]) * x[i]\n",
    "        dj_db += y_hat_i - y[i]\n",
    "\n",
    "    return dj_dw / m, dj_db / m\n",
    "\n",
    "# TEST\n",
    "compute_gradient_test(compute_gradient)"
   ]
  },
  {
   "cell_type": "code",
   "execution_count": 9,
   "metadata": {},
   "outputs": [
    {
     "name": "stdout",
     "output_type": "stream",
     "text": [
      "Using X with shape (4, 1)\n",
      "\u001b[92mAll tests passed!\n"
     ]
    }
   ],
   "source": [
    "# Method 2: Vectorwise\n",
    "def compute_gradient_vector_wise(x, y, w, b): \n",
    "    \"\"\"\n",
    "    Computes the gradient for linear regression \n",
    "    Args:\n",
    "      x (ndarray (m,)): Data, m examples \n",
    "      y (ndarray (m,)): target values\n",
    "      w,b (scalar)    : model parameters  \n",
    "    Returns\n",
    "      dj_dw (scalar): The gradient of the cost w.r.t. the parameters w\n",
    "      dj_db (scalar): The gradient of the cost w.r.t. the parameter b     \n",
    "     \"\"\"\n",
    "    \n",
    "    # Number of training examples\n",
    "    m = x.shape[0]\n",
    "    \n",
    "    # calculate y_hat for all examples.\n",
    "    y_hat = f(x, w, b)\n",
    "\n",
    "    # Compute Grad\n",
    "    dj_dw = 1./m * np.sum((y_hat-y)*x)\n",
    "    dj_db = 1./m * np.sum(y_hat-y)\n",
    "\n",
    "    return dj_dw, dj_db\n",
    "\n",
    "# TEST\n",
    "compute_gradient_test(compute_gradient_vector_wise)"
   ]
  },
  {
   "cell_type": "markdown",
   "metadata": {},
   "source": [
    "# 5. Train - Gradient Descent"
   ]
  },
  {
   "cell_type": "code",
   "execution_count": 10,
   "metadata": {},
   "outputs": [],
   "source": [
    "import math\n",
    "\n",
    "\n",
    "def fit(\n",
    "        x, y,\n",
    "        w_init, b_init,\n",
    "        alpha, num_iters,\n",
    "        cost_fn, gradient_fn): \n",
    "    \"\"\"\n",
    "    Performs gradient descent to fit w,b. Updates w,b by taking \n",
    "    num_iters gradient steps with learning rate alpha\n",
    "    \n",
    "    Args:\n",
    "      x (ndarray (m,))  : Data, m examples \n",
    "      y (ndarray (m,))  : target values\n",
    "      w_init, b_init (scalar): initial values of model parameters  \n",
    "      alpha (float):     Learning rate\n",
    "      num_iters (int):   number of iterations to run gradient descent\n",
    "      cost_fn:     function to call to produce cost\n",
    "      gradient_fn: function to call to produce gradient\n",
    "      \n",
    "    Returns:\n",
    "      w (scalar): Updated value of parameter after running gradient descent\n",
    "      b (scalar): Updated value of parameter after running gradient descent\n",
    "      J_history (List): History of cost values\n",
    "      params_history (list): History of parameters [w,b] \n",
    "      \"\"\"\n",
    "    # cost and params history\n",
    "    J_history = []\n",
    "    params_history = []\n",
    " \n",
    "    # Gradient descent\n",
    "    w = w_init\n",
    "    b = b_init\n",
    "    for i in range(num_iters):\n",
    "        # Calculate the gradient\n",
    "        dj_dw, dj_db = gradient_fn(x, y, w , b)     \n",
    "\n",
    "        # Update w, b\n",
    "        w -= alpha * dj_dw                            \n",
    "        b -= alpha * dj_db                            \n",
    "\n",
    "        # Save cost J at each iteration\n",
    "        if i<100000:\n",
    "            J_history.append( cost_fn(x, y, w , b) )\n",
    "            params_history.append( [w,b] )\n",
    "\n",
    "        # Print\n",
    "        if i % math.ceil(num_iters/10) == 0:\n",
    "            print(f\"Iteration {i:4}: Cost {J_history[-1]:.3f} \")\n",
    " \n",
    "    return w, b, J_history, params_history"
   ]
  },
  {
   "cell_type": "code",
   "execution_count": 11,
   "metadata": {},
   "outputs": [
    {
     "name": "stdout",
     "output_type": "stream",
     "text": [
      "Iteration    0: Cost 6.453 \n",
      "Iteration 1000: Cost 4.529 \n",
      "Iteration 2000: Cost 4.478 \n",
      "Iteration 3000: Cost 4.477 \n",
      "Iteration 4000: Cost 4.477 \n",
      "Iteration 5000: Cost 4.477 \n",
      "Iteration 6000: Cost 4.477 \n",
      "Iteration 7000: Cost 4.477 \n",
      "Iteration 8000: Cost 4.477 \n",
      "Iteration 9000: Cost 4.477 \n",
      "\tFinal: (w,b): (  1.1930, -3.8958)\n"
     ]
    }
   ],
   "source": [
    "initial_w = np.random.random()\n",
    "initial_b = np.random.random()\n",
    "\n",
    "w_final, b_final, J_hist, p_hist = fit(\n",
    "    x=x_train , y=y_train,\n",
    "    w_init=initial_w, b_init=initial_b,\n",
    "    alpha=1e-2, num_iters=10000,\n",
    "    cost_fn=compute_cost, gradient_fn=compute_gradient)\n",
    "print(f\"\\tFinal: (w,b): ({w_final:8.4f},{b_final:8.4f})\")"
   ]
  },
  {
   "cell_type": "markdown",
   "metadata": {},
   "source": [
    "#### Training param plot"
   ]
  },
  {
   "cell_type": "code",
   "execution_count": 12,
   "metadata": {
    "scrolled": true,
    "tags": []
   },
   "outputs": [
    {
     "data": {
      "image/png": "[encoded data removed]",
      "text/plain": [
       "<Figure size 864x288 with 2 Axes>"
      ]
     },
     "metadata": {
      "needs_background": "light"
     },
     "output_type": "display_data"
    }
   ],
   "source": [
    "fig, (ax1, ax2) = plt.subplots(1, 2, constrained_layout=True, figsize=(12,4))\n",
    "\n",
    "ax1.plot(J_hist[:100])\n",
    "ax2.plot(1000 + np.arange(len(J_hist[1000:])), J_hist[1000:])\n",
    "ax1.set_title(\"Cost vs. iteration(start)\");  ax2.set_title(\"Cost vs. iteration (end)\")\n",
    "ax1.set_ylabel('Cost')            ;  ax2.set_ylabel('Cost') \n",
    "ax1.set_xlabel('iteration step')  ;  ax2.set_xlabel('iteration step') \n",
    "plt.show()"
   ]
  },
  {
   "cell_type": "markdown",
   "metadata": {},
   "source": [
    "# 6. Inference"
   ]
  },
  {
   "cell_type": "markdown",
   "metadata": {},
   "source": [
    "#### Plot Regression Line"
   ]
  },
  {
   "cell_type": "code",
   "execution_count": 13,
   "metadata": {},
   "outputs": [],
   "source": [
    "y_hat = f(x_train, w_final, b_final)"
   ]
  },
  {
   "cell_type": "code",
   "execution_count": 14,
   "metadata": {},
   "outputs": [
    {
     "data": {
      "text/plain": [
       "Text(0.5, 0, 'Population of City in 10,000s')"
      ]
     },
     "execution_count": 14,
     "metadata": {},
     "output_type": "execute_result"
    },
    {
     "data": {
      "image/png": "[encoded data removed]",
      "text/plain": [
       "<Figure size 432x288 with 1 Axes>"
      ]
     },
     "metadata": {
      "needs_background": "light"
     },
     "output_type": "display_data"
    }
   ],
   "source": [
    "# Scatter plot of the data. \n",
    "plt.scatter(x_train, y_train, marker='x', c='r') \n",
    "\n",
    "# Plot the linear fit\n",
    "plt.plot(x_train, y_hat, c = \"b\")\n",
    "\n",
    "plt.title(\"Profits vs. Population per city\")\n",
    "plt.ylabel('Profit in $10,000')\n",
    "plt.xlabel('Population of City in 10,000s')"
   ]
  },
  {
   "cell_type": "markdown",
   "metadata": {},
   "source": [
    "#### Inference"
   ]
  },
  {
   "cell_type": "code",
   "execution_count": 15,
   "metadata": {},
   "outputs": [
    {
     "name": "stdout",
     "output_type": "stream",
     "text": [
      "For population = 35,000, we predict a profit of $2798.37\n",
      "For population = 70,000, we predict a profit of $44554.55\n"
     ]
    }
   ],
   "source": [
    "y_hat = f(3.5, w_final, b_final)\n",
    "print('For population = 35,000, we predict a profit of $%.2f' % (y_hat*10000))\n",
    "\n",
    "y_hat = f(7.0, w_final, b_final)\n",
    "print('For population = 70,000, we predict a profit of $%.2f' % (y_hat*10000))"
   ]
  },
  {
   "cell_type": "markdown",
   "metadata": {},
   "source": [
    "#### R2 Score"
   ]
  },
  {
   "cell_type": "code",
   "execution_count": 16,
   "metadata": {},
   "outputs": [
    {
     "name": "stdout",
     "output_type": "stream",
     "text": [
      "R2 = 0.702\n"
     ]
    }
   ],
   "source": [
    "from sklearn.metrics import r2_score\n",
    "\n",
    "y_hat = f(x_train, w_final, b_final)\n",
    "r2 = r2_score(\n",
    "    y_true=y_train,\n",
    "    y_pred=y_hat)\n",
    "print(f'R2 = {r2:.3f}')"
   ]
  }
 ],
 "metadata": {
  "kernelspec": {
   "display_name": "Python 3.8",
   "language": "python",
   "name": "py38"
  },
  "language_info": {
   "codemirror_mode": {
    "name": "ipython",
    "version": 3
   },
   "file_extension": ".py",
   "mimetype": "text/x-python",
   "name": "python",
   "nbconvert_exporter": "python",
   "pygments_lexer": "ipython3",
   "version": "3.8.13"
  }
 },
 "nbformat": 4,
 "nbformat_minor": 4
}
