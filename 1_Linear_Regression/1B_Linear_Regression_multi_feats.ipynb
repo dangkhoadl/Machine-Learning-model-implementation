{
 "cells": [
  {
   "cell_type": "code",
   "execution_count": 1,
   "metadata": {},
   "outputs": [],
   "source": [
    "import numpy as np\n",
    "import matplotlib.pyplot as plt"
   ]
  },
  {
   "cell_type": "markdown",
   "metadata": {},
   "source": [
    "# 1. Dataset\n",
    "- Predict housing price based on size, num of bedrooms, num of floors, age of home\n",
    "\n",
    "| Size (sqft) | Number of Bedrooms  | Number of floors | Age of  Home | Price (1000s dollars)  |   \n",
    "| ----------------| ------------------- |----------------- |--------------|-------------- |  \n",
    "| 2104            | 5                   | 1                | 45           | 460           |  \n",
    "| 1416            | 3                   | 2                | 40           | 232           |  \n",
    "| 852             | 2                   | 1                | 35           | 178           | "
   ]
  },
  {
   "cell_type": "code",
   "execution_count": 2,
   "metadata": {},
   "outputs": [],
   "source": [
    "def load_data(f_path):\n",
    "    data = np.loadtxt(f_path, delimiter=',', skiprows=1)\n",
    "    X = data[:,:4]\n",
    "    y = data[:,4]\n",
    "    return X, y"
   ]
  },
  {
   "cell_type": "code",
   "execution_count": 3,
   "metadata": {},
   "outputs": [
    {
     "name": "stdout",
     "output_type": "stream",
     "text": [
      "X_train.shape = (99, 4)\n",
      "y_train.shape = (99,)\n"
     ]
    }
   ],
   "source": [
    "X_train, y_train = load_data('datasets/houses.txt')\n",
    "print(f'{X_train.shape = }')\n",
    "print(f'{y_train.shape = }')"
   ]
  },
  {
   "cell_type": "markdown",
   "metadata": {},
   "source": [
    "#### Analysis"
   ]
  },
  {
   "cell_type": "code",
   "execution_count": 4,
   "metadata": {},
   "outputs": [
    {
     "data": {
      "image/png": "[encoded data removed]",
      "text/plain": [
       "<Figure size 864x216 with 4 Axes>"
      ]
     },
     "metadata": {
      "needs_background": "light"
     },
     "output_type": "display_data"
    }
   ],
   "source": [
    "X_features = ['size(sqft)', 'bedrooms', 'floors', 'age']\n",
    "\n",
    "fig,ax=plt.subplots(1, 4, figsize=(12, 3), sharey=True)\n",
    "for i in range(len(ax)):\n",
    "    ax[i].scatter(X_train[:,i],y_train)\n",
    "    ax[i].set_xlabel(X_features[i])\n",
    "ax[0].set_ylabel(\"Price (1000's)\")\n",
    "plt.show()\n",
    "\n",
    "# We can see that\n",
    "#     size and house age have strong influence on house price\n",
    "#     num of bedrooms and num of floors have weak influence"
   ]
  },
  {
   "cell_type": "markdown",
   "metadata": {},
   "source": [
    "#### Feature scaling - Normalization\n",
    "\n",
    "$$x^{(i)}_j = \\dfrac{x^{(i)}_j - \\mu_j}{\\sigma_j}$$ \n",
    "\n",
    "- In which\n",
    "    - $(i)$: data point i-th\n",
    "    - $j$: feature j-th\n",
    "\n",
    "$$\n",
    "\\begin{align}\n",
    "\\mu_j &= \\frac{1}{m} \\sum_{i=0}^{m-1} x^{(i)}_j \\\\\n",
    "\\sigma^2_j &= \\frac{1}{m} \\sum_{i=0}^{m-1} (x^{(i)}_j - \\mu_j)^2 \n",
    "\\end{align}\n",
    "$$"
   ]
  },
  {
   "cell_type": "code",
   "execution_count": 5,
   "metadata": {},
   "outputs": [],
   "source": [
    "def normalize_features(X):\n",
    "    \"\"\"\n",
    "    computes  X, zcore normalized by column\n",
    "    \n",
    "    Args:\n",
    "      X (ndarray (m,n))     : input data, m examples, n features\n",
    "      \n",
    "    Returns:\n",
    "      X_norm (ndarray (m,n)): input normalized by column\n",
    "    \"\"\"\n",
    "    # find the mean of each column/feature\n",
    "    mu     = np.mean(X, axis=0)                 # mu will have shape (n,)\n",
    "\n",
    "    # find the standard deviation of each column/feature\n",
    "    sigma  = np.std(X, axis=0)                  # sigma will have shape (n,)\n",
    "\n",
    "    # element-wise, subtract mu for that column from each example, divide by std for that column\n",
    "    X_norm = (X - mu) / sigma      \n",
    "\n",
    "    return X_norm"
   ]
  },
  {
   "cell_type": "code",
   "execution_count": 6,
   "metadata": {},
   "outputs": [],
   "source": [
    "X_train = normalize_features(X_train)"
   ]
  },
  {
   "cell_type": "markdown",
   "metadata": {},
   "source": [
    "# 2. Model\n",
    "#### Notation\n",
    "\n",
    "$$x_j^{(i)}$$\n",
    "+ $(i)$: data point i-th (m data points)\n",
    "+ $j$: feature j-th (n features)\n",
    "\n",
    "#### Linear Regression\n",
    "\n",
    "$$\\begin{split}\n",
    "\\hat{y}_i &= f_{w,b}(x^{(i)}) = w_0x_0^{(i)} + w_1x_1^{(i)} + \\dots + w_{n-1}x_{n-1}^{(i)} + b \\\\\n",
    "    &= w \\cdot x^{(i)} + b\n",
    "\\end{split}$$\n",
    "\n",
    "- In which\n",
    "    + $x^{(i)}$: data point i-th, n features, vector size (n,) \n",
    "    + $w$: vector size (n,)\n",
    "    + $b$: scalar"
   ]
  },
  {
   "cell_type": "code",
   "execution_count": 7,
   "metadata": {},
   "outputs": [],
   "source": [
    "def f(X, w, b): \n",
    "    \"\"\"\n",
    "    predict using linear regression\n",
    "\n",
    "    Args:\n",
    "        x (ndarray): Shape (m,n) example with multiple features\n",
    "        w (ndarray): Shape (n,) model parameters   \n",
    "        b (scalar):             model parameter\n",
    "    Returns:\n",
    "        y_hat: predict, Shape (m,)\n",
    "    \"\"\"\n",
    "    return np.dot(X, w) + b  "
   ]
  },
  {
   "cell_type": "markdown",
   "metadata": {},
   "source": [
    "# 3. Cost function"
   ]
  },
  {
   "cell_type": "markdown",
   "metadata": {},
   "source": [
    "#### MSE Cost function\n",
    "\n",
    "$$\\begin{split}\n",
    "    J(w,b) &= \\frac{1}{2m} \\sum\\limits_{i = 0}^{m-1} (\\hat{y}^{(i)} - y^{(i)})^2 \\\\\n",
    "        &= \\frac{1}{2m} \\sum\\limits_{i = 0}^{m-1} (f_{w,b}(x^{(i)}) - y^{(i)})^2\n",
    "\\end{split}$$ \n",
    "\n",
    "- which:\n",
    "    + $m$: dataset size"
   ]
  },
  {
   "cell_type": "code",
   "execution_count": 8,
   "metadata": {},
   "outputs": [],
   "source": [
    "# Method 1: Loop\n",
    "def compute_cost(X, y, w, b): \n",
    "    \"\"\"\n",
    "    compute cost\n",
    "    Args:\n",
    "      X (ndarray (m,n)): Data, m examples with n features\n",
    "      y (ndarray (m,)) : target values\n",
    "      w (ndarray (n,)) : model parameters  \n",
    "      b (scalar)       : model parameter\n",
    "      \n",
    "    Returns:\n",
    "      cost (scalar): cost\n",
    "    \"\"\"\n",
    "    \n",
    "    # number of training examples\n",
    "    m = X.shape[0]\n",
    "\n",
    "    # For each data point\n",
    "    cost = 0.0\n",
    "    for i in range(m):\n",
    "        y_hat_i = f(X[i,:], w, b)\n",
    "        cost += (y_hat_i - y[i])**2\n",
    "\n",
    "    return cost/(2*m)"
   ]
  },
  {
   "cell_type": "code",
   "execution_count": 9,
   "metadata": {},
   "outputs": [],
   "source": [
    "# Method 2: Vectorwise\n",
    "def compute_cost_vector_wise(X, y, w, b):\n",
    "    \"\"\"\n",
    "    compute cost\n",
    "    Args:\n",
    "      X (ndarray (m,n)): Data, m examples with n features\n",
    "      y (ndarray (m,)) : target values\n",
    "      w (ndarray (n,)) : model parameters  \n",
    "      b (scalar)       : model parameter\n",
    "      \n",
    "    Returns:\n",
    "      cost (scalar): cost\n",
    "    \"\"\"\n",
    "    m = X.shape[0]\n",
    "\n",
    "    # calculate y_hat for all examples.\n",
    "    y_hat = f(X, w, b)\n",
    "\n",
    "    # calculate cost\n",
    "    total_cost = (1/(2*m)) * np.sum((y_hat-y)**2)\n",
    "\n",
    "    return total_cost"
   ]
  },
  {
   "cell_type": "markdown",
   "metadata": {},
   "source": [
    "# 4. Gradient\n",
    "#### Gradient of cost function\n",
    "$$\\begin{split}\n",
    "\\frac{\\partial J(w,b)}{\\partial w}  &= \\frac{\\partial \\left( \\frac{1}{2m} \\sum\\limits_{i = 0}^{m-1} (w\\cdot x_i + b - y_i)^2 \\right)}{\\partial w} \\\\\n",
    "     &= \\frac{1}{m} \\sum\\limits_{i = 0}^{m-1} (w\\cdot x_i + b - y_i)  x_i \\\\\n",
    "     &= \\frac{1}{m} \\sum\\limits_{i = 0}^{m-1} (\\hat{y}_i - y_i)  x_i \\\\ \n",
    "\\end{split}$$\n",
    "\n",
    "$$\\begin{split}\n",
    "\\frac{\\partial J(w,b)}{\\partial b}  &= \\frac{\\partial \\left( \\frac{1}{2m} \\sum\\limits_{i = 0}^{m-1} (w\\cdot x_i + b - y_i)^2 \\right)}{\\partial b} \\\\\n",
    "     &= \\frac{1}{m} \\sum\\limits_{i = 0}^{m-1} (w\\cdot x_i + b - y_i) \\\\\n",
    "     &= \\frac{1}{m} \\sum\\limits_{i = 0}^{m-1} (\\hat{y}_i - y_i) \\\\ \n",
    "\\end{split}$$\n",
    "\n",
    "#### Update w, b\n",
    "+ $\\alpha$: Learning rate\n",
    "\n",
    "$$\\text{repeat until convergence: } \\\\\n",
    "\\begin{cases}\n",
    "    w &= w -  \\alpha \\frac{\\partial J(w,b)}{\\partial w} \\\\\n",
    "    b &= b -  \\alpha \\frac{\\partial J(w,b)}{\\partial b}\n",
    "\\end{cases}$$"
   ]
  },
  {
   "cell_type": "code",
   "execution_count": 10,
   "metadata": {},
   "outputs": [],
   "source": [
    "# Method 1: Loop\n",
    "def compute_gradient(X, y, w, b): \n",
    "    \"\"\"\n",
    "    Computes the gradient for linear regression \n",
    "    Args:\n",
    "      X (ndarray (m,n)): Data, m examples with n features\n",
    "      y (ndarray (m,)) : target values\n",
    "      w (ndarray (n,)) : model parameters  \n",
    "      b (scalar)       : model parameter\n",
    "      \n",
    "    Returns:\n",
    "      dj_dw (ndarray (n,)): The gradient of the cost w.r.t. the parameters w. \n",
    "      dj_db (scalar):       The gradient of the cost w.r.t. the parameter b. \n",
    "    \"\"\"\n",
    "\n",
    "    # (number of examples, number of features)\n",
    "    m, n = X.shape\n",
    "\n",
    "    # Compute Grad\n",
    "    dj_dw = np.zeros((n,))\n",
    "    dj_db = 0\n",
    "\n",
    "    # For each data point\n",
    "    for i in range(m):  \n",
    "        y_hat_i = f(X[i], w, b)\n",
    "\n",
    "        # For each feature\n",
    "        for j in range(n):                         \n",
    "            dj_dw[j] += (y_hat_i - y[i]) * X[i, j]\n",
    "        dj_db += y_hat_i - y[i]\n",
    "\n",
    "    return dj_dw / m, dj_db / m"
   ]
  },
  {
   "cell_type": "code",
   "execution_count": 11,
   "metadata": {},
   "outputs": [],
   "source": [
    "# Method 2: Vectorwise\n",
    "def compute_gradient_vector_wise(X, y, w, b): \n",
    "    \"\"\"\n",
    "    Computes the gradient for linear regression \n",
    "    Args:\n",
    "      X (ndarray (m,n)): Data, m examples with n features\n",
    "      y (ndarray (m,)) : target values\n",
    "      w (ndarray (n,)) : model parameters  \n",
    "      b (scalar)       : model parameter\n",
    "      \n",
    "    Returns:\n",
    "      dj_dw (ndarray (n,)): The gradient of the cost w.r.t. the parameters w. \n",
    "      dj_db (scalar):       The gradient of the cost w.r.t. the parameter b. \n",
    "    \"\"\"\n",
    "\n",
    "    # (number of examples, number of features)\n",
    "    m, n = X.shape\n",
    "\n",
    "    # Compute Grad\n",
    "    dj_dw = np.zeros((n,))\n",
    "    dj_db = 0\n",
    "\n",
    "    # For each data point\n",
    "    for i in range(m):  \n",
    "        y_hat_i = f(X[i, :], w, b) \n",
    "\n",
    "        dj_dw += (y_hat_i - y[i]) * X[i, :]\n",
    "        dj_db += y_hat_i - y[i]\n",
    "\n",
    "    return dj_dw / m, dj_db / m"
   ]
  },
  {
   "cell_type": "code",
   "execution_count": 12,
   "metadata": {},
   "outputs": [],
   "source": [
    "# Method 3: matrix wise\n",
    "def compute_gradient_matrix_wise(X, y, w, b): \n",
    "    \"\"\"\n",
    "    Computes the gradient for linear regression \n",
    "    Args:\n",
    "      X (ndarray (m,n)): Data, m examples with n features\n",
    "      y (ndarray (m,)) : target values\n",
    "      w (ndarray (n,)) : model parameters  \n",
    "      b (scalar)       : model parameter\n",
    "      \n",
    "    Returns:\n",
    "      dj_dw (ndarray (n,)): The gradient of the cost w.r.t. the parameters w. \n",
    "      dj_db (scalar):       The gradient of the cost w.r.t. the parameter b. \n",
    "    \"\"\"\n",
    "\n",
    "    # (number of examples, number of features)\n",
    "    m, n = X.shape\n",
    "\n",
    "    # Calculate y_hat for all examples\n",
    "    y_hat = f(X, w, b) \n",
    "\n",
    "    # Compute Grad\n",
    "    dj_dw = 1./m * np.dot(y_hat - y, X)\n",
    "    dj_db = 1./m * np.sum(y_hat - y)\n",
    "\n",
    "    return dj_dw, dj_db"
   ]
  },
  {
   "cell_type": "markdown",
   "metadata": {},
   "source": [
    "# 5. Train - Gradient Descent"
   ]
  },
  {
   "cell_type": "code",
   "execution_count": 13,
   "metadata": {},
   "outputs": [],
   "source": [
    "import math\n",
    "import copy\n",
    "\n",
    "def fit(\n",
    "        X, y,\n",
    "        w_init, b_init,\n",
    "        alpha, num_iters,\n",
    "        cost_fn, gradient_fn): \n",
    "    \"\"\"\n",
    "    Performs batch gradient descent to learn theta. Updates theta by taking \n",
    "    num_iters gradient steps with learning rate alpha\n",
    "    \n",
    "    Args:\n",
    "      X (ndarray (m,n))   : Data, m examples with n features\n",
    "      y (ndarray (m,))    : target values\n",
    "      w_in (ndarray (n,)) : initial model parameters  \n",
    "      b_in (scalar)       : initial model parameter\n",
    "      cost_function       : function to compute cost\n",
    "      gradient_function   : function to compute the gradient\n",
    "      alpha (float)       : Learning rate\n",
    "      num_iters (int)     : number of iterations to run gradient descent\n",
    "      \n",
    "    Returns:\n",
    "      w (ndarray (n,)) : Updated values of parameters \n",
    "      b (scalar)       : Updated value of parameter \n",
    "      \"\"\"\n",
    "    # cost and params history\n",
    "    J_history = []\n",
    " \n",
    "    # Gradient descent\n",
    "    w = copy.deepcopy(w_init)\n",
    "    b = b_init\n",
    "    for i in range(num_iters):\n",
    "        # Calculate the gradient\n",
    "        dj_dw, dj_db = gradient_fn(X, y, w , b)     \n",
    "\n",
    "        # Update w, b\n",
    "        w -= alpha * dj_dw                            \n",
    "        b -= alpha * dj_db                            \n",
    "\n",
    "        # Save cost J at each iteration\n",
    "        if i<100000:\n",
    "            J_history.append( cost_fn(X, y, w , b) )\n",
    "\n",
    "        # Print\n",
    "        if i % math.ceil(num_iters/10) == 0:\n",
    "            print(f\"Iteration {i:4}: Cost {J_history[-1]:0.3f} \")\n",
    " \n",
    "    return w, b, J_history"
   ]
  },
  {
   "cell_type": "code",
   "execution_count": 14,
   "metadata": {
    "scrolled": true
   },
   "outputs": [
    {
     "name": "stdout",
     "output_type": "stream",
     "text": [
      "Iteration    0: Cost 70740.658 \n",
      "Iteration 1000: Cost 2793.180 \n",
      "Iteration 2000: Cost 455.764 \n",
      "Iteration 3000: Cost 275.373 \n",
      "Iteration 4000: Cost 236.065 \n",
      "Iteration 5000: Cost 224.411 \n",
      "Iteration 6000: Cost 220.818 \n",
      "Iteration 7000: Cost 219.706 \n",
      "Iteration 8000: Cost 219.361 \n",
      "Iteration 9000: Cost 219.255 \n",
      "\tFinal: (w,b): ([110.32515055 -21.14868917 -32.57542895 -38.01615381],363.1561)\n"
     ]
    }
   ],
   "source": [
    "m, n = X_train.shape\n",
    "\n",
    "initial_w = np.random.random((n,))\n",
    "initial_b = np.random.random()\n",
    "\n",
    "# initial_w = np.zeros((n,))\n",
    "# initial_b = 0.\n",
    "\n",
    "w_final, b_final, J_hist = fit(\n",
    "    X=X_train , y=y_train,\n",
    "    w_init=initial_w, b_init=initial_b,\n",
    "    alpha=1.75e-3, num_iters=10000,\n",
    "    cost_fn=compute_cost_vector_wise, gradient_fn=compute_gradient_matrix_wise)\n",
    "print(f\"\\tFinal: (w,b): ({w_final},{b_final:8.4f})\")"
   ]
  },
  {
   "cell_type": "markdown",
   "metadata": {},
   "source": [
    "# 6. Inference"
   ]
  },
  {
   "cell_type": "markdown",
   "metadata": {},
   "source": [
    "#### Inference"
   ]
  },
  {
   "cell_type": "code",
   "execution_count": 15,
   "metadata": {},
   "outputs": [
    {
     "name": "stdout",
     "output_type": "stream",
     "text": [
      "y[24] = 304.0, y_hat[24] = 295.59563885562727\n",
      "y[3] = 540.0, y_hat[3] = 492.0981786091512\n",
      "y[56] = 350.0, y_hat[56] = 339.146184831762\n"
     ]
    }
   ],
   "source": [
    "np.random.seed(3)\n",
    "for x in range(3):\n",
    "    i = np.random.randint(0, X_train.shape[0])\n",
    "    y_hat = f(X_train[i], w_final, b_final)\n",
    "    print(f'y[{i}] = {y_train[i]}, y_hat[{i}] = {y_hat}')"
   ]
  },
  {
   "cell_type": "markdown",
   "metadata": {},
   "source": [
    "#### R2 Score"
   ]
  },
  {
   "cell_type": "code",
   "execution_count": 16,
   "metadata": {},
   "outputs": [
    {
     "name": "stdout",
     "output_type": "stream",
     "text": [
      "R2 = 0.960\n"
     ]
    }
   ],
   "source": [
    "from sklearn.metrics import r2_score\n",
    "\n",
    "y_hat = f(X_train, w_final, b_final)\n",
    "r2 = r2_score(\n",
    "    y_true=y_train,\n",
    "    y_pred=y_hat)\n",
    "print(f'R2 = {r2:.3f}')"
   ]
  }
 ],
 "metadata": {
  "kernelspec": {
   "display_name": "Python 3.8",
   "language": "python",
   "name": "py38"
  },
  "language_info": {
   "codemirror_mode": {
    "name": "ipython",
    "version": 3
   },
   "file_extension": ".py",
   "mimetype": "text/x-python",
   "name": "python",
   "nbconvert_exporter": "python",
   "pygments_lexer": "ipython3",
   "version": "3.8.13"
  }
 },
 "nbformat": 4,
 "nbformat_minor": 4
}
