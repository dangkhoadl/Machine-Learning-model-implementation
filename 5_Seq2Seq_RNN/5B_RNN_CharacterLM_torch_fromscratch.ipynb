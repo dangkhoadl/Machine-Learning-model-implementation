{
 "cells": [
  {
   "cell_type": "code",
   "execution_count": 1,
   "metadata": {},
   "outputs": [],
   "source": [
    "import numpy as np\n",
    "import matplotlib.pyplot as plt"
   ]
  },
  {
   "cell_type": "code",
   "execution_count": 2,
   "metadata": {},
   "outputs": [],
   "source": [
    "import torch\n",
    "import torch.nn as nn"
   ]
  },
  {
   "cell_type": "markdown",
   "metadata": {},
   "source": [
    "# 1. Dataset\n",
    "#### Problem\n",
    "- Train a character base Language model to generate new dinosaur names based on existing name in `data`"
   ]
  },
  {
   "cell_type": "code",
   "execution_count": 3,
   "metadata": {
    "scrolled": false
   },
   "outputs": [
    {
     "name": "stdout",
     "output_type": "stream",
     "text": [
      "1536\n",
      "['aachenosaurus', 'aardonyx', 'abdallahsaurus', 'abelisaurus', 'abrictosaurus']\n"
     ]
    }
   ],
   "source": [
    "with open('datasets/dinos.txt', 'r+') as file_obj:\n",
    "    data = file_obj.readlines()\n",
    "data = [ dino.strip().lower() for dino in data ]\n",
    "\n",
    "print(len(data))\n",
    "print(data[:5])"
   ]
  },
  {
   "cell_type": "markdown",
   "metadata": {},
   "source": [
    "# 2. Feat Engineering\n",
    "## 2.1 Lexicon - Vocab"
   ]
  },
  {
   "cell_type": "code",
   "execution_count": 4,
   "metadata": {},
   "outputs": [
    {
     "name": "stdout",
     "output_type": "stream",
     "text": [
      "['a', 'b', 'c', 'd', 'e', 'f', 'g', 'h', 'i', 'j', 'k', 'l', 'm', 'n', 'o', 'p', 'q', 'r', 's', 't', 'u', 'v', 'w', 'x', 'y', 'z', '\\n']\n",
      "Vocab size of the character-based language model: 27\n"
     ]
    }
   ],
   "source": [
    "chars = sorted(list(set(''.join(data)))) + ['\\n']\n",
    "print(chars)\n",
    "\n",
    "vocab_size = len(chars)\n",
    "print(f'Vocab size of the character-based language model: {vocab_size}')"
   ]
  },
  {
   "cell_type": "markdown",
   "metadata": {},
   "source": [
    "#### Char to index"
   ]
  },
  {
   "cell_type": "code",
   "execution_count": 5,
   "metadata": {},
   "outputs": [
    {
     "name": "stdout",
     "output_type": "stream",
     "text": [
      "{'a': 0, 'b': 1, 'c': 2, 'd': 3, 'e': 4, 'f': 5, 'g': 6, 'h': 7, 'i': 8, 'j': 9, 'k': 10, 'l': 11, 'm': 12, 'n': 13, 'o': 14, 'p': 15, 'q': 16, 'r': 17, 's': 18, 't': 19, 'u': 20, 'v': 21, 'w': 22, 'x': 23, 'y': 24, 'z': 25, '\\n': 26}\n"
     ]
    }
   ],
   "source": [
    "char_2_ix = { ch:ix for ix,ch in enumerate(chars)}\n",
    "print(char_2_ix)"
   ]
  },
  {
   "cell_type": "markdown",
   "metadata": {},
   "source": [
    "#### index to char"
   ]
  },
  {
   "cell_type": "code",
   "execution_count": 6,
   "metadata": {
    "scrolled": true
   },
   "outputs": [
    {
     "name": "stdout",
     "output_type": "stream",
     "text": [
      "{0: 'a', 1: 'b', 2: 'c', 3: 'd', 4: 'e', 5: 'f', 6: 'g', 7: 'h', 8: 'i', 9: 'j', 10: 'k', 11: 'l', 12: 'm', 13: 'n', 14: 'o', 15: 'p', 16: 'q', 17: 'r', 18: 's', 19: 't', 20: 'u', 21: 'v', 22: 'w', 23: 'x', 24: 'y', 25: 'z', 26: '\\n'}\n"
     ]
    }
   ],
   "source": [
    "ix_2_char = { ix:ch for ix,ch in enumerate(chars) }\n",
    "print(ix_2_char)"
   ]
  },
  {
   "cell_type": "markdown",
   "metadata": {},
   "source": [
    "# 2.2 Training tensor\n",
    "#### X tensor"
   ]
  },
  {
   "cell_type": "code",
   "execution_count": 7,
   "metadata": {},
   "outputs": [],
   "source": [
    "def generate_X_tensor(word, char_2_ix):\n",
    "    \"\"\"\n",
    "    Arguments:\n",
    "        word (str)                : Input string/word\n",
    "        char_2_ix (dict({ch:ix})) : mapping characters in lexicon to its index\n",
    "    Returns:\n",
    "        X (tensor(n_x, 1, T_x))    : tensor X, lexicon one-hot vector to train RNN\n",
    "            n_x     : featdim = lexicon size\n",
    "            m = 1   : batchsize = 1\n",
    "            T_x     : total timesteps = len(word)\n",
    "    \"\"\"\n",
    "    # Get vocab size\n",
    "    vocab_size = len(char_2_ix)\n",
    "\n",
    "    # Generate X\n",
    "    X_np = np.zeros(shape=(vocab_size, 1, len(word)), dtype=np.float32)\n",
    "    for t, ch in enumerate(word):\n",
    "        X_np[char_2_ix[ch], 0, t] = 1\n",
    "\n",
    "    return torch.from_numpy(X_np)"
   ]
  },
  {
   "cell_type": "code",
   "execution_count": 8,
   "metadata": {},
   "outputs": [
    {
     "name": "stdout",
     "output_type": "stream",
     "text": [
      "torch.Size([27, 1, 5])\n"
     ]
    }
   ],
   "source": [
    "X = generate_X_tensor('harry', char_2_ix)\n",
    "\n",
    "# (feat_dim, batch_size, Tx)\n",
    "print(X.size())"
   ]
  },
  {
   "cell_type": "markdown",
   "metadata": {},
   "source": [
    "#### Y tensor\n",
    "<img src=\"./assets/rnn_lm_y.png\" width=\"800\"/>"
   ]
  },
  {
   "cell_type": "code",
   "execution_count": 9,
   "metadata": {},
   "outputs": [],
   "source": [
    "def generate_Y_tensor(word, char_2_ix, eos='\\n'):\n",
    "    \"\"\"\n",
    "    Y = predict the next character in the sequence\n",
    "\n",
    "    Arguments:\n",
    "        word (str)                : Input string/word\n",
    "        char_2_ix (dict({ch:ix})) : mapping character-2-index in lexicon\n",
    "        eos (char)                : End-of-sentence character\n",
    "    Returns:\n",
    "        Y (Long tensor(1, T_y))    : tensor Y, lexicon index one-hot vector of the next character in word\n",
    "            m = 1   : batchsize = 1\n",
    "            T_y     : total timesteps = len(word)\n",
    "    Notes:\n",
    "        nn.NLLLoss()\n",
    "            Y_hat = one-hot vector\n",
    "            Y = index of the correct idx in range(0, len(one-hot-vec)), instead of a one-hot vector\n",
    "    \"\"\"\n",
    "    Y_np = np.zeros(shape=(1, len(word)), dtype=np.int32)\n",
    "\n",
    "    # y = next(idx) char in word\n",
    "    for t in range(len(word)-1):\n",
    "        next_ch = word[t+1]\n",
    "        Y_np[0, t] = char_2_ix[next_ch]\n",
    "\n",
    "    # Last char to predict = eos char\n",
    "    Y_np[0, len(word)-1] = char_2_ix[eos]\n",
    "    return torch.LongTensor(Y_np)"
   ]
  },
  {
   "cell_type": "code",
   "execution_count": 10,
   "metadata": {},
   "outputs": [
    {
     "name": "stdout",
     "output_type": "stream",
     "text": [
      "torch.Size([1, 5])\n",
      "Y[0] = tensor([ 0, 17, 17, 24, 26])\n"
     ]
    }
   ],
   "source": [
    "Y = generate_Y_tensor('harry', char_2_ix)\n",
    "\n",
    "# (batch_size, Ty)\n",
    "print(Y.size())\n",
    "print('Y[0] =', Y[0])"
   ]
  },
  {
   "cell_type": "markdown",
   "metadata": {},
   "source": [
    "# 3. Model\n"
   ]
  },
  {
   "cell_type": "markdown",
   "metadata": {},
   "source": [
    "<img src=\"./assets/rnn_step_forward.png\" width=\"550\"/>"
   ]
  },
  {
   "cell_type": "code",
   "execution_count": 11,
   "metadata": {},
   "outputs": [],
   "source": [
    "class RNN(nn.Module):\n",
    "    def __init__(self, input_dim, hidden_dim, output_dim):\n",
    "        \"\"\"\n",
    "        Arguments:\n",
    "            Wax (tensor (n_a, n_x)) : input-to-hidden Weight matrix\n",
    "            Waa (tensor (n_a, n_a)) : hidden-to-hidden Weight matrix\n",
    "            Wya (tensor (n_y, n_a)) : hidden-to-output Weight matrix\n",
    "            ba (tensor (n_a, 1))    : Hidden bias vector\n",
    "            by (tensor (n_y, 1))    : Output Bias vector\n",
    "        \"\"\"\n",
    "        super(RNN, self).__init__()\n",
    "\n",
    "        # Hidden\n",
    "        self.Wax = torch.nn.Parameter(\n",
    "            torch.randn(hidden_dim, input_dim),requires_grad=True)\n",
    "        self.Waa = torch.nn.Parameter(\n",
    "            torch.randn(hidden_dim, hidden_dim), requires_grad=True)\n",
    "        self.ba = torch.nn.Parameter(\n",
    "            torch.randn(hidden_dim, 1), requires_grad=True)\n",
    "        self.tanh = nn.Tanh()\n",
    "\n",
    "        # Out\n",
    "        self.Wya = torch.nn.Parameter(\n",
    "            torch.randn(output_dim, hidden_dim), requires_grad=True)        \n",
    "        self.by = torch.nn.Parameter(\n",
    "            torch.randn(output_dim, 1), requires_grad=True)\n",
    "        self.dropout = nn.Dropout(0.1)\n",
    "        self.softmax = nn.LogSoftmax(dim=0)\n",
    "\n",
    "    def forward(self, xt, a_prev):\n",
    "        \"\"\"\n",
    "        Arguments:\n",
    "            xt (tensor (n_x, m))        : Input data timestep t\n",
    "            a_prev (tensor (n_a, m))    : Input hidden state timestep t-1\n",
    "\n",
    "        Returns:\n",
    "            a_next (tensor (m, n_a))   : Hidden states timestep t\n",
    "            y_hat (tensor (m, n_y))    : Predictions timestep t\n",
    "        \"\"\"\n",
    "        a_next = self.tanh(self.Wax @ xt + self.Waa @ a_prev + self.ba)\n",
    "        y_hat = self.softmax(\n",
    "            self.dropout(self.Wya @ a_next + self.by)).T\n",
    "        return y_hat, a_next"
   ]
  },
  {
   "cell_type": "markdown",
   "metadata": {},
   "source": [
    "# 4. Train"
   ]
  },
  {
   "cell_type": "code",
   "execution_count": 12,
   "metadata": {},
   "outputs": [],
   "source": [
    "def sample(model, char_2_ix, ix_2_char,\n",
    "        hidden_dim=128,\n",
    "        max_length=20, eos='\\n', k=1, seed=0,\n",
    "        device='cpu'):\n",
    "    \"\"\"\n",
    "    Generate a new word based on input model \n",
    "\n",
    "    Arguments:\n",
    "        model (torch model)         : Inference model\n",
    "        char_2_ix (dict({ch:ix}))   : mapping character-2-index in lexicon\n",
    "        ix_2_char (dict({ix:ch}))   : mapping index-2-character in lexicon\n",
    "\n",
    "        hidden_dim (int)            : n_a, model hidden dim\n",
    "        max_length (int)            : maximum length of the output word\n",
    "        eos (str)                   : End-of-sentence character\n",
    "        k (int)                     : number of ouput words\n",
    "        seed (int)                  : random seed\n",
    "        device (str)                : Model device\n",
    "\n",
    "    Returns:\n",
    "        sampled words (list(str))   : List of model generated words\n",
    "    \"\"\"\n",
    "    # Init\n",
    "    words = []\n",
    "    np.random.seed(seed)\n",
    "\n",
    "    # Generate k words\n",
    "    for i in range(k):\n",
    "        # Random init the first letter\n",
    "        letter = ix_2_char[np.random.randint(0, len(ix_2_char))]\n",
    "        while letter == eos:\n",
    "            letter = ix_2_char[np.random.randint(0, len(ix_2_char))]\n",
    "        word = letter\n",
    "\n",
    "        # Use model to generate the next char until hitting eos\n",
    "        with torch.no_grad():\n",
    "            a = torch.from_numpy(\n",
    "                np.zeros(shape=(hidden_dim, 1), dtype=np.float32)) \\\n",
    "                    .to(device)\n",
    "            for i in range(max_length):\n",
    "                # Inference\n",
    "                X = generate_X_tensor(letter, char_2_ix).to(device)\n",
    "                y_hat, a = model(X[:,:,0], a)\n",
    "\n",
    "                # Get onehot index\n",
    "                _, idx = y_hat.topk(1)\n",
    "                idx = int(idx[0][0])\n",
    "\n",
    "                # Next char, if eos stop\n",
    "                if ix_2_char[idx] == eos:\n",
    "                    break\n",
    "                else:\n",
    "                    letter = ix_2_char[idx]\n",
    "                    word += letter\n",
    "        words.append(word)\n",
    "    return words"
   ]
  },
  {
   "cell_type": "code",
   "execution_count": 13,
   "metadata": {},
   "outputs": [],
   "source": [
    "class Trainer(object):\n",
    "    def __init__(self,\n",
    "            char_2_ix, ix_2_char,\n",
    "            hidden_dim=128, alpha=1e-2):\n",
    "        \"\"\"\n",
    "        Arguments:\n",
    "            char_2_ix (dict({ch:ix}))   : mapping character-2-index in lexicon\n",
    "            ix_2_char (dict({ix:ch}))   : mapping index-2-character in lexicon\n",
    "\n",
    "            hidden_dim (int)            : n_a, model hidden dim\n",
    "            alpha (float)               : learning rate\n",
    "        \"\"\"\n",
    "        # Params\n",
    "        self.hidden_dim = hidden_dim\n",
    "        self.alpha = alpha\n",
    "        \n",
    "        # Dictionaries\n",
    "        self.char_2_ix = char_2_ix\n",
    "        self.ix_2_char = ix_2_char\n",
    "        \n",
    "        # Model\n",
    "        vocab_size = len(char_2_ix)\n",
    "        self.device = torch.device(\"cuda\" if torch.cuda.is_available() else \"cpu\")\n",
    "        self.rnn_cell = RNN(\n",
    "            input_dim=vocab_size,\n",
    "            hidden_dim=hidden_dim,\n",
    "            output_dim=vocab_size)\n",
    "        self.criterion = nn.NLLLoss()\n",
    "        \n",
    "\n",
    "    def train_word(self, word):\n",
    "        \"\"\"\n",
    "        Train each word\n",
    "\n",
    "        Arguments:\n",
    "            word (str)       : Input string/word\n",
    "\n",
    "        Returns:\n",
    "            cost_w (float)   : Average character cost from the trained word \n",
    "        \"\"\"\n",
    "        # Init tensor\n",
    "        X = generate_X_tensor(word, self.char_2_ix) \\\n",
    "            .to(self.device)\n",
    "        Y = generate_Y_tensor(word, self.char_2_ix) \\\n",
    "            .to(self.device)\n",
    "        a = torch.from_numpy(\n",
    "            np.zeros(shape=(self.hidden_dim, 1), dtype=np.float32)) \\\n",
    "                .to(self.device)\n",
    "        T = len(word)\n",
    "        \n",
    "        # Zero grad\n",
    "        cost_w = 0\n",
    "        self.rnn_cell.zero_grad()\n",
    "                \n",
    "        # Compute each timestep Forward\n",
    "        for t in range(T):\n",
    "            # Foward\n",
    "            yt_hat, a = self.rnn_cell(X[:,:,t], a)\n",
    "        \n",
    "            # Cost\n",
    "            cost_c = self.criterion(yt_hat, Y[:, t])\n",
    "            cost_w += cost_c\n",
    "            \n",
    "        # Back Propagation\n",
    "        cost_w.backward()\n",
    "        for p in self.rnn_cell.parameters():\n",
    "            p.data.add_(p.grad.data, alpha=-self.alpha)\n",
    "\n",
    "        # Return cost\n",
    "        return cost_w.item() / len(word)\n",
    "\n",
    "\n",
    "    def fit(self, data, num_iters=1000):\n",
    "        \"\"\"\n",
    "        Train RNN cell\n",
    "\n",
    "        Arguments:\n",
    "            data (list(str))       : Input list of strings/words\n",
    "            num_iters (int)        : num of training iterations\n",
    "\n",
    "        Returns:\n",
    "            model (torch model)    : Trained RNN cell\n",
    "            J_history (list(float)): cost history for plotting\n",
    "        \"\"\"\n",
    "        # Init model\n",
    "        self.rnn_cell.to(self.device)\n",
    "        self.rnn_cell.train()\n",
    "\n",
    "        # Init\n",
    "        J_history = []\n",
    "        seed = 0\n",
    "\n",
    "        # Train each iter\n",
    "        for i in range(num_iters):\n",
    "            # Train each word from data\n",
    "            cost_iter = 0\n",
    "            for word in data:\n",
    "                cost_w = self.train_word(word)\n",
    "                cost_iter += cost_w\n",
    "            cost_iter /= len(data)\n",
    "\n",
    "            # Log progress\n",
    "            J_history.append(cost_w)\n",
    "            if i % 10 == 0 or i == num_iters-1:\n",
    "                # Show sample words from trained model\n",
    "                sample_words = sample(\n",
    "                    self.rnn_cell, self.char_2_ix, self.ix_2_char,\n",
    "                    hidden_dim=self.hidden_dim,\n",
    "                    max_length=10, eos='\\n', k=5, seed=seed,\n",
    "                    device=self.device)\n",
    "\n",
    "                # Print\n",
    "                print(f\"Iteration [{i}] : Cost = {cost_w:.3f} : Sample words = {sample_words}\")\n",
    "    \n",
    "            # Reseed\n",
    "            seed += 1 + i\n",
    "        return self.rnn_cell, J_history"
   ]
  },
  {
   "cell_type": "code",
   "execution_count": 14,
   "metadata": {
    "scrolled": false
   },
   "outputs": [
    {
     "name": "stdout",
     "output_type": "stream",
     "text": [
      "Iteration [0] : Cost = 5.147 : Sample words = ['mdayu', 'pooanuo', 'vaoussrurus', 'aausussruru', 'drayurus']\n",
      "Iteration [10] : Cost = 3.097 : Sample words = ['noanaus', 'huaus', 'ieanaus', 'fuaus', 'xaaaoss']\n",
      "Iteration [20] : Cost = 3.246 : Sample words = ['kiooaus', 'huanausaus', 'meoaus', 'fusaus', 'gaoanaus']\n",
      "Iteration [30] : Cost = 3.321 : Sample words = ['oaosrus', 'ziosrus', 'leosrus', 'vioss', 'zaonanoss']\n",
      "Iteration [40] : Cost = 3.225 : Sample words = ['ruosauru', 'teosaurus', 'juosaurusa', 'ruonanaurus', 'juosaururau']\n",
      "Iteration [50] : Cost = 3.221 : Sample words = ['manosaurus', 'erasaurus', 'urosaurus', 'caosauru', 'urosaurus']\n",
      "Iteration [60] : Cost = 3.037 : Sample words = ['gunosaurus', 'nurananauru', 'sananananau', 'panananauru', 'sanananaura']\n",
      "Iteration [70] : Cost = 3.011 : Sample words = ['sanon', 'uronananaur', 'hanosaurus', 'xaosaurus', 'veranosauru']\n",
      "Iteration [80] : Cost = 2.963 : Sample words = ['carasaurus', 'fanosa', 'iranananana', 'xuananosaur', 'tanosaurus']\n",
      "Iteration [90] : Cost = 3.007 : Sample words = ['anos', 'kaus', 'fasaurus', 'ranosaurus', 'juosaurus']\n",
      "Iteration [100] : Cost = 2.866 : Sample words = ['raus', 'run', 'honosauruss', 'banosauruss', 'xuasaurus']\n",
      "Iteration [110] : Cost = 2.750 : Sample words = ['canen', 'xuanosaurus', 'yuanananana', 'uranananana', 'sanos']\n",
      "Iteration [119] : Cost = 2.817 : Sample words = ['deranananan', 'erosaurus', 'onosauris', 'honosauru', 'jurosaurus']\n"
     ]
    }
   ],
   "source": [
    "HID_DIM = 16\n",
    "learning_rate = 0.00045\n",
    "\n",
    "tn = Trainer(char_2_ix, ix_2_char,\n",
    "    hidden_dim=HID_DIM,\n",
    "    alpha=learning_rate)\n",
    "\n",
    "model, J_hist = tn.fit(data, num_iters=120)"
   ]
  },
  {
   "cell_type": "code",
   "execution_count": 15,
   "metadata": {
    "scrolled": true
   },
   "outputs": [
    {
     "data": {
      "image/png": "[encoded data removed]",
      "text/plain": [
       "<Figure size 864x288 with 2 Axes>"
      ]
     },
     "metadata": {
      "needs_background": "light"
     },
     "output_type": "display_data"
    }
   ],
   "source": [
    "fig, (ax1, ax2) = plt.subplots(1, 2, constrained_layout=True, figsize=(12,4))\n",
    "\n",
    "ax1.plot(J_hist[:10])\n",
    "ax2.plot(10 + np.arange(len(J_hist[10:])), J_hist[10:])\n",
    "ax1.set_title(\"Cost vs. iteration(start)\");  ax2.set_title(\"Cost vs. iteration (end)\")\n",
    "ax1.set_ylabel('Cost')            ;  ax2.set_ylabel('Cost')\n",
    "ax1.set_xlabel('iteration step')  ;  ax2.set_xlabel('iteration step')\n",
    "plt.show()"
   ]
  },
  {
   "cell_type": "markdown",
   "metadata": {},
   "source": [
    "# 5. Inference"
   ]
  },
  {
   "cell_type": "code",
   "execution_count": 16,
   "metadata": {},
   "outputs": [
    {
     "name": "stdout",
     "output_type": "stream",
     "text": [
      "['manosaprus', 'panosaurus', 'veranan', 'anosaurus', 'denosaurus']\n",
      "['fanosausu', 'lanos', 'malosaurus', 'iranan', 'jurosaurusss']\n",
      "['irananananaura', 'panosaurus', 'neesaurus', 'iranan', 'wanosaurus']\n",
      "['kanosaurus', 'yuosauru', 'zhonosaurus', 'dinosaurus', 'yuosaurus']\n",
      "['onosaurus', 'xueranananananaurus', 'fasaurus', 'berosatanan', 'inosausus']\n",
      "['deranananananaurus', 'onos', 'panasausu', 'ganosauru', 'wanosaurus']\n",
      "['konos', 'jurosaurus', 'deran', 'urosaurus', 'kanosauruss']\n",
      "['panosaurur', 'elosausu', 'zhonon', 'wanosauruss', 'deranananauru']\n",
      "['denosaurus', 'urosax', 'ranosausu', 'jurosaurus', 'fanosaurus']\n",
      "['veranan', 'wanosaurus', 'yuosaurusss', 'wanosasru', 'banosaurus']\n"
     ]
    }
   ],
   "source": [
    "model.to('cpu')\n",
    "\n",
    "for i in range(0,10):\n",
    "    new_dinos = sample(\n",
    "        model, char_2_ix, ix_2_char,\n",
    "        hidden_dim=HID_DIM,\n",
    "        max_length=20, eos='\\n', k=5, seed=i,\n",
    "        device='cpu')\n",
    "    print(new_dinos)"
   ]
  }
 ],
 "metadata": {
  "kernelspec": {
   "display_name": "Python 3.8",
   "language": "python",
   "name": "py38"
  },
  "language_info": {
   "codemirror_mode": {
    "name": "ipython",
    "version": 3
   },
   "file_extension": ".py",
   "mimetype": "text/x-python",
   "name": "python",
   "nbconvert_exporter": "python",
   "pygments_lexer": "ipython3",
   "version": "3.8.13"
  }
 },
 "nbformat": 4,
 "nbformat_minor": 4
}
