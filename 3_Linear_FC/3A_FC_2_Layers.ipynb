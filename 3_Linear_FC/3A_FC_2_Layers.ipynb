{
 "cells": [
  {
   "cell_type": "code",
   "execution_count": 1,
   "metadata": {},
   "outputs": [],
   "source": [
    "import numpy as np\n",
    "import matplotlib.pyplot as plt"
   ]
  },
  {
   "cell_type": "markdown",
   "metadata": {},
   "source": [
    "# 1. Dataset\n",
    "- Binary Classification\n",
    "- X: Planar point (x1, x2) -> y: 0 or 1\n"
   ]
  },
  {
   "cell_type": "code",
   "execution_count": 2,
   "metadata": {},
   "outputs": [
    {
     "name": "stdout",
     "output_type": "stream",
     "text": [
      "X.shape = (400, 2), Y.shape = (400,)\n"
     ]
    }
   ],
   "source": [
    "def create_dataset():\n",
    "    np.random.seed(1)\n",
    "    m = 400 # number of examples\n",
    "    N = int(m/2) # number of points per class\n",
    "    D = 2 # dimensionality\n",
    "    X = np.zeros((m,D)) # data matrix where each row is a single example\n",
    "    Y = np.zeros((m,1), dtype='uint8') # labels vector (0 for red, 1 for blue)\n",
    "    a = 4 # maximum ray of the flower\n",
    "\n",
    "    for j in range(2):\n",
    "        ix = range(N*j,N*(j+1))\n",
    "        t = np.linspace(j*3.12,(j+1)*3.12,N) + np.random.randn(N)*0.2 # theta\n",
    "        r = a*np.sin(4*t) + np.random.randn(N)*0.2 # radius\n",
    "        X[ix] = np.c_[r*np.sin(t), r*np.cos(t)]\n",
    "        Y[ix] = j\n",
    "\n",
    "    return X, Y.reshape(-1)\n",
    "\n",
    "X, Y = create_dataset()\n",
    "print(f'{X.shape = }, {Y.shape = }')"
   ]
  },
  {
   "cell_type": "markdown",
   "metadata": {},
   "source": [
    "#### Visualize the data"
   ]
  },
  {
   "cell_type": "code",
   "execution_count": 3,
   "metadata": {
    "scrolled": false
   },
   "outputs": [
    {
     "data": {
      "image/png": "[encoded data removed]",
      "text/plain": [
       "<Figure size 432x288 with 1 Axes>"
      ]
     },
     "metadata": {
      "needs_background": "light"
     },
     "output_type": "display_data"
    }
   ],
   "source": [
    "cmap = {0:'y', 1:'b'}\n",
    "for label in [0, 1]:\n",
    "    plt.scatter(\n",
    "        x=X[(Y == label), 0], y=X[(Y == label), 1],\n",
    "        c=f'{cmap[label]}', marker='o', s=10, label=f'y={label}')\n",
    "plt.legend(bbox_to_anchor=(1.05, 1), loc=2, borderaxespad=0.)\n",
    "plt.ylabel('x2')\n",
    "plt.xlabel('x1')\n",
    "plt.show()"
   ]
  },
  {
   "cell_type": "markdown",
   "metadata": {},
   "source": [
    "# 3. Model\n",
    "#### Notation\n",
    "\n",
    "$$x_j^{(i)[l]}$$\n",
    "- $[l]$: layer l-th (L layers)\n",
    "+ $(i)$: data point i-th (m data points)\n",
    "+ $j$: feature j-th (n features)\n",
    "\n",
    "<img src=\"./assets/classification_kiank.png\" width=\"780\"/>\n",
    "\n",
    "\n",
    "## 3.1 Foward\n",
    "### 3.1.1 Data point view\n",
    "\n",
    "- Input $x^{(i)}$: data point i-th, size `(input_dim,)`\n",
    "\n",
    "#### Layer 1: Hidden layer\n",
    "\n",
    "$$z^{[1] (i)} =  W^{[1]} x^{(i)} + b^{[1]}\\tag{1}$$ \n",
    "$$a^{[1] (i)} = \\tanh(z^{[1] (i)})\\tag{2}$$\n",
    "\n",
    "#### Layer 2: Output Layer\n",
    "$$z^{[2] (i)} = W^{[2]} a^{[1] (i)} + b^{[2]}\\tag{3}$$\n",
    "$$\\hat{y}^{(i)} = a^{[2] (i)} = \\text{sigmoid}(z^{ [2] (i)})\\tag{4}$$\n",
    "\n",
    "### 3.1.2 Matrix-batch view\n",
    "#### Tensor note\n",
    "- Data\n",
    "    + `m`: batch size\n",
    "    - $X$: Input data, shape `(input_dim, m)`\n",
    "    - $Y$: shape `(output_dim, m)`\n",
    "- Layer 1\n",
    "    - $W^{[1]}$: shape `(hidden_dim, input_dim)`\n",
    "    - $b^{[1]}$: shape `(1, hidden_dim)`\n",
    "    - $A^{[1]},\\ Z^{[1]}$: shape `(hidden_dim, m)`\n",
    "- Layer 2\n",
    "    - $W^{[2]}$: shape `(output_dim, hidden_dim)`\n",
    "    - $b^{[2]}$: shape `(1, output_dim)`\n",
    "    - $\\hat{Y},\\ A^{[2]},\\ Z^{[2]}$: shape `(output_dim, m)`\n",
    "\n",
    "#### Layer 1: Hidden layer\n",
    "$$Z^{[1]} =  W^{[1]} \\cdot X + b^{[1]}\\tag{1}$$ \n",
    "$$A^{[1]} = \\tanh(Z^{[1]})\\tag{2}$$\n",
    "\n",
    "#### Layer 2: Output Layer\n",
    "$$Z^{[2]} = W^{[2]} \\cdot A^{[1]} + b^{[2]}\\tag{3}$$\n",
    "$$\\hat{Y} = A^{[2]} = \\text{sigmoid}(Z^{[2]})\\tag{4}$$"
   ]
  },
  {
   "cell_type": "code",
   "execution_count": 4,
   "metadata": {},
   "outputs": [],
   "source": [
    "def sigmoid(z):\n",
    "    \"\"\"\n",
    "    Compute the sigmoid of z\n",
    "\n",
    "    Args:\n",
    "        z (ndarray): input size (m,)\n",
    "\n",
    "    Returns:\n",
    "        g (ndarray): sigmoid(z), size (m,)\n",
    "    \"\"\"\n",
    "    return 1.0 / (1.0 + np.exp(-z))"
   ]
  },
  {
   "cell_type": "code",
   "execution_count": 5,
   "metadata": {},
   "outputs": [],
   "source": [
    "def forward_propagation(X, parameters):\n",
    "    \"\"\"\n",
    "    Compute forward propagation of L1 and L2\n",
    "    \n",
    "    Args:\n",
    "        X : Input data, shape (input_dim, m)\n",
    "        parameters : python dictionary containing parameters (W1, b1, W2, b2)\n",
    "    \n",
    "    Returns:\n",
    "        A2 : The sigmoid output of the second activation, shape (output_dim, m)\n",
    "        cache : a dictionary containing 'Z1', 'A1', 'Z2' and 'A2'\n",
    "    \"\"\"\n",
    "    # Retrieve each parameter from the dictionary \"parameters\"\n",
    "    W1, b1 = parameters['W1'], parameters['b1']\n",
    "    W2, b2 = parameters['W2'], parameters['b2']\n",
    "\n",
    "    # Forward Propagation\n",
    "    Z1 = np.dot(W1, X) + b1\n",
    "    A1 = np.tanh(Z1)\n",
    "\n",
    "    Z2 = np.dot(W2, A1) + b2\n",
    "    A2 = sigmoid(Z2)\n",
    "\n",
    "    # Return\n",
    "    cache = {'Z1': Z1,\n",
    "             'A1': A1,\n",
    "             'Z2': Z2,\n",
    "             'A2': A2}\n",
    "    return A2, cache"
   ]
  },
  {
   "cell_type": "markdown",
   "metadata": {},
   "source": [
    "## 3.2 Cost function\n",
    "- Loss Function for each data point (i)\n",
    "$$\\begin{split}\n",
    "    L(\\hat{y}^{(i)}, y^{(i)}) &= -y^{(i)} \\log(\\hat{y}^{(i)}) - (1 - y^{(i)}) \\log(1 - \\hat{y}^{(i)})\n",
    "\\end{split}$$\n",
    "\n",
    "- Cost function\n",
    "\n",
    "$$J(w,b) = \\frac{1}{m} \\sum\\limits_{i=0}^{m-1} \\left[ L(\\hat{y}^{(i)}, y^{(i)}) \\right]$$"
   ]
  },
  {
   "cell_type": "code",
   "execution_count": 6,
   "metadata": {},
   "outputs": [],
   "source": [
    "def compute_cost(Y_hat, Y):\n",
    "    \"\"\"\n",
    "    Computes the cross-entropy cost\n",
    "\n",
    "    Args:\n",
    "        Y_hat : The sigmoid output of the second activation, of shape (1, m)\n",
    "        Y : \"true\" labels vector of shape (1, m)\n",
    "\n",
    "    Returns:\n",
    "        cost : cross-entropy cost\n",
    "    \"\"\"\n",
    "    # number of example\n",
    "    m = Y.shape[1]\n",
    "\n",
    "    # Compute the cross-entropy cost\n",
    "    L = -np.multiply(Y ,np.log(Y_hat)) - np.multiply(1-Y, np.log(1-Y_hat))\n",
    "    J = 1./m * np.sum(L, axis=1)\n",
    "    \n",
    "    # makes sure cost is the dimension we expect. \n",
    "    #     E.g., turns [[17]] into 17\n",
    "    J = float(np.squeeze(J))\n",
    "    assert(isinstance(J, float))\n",
    "\n",
    "    return J"
   ]
  },
  {
   "cell_type": "markdown",
   "metadata": {},
   "source": [
    "## 3.3 Backpropagation\n",
    "- Derivative of $g(z) = \\tanh(z)$\n",
    "\n",
    "$$\\begin{split}\n",
    "    \\frac{\\partial g(z)}{\\partial z} &= 1 - g^2(z) \n",
    "\\end{split}$$\n",
    "\n",
    "#### Layer 2 - $A^{[2]}$ sigmoid\n",
    "\n",
    "$\\begin{align}\n",
    "\\frac{\\partial J(w,b)}{\\partial W^{[2]}}  &= \\frac{\\partial J}{\\partial A^{[2]}} \\frac{\\partial A^{[2]}}{\\partial Z^{[2]}} \\frac{\\partial Z^{[2]}}{\\partial W^{[2]}} \\\\\n",
    "    &= \\frac{1}{m} \\sum\\limits_{i=0}^m \\left[ \\frac{A^{[2]} - Y}{A^{[2]} (1 - A^{[2]})} \\right]  \\left[ A^{[2]}(1 - A^{[2]}) \\right] \\left[ A^{[1]\\ T} \\right] \\textbf{ (Note)} \\\\\n",
    "    &= \\frac{1}{m} \\sum\\limits_{i=0}^m \\left[ (A^{[2]} - Y) \\cdot A^{[1]\\ T} \\right]\n",
    "\\end{align}$\n",
    "\n",
    "$\\begin{align}\n",
    "\\frac{\\partial J(w,b)}{\\partial b^{[2]}}  &= \\frac{\\partial J}{\\partial A^{[2]}} \\frac{\\partial A^{[2]}}{\\partial Z^{[2]}} \\frac{\\partial Z^{[2]}}{\\partial b^{[2]}} \\\\\n",
    "    &= \\frac{1}{m} \\sum\\limits_{i=0}^m \\left[ \\frac{A^{[2]} - Y}{A^{[2]} (1 - A^{[2]})} \\right]  \\left[ A^{[2]}(1 - A^{[2]}) \\right] \\textbf{ (Note)} \\\\\n",
    "    &= \\frac{1}{m} \\sum\\limits_{i=0}^m \\left[ A^{[2]} - Y \\right]\n",
    "\\end{align}$\n",
    "\n",
    "#### Layer 1 - $A^{[1]}$ tanh\n",
    "\n",
    "$\\begin{align}\n",
    "\\frac{\\partial J(w,b)}{\\partial W^{[1]}}  &= \\frac{\\partial J}{\\partial A^{[2]}} \\frac{\\partial A^{[2]}}{\\partial Z^{[2]}} \\frac{\\partial Z^{[2]}}{\\partial A^{[1]}} \\frac{\\partial A^{[1]}}{\\partial Z^{[1]}} \\frac{\\partial Z^{[1]}}{\\partial W^{[1]}} \\\\\n",
    "    &= \\frac{\\partial J}{\\partial Z^{[2]}}  \\frac{\\partial Z^{[2]}}{\\partial A^{[1]}} \\frac{\\partial A^{[1]}}{\\partial Z^{[1]}} \\frac{\\partial Z^{[1]}}{\\partial W^{[1]}} \\\\\n",
    "    &= \\frac{1}{m} \\sum\\limits_{i=0}^m \\left[ (A^{[2]} - Y) \\right] \\left[ W^{[2]\\ T}\\right] \\left[ 1 - \\left(A^{[1]} \\right)^2 \\right] \\left[ X^T \\right] \\\\\n",
    "    &= \\frac{1}{m} \\sum\\limits_{i=0}^m \\left[ W^{[2]\\ T} \\cdot (A^{[2]} - Y) \\left( 1 - \\left(A^{[1]} \\right)^2 \\right) \\cdot X^T \\right]\n",
    "\\end{align}$\n",
    "\n",
    "$\\begin{align}\n",
    "\\frac{\\partial J(w,b)}{\\partial b^{[1]}}  &= \\frac{\\partial J}{\\partial A^{[2]}} \\frac{\\partial A^{[2]}}{\\partial Z^{[2]}} \\frac{\\partial Z^{[2]}}{\\partial A^{[1]}} \\frac{\\partial A^{[1]}}{\\partial Z^{[1]}} \\frac{\\partial Z^{[1]}}{\\partial b^{[1]}} \\\\\n",
    "&= \\frac{\\partial J}{\\partial Z^{[2]}}  \\frac{\\partial Z^{[2]}}{\\partial A^{[1]}} \\frac{\\partial A^{[1]}}{\\partial Z^{[1]}} \\frac{\\partial Z^{[1]}}{\\partial b^{[1]}} \\\\\n",
    "&= \\frac{\\partial J}{\\partial Z^{[2]}}  \\frac{\\partial Z^{[2]}}{\\partial A^{[1]}} \\frac{\\partial A^{[1]}}{\\partial Z^{[1]}} \\frac{\\partial Z^{[1]}}{\\partial W^{[1]}} \\\\\n",
    "    &= \\frac{1}{m} \\sum\\limits_{i=0}^m \\left[ (A^{[2]} - Y) \\right] \\left[ W^{[2]\\ T}\\right] \\left[ 1 - \\left(A^{[1]} \\right)^2 \\right] \\left[ 1 \\right] \\\\\n",
    "    &= \\frac{1}{m} \\sum\\limits_{i=0}^m \\left[  W^{[2]\\ T} \\cdot (A^{[2]} - Y) \\left( 1 - \\left(A^{[1]} \\right)^2 \\right) \\right]\n",
    "\\end{align}$"
   ]
  },
  {
   "cell_type": "code",
   "execution_count": 7,
   "metadata": {},
   "outputs": [],
   "source": [
    "def backward_propagation(parameters, cache, X, Y):\n",
    "    \"\"\"\n",
    "    backward propagation\n",
    "    \n",
    "    Arguments:\n",
    "        parameters : python dictionary containing our parameters \n",
    "        cache : a dictionary containing \"Z1\", \"A1\", \"Z2\" and \"A2\".\n",
    "        X : input data of shape (input_dim, m)\n",
    "        Y : labels vector of shape (output_dim, m)\n",
    "\n",
    "    Returns:\n",
    "        grads : python dictionary containing your gradients with respect to different parameters\n",
    "    \"\"\"\n",
    "    m = X.shape[1]\n",
    "\n",
    "    # Retrieve W1 and W2 from the dictionary \"parameters\".\n",
    "    W1, b1 = parameters['W1'], parameters['b1']\n",
    "    W2, b2 = parameters['W2'], parameters['b2']\n",
    "        \n",
    "    # Retrieve A1 and A2 from dictionary \"cache\".\n",
    "    A1 = cache['A1']\n",
    "    A2 = cache['A2']\n",
    "\n",
    "    # Backward propagation: calculate dJ_dW1, dJ_db1, dJ_dW2, dJ_db2\n",
    "    dJ_dW2 = 1./m * np.dot(A2 - Y, A1.T)\n",
    "    dJ_db2 = 1./m * np.sum(A2 - Y, axis=1, keepdims=True) # (A2-Y).shape = (out_dim, m)\n",
    "    \n",
    "    dJ_dW1 = 1./m * np.dot(W2.T @ (A2 - Y) * (1 - np.power(A1, 2)), X.T)\n",
    "    dJ_db1 = 1./m * np.sum(W2.T @ (A2 - Y) * (1 - np.power(A1, 2)), axis=1, keepdims=True)\n",
    "    \n",
    "    # Return grad\n",
    "    grads = {'dW1': dJ_dW1,\n",
    "             'db1': dJ_db1,\n",
    "             'dW2': dJ_dW2,\n",
    "             'db2': dJ_db2}\n",
    "    return grads"
   ]
  },
  {
   "cell_type": "markdown",
   "metadata": {},
   "source": [
    "- We can compute backpropagation Layer by Layer:\n",
    "\n",
    "```\n",
    "dA2 -> dZ2 -> dA1 -> dZ1\n",
    "        |             |\n",
    "    (dW2,db2)     (dW1,db1)\n",
    "```\n",
    "\n",
    "- **Denote**: $dx = \\frac{\\partial J}{\\partial x} $\n",
    "\n",
    "$\\begin{split}\n",
    "    dA^{[2]} = \\frac{\\partial J}{\\partial A^{[2]}} = \\frac{A^{[2]} - Y}{A^{[2]} (1 - A^{[2]})}\n",
    "\\end{split}$\n",
    "\n",
    "$\\begin{split}\n",
    "    dZ^{[2]} = \\frac{\\partial J}{\\partial Z^{[2]}} = \\frac{\\partial J}{\\partial A^{[2]}}  \\frac{\\partial A^{[2]}}{\\partial Z^{[2]}} = dA^{[2]} \\left[ A^{[2]}(1 - A^{[2]}) \\right]\n",
    "\\end{split}$\n",
    "\n",
    "$$\\begin{split}\n",
    "    dW^{[2]} &= \\frac{\\partial J}{\\partial W^{[2]}} = \\frac{\\partial J}{\\partial Z^{[2]}}  \\frac{\\partial Z^{[2]}}{\\partial W^{[2]}} = \\frac{1}{m} \\sum\\limits_{i=0}^m  \\left[ dZ^{[2]} \\left[ A^{[1]\\ T} \\right] \\right] = \\frac{1}{m} \\sum\\limits_{i=0}^m \\left[ dZ^{[2]} \\cdot A^{[1]\\ T} \\right] \\\\\n",
    "    db^{[2]} &= \\frac{\\partial J}{\\partial b^{[2]}} = \\frac{\\partial J}{\\partial Z^{[2]}}  \\frac{\\partial Z^{[2]}}{\\partial b^{[2]}} = \\frac{1}{m} \\sum\\limits_{i=0}^m dZ^{[2]}\n",
    "\\end{split}$$\n",
    "\n",
    "$\\begin{split}\n",
    "    dA^{[1]} = \\frac{\\partial J}{\\partial A^{[1]}} = \\frac{\\partial J}{\\partial Z^{[2]}}  \\frac{\\partial Z^{[2]}}{\\partial A^{[1]}} = dZ^{[2]} \\left[ W^{[2]\\ T} \\right] = W^{[2]\\ T} \\cdot dZ^{[2]} \n",
    "\\end{split}$\n",
    "\n",
    "$\\begin{split}\n",
    "    dZ^{[1]} = \\frac{\\partial J}{\\partial Z^{[1]}} = \\frac{\\partial J}{\\partial A^{[1]}}  \\frac{\\partial A^{[1]}}{\\partial Z^{[1]}} = dA^{[1]} \\left[ 1 - \\left(A^{[1]} \\right)^2  \\right]\n",
    "\\end{split}$\n",
    "\n",
    "$$\\begin{split}\n",
    "    dW^{[1]} &= \\frac{\\partial J}{\\partial W^{[1]}} = \\frac{\\partial J}{\\partial Z^{[1]}}  \\frac{\\partial Z^{[1]}}{\\partial W^{[1]}} = \\frac{1}{m} \\sum\\limits_{i=0}^m \\left[ dZ^{[1]} \\left[ X^T \\right] \\right] = \\frac{1}{m} \\sum\\limits_{i=0}^m \\left[ dZ^{[1]} \\cdot  X^T \\right] \\\\\n",
    "    db^{[1]} &= \\frac{\\partial J}{\\partial b^{[1]}} = \\frac{\\partial J}{\\partial Z^{[1]}}  \\frac{\\partial Z^{[1]}}{\\partial b^{[1]}} = \\frac{1}{m} \\sum\\limits_{i=0}^m dZ^{[1]}\n",
    "\\end{split}$$"
   ]
  },
  {
   "cell_type": "code",
   "execution_count": 8,
   "metadata": {},
   "outputs": [],
   "source": [
    "def backward_propagation(parameters, cache, X, Y):\n",
    "    \"\"\"\n",
    "    backward propagation\n",
    "    \n",
    "    Arguments:\n",
    "        parameters : python dictionary containing our parameters \n",
    "        cache : a dictionary containing \"Z1\", \"A1\", \"Z2\" and \"A2\".\n",
    "        X : input data of shape (input_dim, m)\n",
    "        Y : labels vector of shape (output_dim, m)\n",
    "\n",
    "    Returns:\n",
    "        grads : python dictionary containing your gradients with respect to different parameters\n",
    "    \"\"\"\n",
    "    m = X.shape[1]\n",
    "\n",
    "    # Retrieve W1 and W2 from the dictionary \"parameters\".\n",
    "    W1, b1 = parameters['W1'], parameters['b1']\n",
    "    W2, b2 = parameters['W2'], parameters['b2']\n",
    "        \n",
    "    # Retrieve A1 and A2 from dictionary \"cache\".\n",
    "    A1 = cache['A1']\n",
    "    A2 = cache['A2']\n",
    "\n",
    "    # Backward propagation\n",
    "    dA2 = np.divide(A2 - Y, A2*(1-A2))\n",
    "    dZ2 = np.multiply(dA2, A2*(1-A2))\n",
    "    dW2 = 1./m * np.dot(dZ2, A1.T)\n",
    "    db2 = 1./m * np.sum(dZ2, axis=1, keepdims=True)\n",
    "    \n",
    "    dA1 = np.dot(W2.T, dZ2)\n",
    "    dZ1 = np.multiply(dA1, 1 - np.power(A1, 2))\n",
    "    dW1 = 1./m * np.dot(dZ1, X.T)\n",
    "    db1 = 1./m * np.sum(dZ1, axis=1, keepdims=True)\n",
    "\n",
    "    # Return grad\n",
    "    grads = {'dW1': dW1,\n",
    "             'db1': db1,\n",
    "             'dW2': dW2,\n",
    "             'db2': db2}\n",
    "    return grads"
   ]
  },
  {
   "cell_type": "markdown",
   "metadata": {},
   "source": [
    "# 4. Train"
   ]
  },
  {
   "cell_type": "code",
   "execution_count": 9,
   "metadata": {},
   "outputs": [],
   "source": [
    "def fit(\n",
    "        X, Y, hidden_dim=4,\n",
    "        alpha=1e-2, num_iters=1000):\n",
    "    \"\"\"\n",
    "    Train Fully Connected NN - 2 Layer - Binary Classification\n",
    "    \n",
    "    Arguments:\n",
    "        X : input data of shape (m, input_dim)\n",
    "        Y : labels 0,1 vector of shape (m,)\n",
    "        hidden_dim (scalar): number of hidden_dim of Layer 1 \n",
    "\n",
    "    Returns:\n",
    "        params : python dictionary containing parameters W1, b1, W2, b2\n",
    "        J_history : History of Cost function for plotting\n",
    "    \"\"\"\n",
    "    ## Reformat X, Y\n",
    "    # (m, input_dim) -> (input_dim, m)\n",
    "    X = X.T\n",
    "    # (m,) -> (output_dim, m)\n",
    "    Y = Y.reshape(1, -1)\n",
    "    \n",
    "    # size\n",
    "    input_dim = X.shape[0]\n",
    "    hidden_dim = 4\n",
    "    output_dim = Y.shape[0]\n",
    "\n",
    "    # Initialize parameters\n",
    "    params = {\n",
    "        'W1': np.random.randn(hidden_dim, input_dim) * 0.1,\n",
    "        'b1': np.zeros((hidden_dim, 1)),\n",
    "        'W2': np.random.randn(output_dim, hidden_dim) * 0.1,\n",
    "        'b2': np.zeros((output_dim, 1))}\n",
    "    \n",
    "    # Iters\n",
    "    J_history = []\n",
    "    for i in range(num_iters):\n",
    "\n",
    "        # Forward\n",
    "        Y_hat, cache = forward_propagation(X, params)\n",
    "        \n",
    "        # Compute Cost\n",
    "        if i<100000:\n",
    "            cost = compute_cost(Y_hat, Y)\n",
    "            J_history.append(cost)\n",
    "        \n",
    "        # Back Propagation\n",
    "        grads = backward_propagation(params, cache, X, Y)\n",
    "        \n",
    "        # Update params\n",
    "        params['W1'] -= alpha * grads['dW1']\n",
    "        params['b1'] -= alpha * grads['db1']\n",
    "        params['W2'] -= alpha * grads['dW2']\n",
    "        params['b2'] -= alpha * grads['db2']\n",
    "        \n",
    "        if i % 10000 == 0:\n",
    "            print (\"Cost after iteration %i: %f\" % (i, cost))\n",
    "\n",
    "    return params, J_history"
   ]
  },
  {
   "cell_type": "code",
   "execution_count": 10,
   "metadata": {
    "scrolled": false
   },
   "outputs": [
    {
     "name": "stdout",
     "output_type": "stream",
     "text": [
      "Cost after iteration 0: 0.690382\n",
      "Cost after iteration 10000: 0.387034\n",
      "Cost after iteration 20000: 0.331288\n",
      "Cost after iteration 30000: 0.315590\n",
      "Cost after iteration 40000: 0.307030\n",
      "Cost after iteration 50000: 0.301229\n",
      "Cost after iteration 60000: 0.296830\n",
      "Cost after iteration 70000: 0.293210\n",
      "Cost after iteration 80000: 0.290033\n",
      "Cost after iteration 90000: 0.287210\n"
     ]
    }
   ],
   "source": [
    "parameters, J_hist = fit(\n",
    "    X=X , Y=Y, hidden_dim=50,\n",
    "    alpha=1e-2, num_iters=100000)"
   ]
  },
  {
   "cell_type": "markdown",
   "metadata": {},
   "source": [
    "#### Training param plot"
   ]
  },
  {
   "cell_type": "code",
   "execution_count": 11,
   "metadata": {
    "scrolled": false
   },
   "outputs": [
    {
     "data": {
      "image/png": "[encoded data removed]",
      "text/plain": [
       "<Figure size 864x288 with 2 Axes>"
      ]
     },
     "metadata": {
      "needs_background": "light"
     },
     "output_type": "display_data"
    }
   ],
   "source": [
    "fig, (ax1, ax2) = plt.subplots(1, 2, constrained_layout=True, figsize=(12,4))\n",
    "\n",
    "ax1.plot(J_hist[:1000])\n",
    "ax2.plot(1000 + np.arange(len(J_hist[1000:])), J_hist[1000:])\n",
    "ax1.set_title(\"Cost vs. iteration(start)\");  ax2.set_title(\"Cost vs. iteration (end)\")\n",
    "ax1.set_ylabel('Cost')            ;  ax2.set_ylabel('Cost') \n",
    "ax1.set_xlabel('iteration step')  ;  ax2.set_xlabel('iteration step')\n",
    "plt.show()"
   ]
  },
  {
   "cell_type": "markdown",
   "metadata": {},
   "source": [
    "# 6. Inference"
   ]
  },
  {
   "cell_type": "markdown",
   "metadata": {},
   "source": [
    "#### Decision Boundary"
   ]
  },
  {
   "cell_type": "code",
   "execution_count": 12,
   "metadata": {},
   "outputs": [],
   "source": [
    "def plot_data(X, y):\n",
    "    cmap = {0:'y', 1:'b'}\n",
    "    for label in [0, 1]:\n",
    "        plt.scatter(\n",
    "            x=X[(y == label), 0], y=X[(y == label), 1],\n",
    "            c=f'{cmap[label]}', marker='o', s=10, label=f'y={label}')\n",
    "    plt.legend(bbox_to_anchor=(1.05, 1), loc=2, borderaxespad=0.)\n",
    "    plt.ylabel('x2')\n",
    "    plt.xlabel('x1')\n",
    "\n",
    "def plot_decision_boundary(model, X, y):\n",
    "    \"\"\"\n",
    "    plot_decision_boundary - Binary Classification - (X,Y) Coordinates\n",
    "    \n",
    "    Arguments:\n",
    "        model (func) : predictions model; y_hat = model(X)\n",
    "        X : input data of shape (m, 2)\n",
    "        y : labels 0,1 vector of shape (m,)\n",
    "    Returns:\n",
    "        Contour plotting\n",
    "    \"\"\"\n",
    "    # Set min and max values and give it some padding\n",
    "    x_min, x_max = X[:,0].min() - 1, X[:,0].max() + 1\n",
    "    y_min, y_max = X[:,1].min() - 1, X[:,1].max() + 1\n",
    "    h = 0.01\n",
    "\n",
    "    # Generate a grid of points with distance h between them\n",
    "    xx, yy = np.meshgrid(np.arange(x_min, x_max, h), np.arange(y_min, y_max, h))\n",
    "    \n",
    "    # Predict the function value for the whole grid\n",
    "    Z = model(np.c_[xx.ravel(), yy.ravel()])\n",
    "    Z = Z.reshape(xx.shape)\n",
    "\n",
    "    # Plot the contour\n",
    "    plt.contourf(xx, yy, Z, cmap=plt.cm.Spectral)\n",
    "    \n",
    "    # Plot data\n",
    "    plot_data(X, y)\n",
    "    plt.show()"
   ]
  },
  {
   "cell_type": "code",
   "execution_count": 13,
   "metadata": {},
   "outputs": [
    {
     "data": {
      "image/png": "[encoded data removed]",
      "text/plain": [
       "<Figure size 432x288 with 1 Axes>"
      ]
     },
     "metadata": {
      "needs_background": "light"
     },
     "output_type": "display_data"
    }
   ],
   "source": [
    "def predict(x, parameters):\n",
    "    y_hat, _ = forward_propagation(x.T, parameters)\n",
    "    predictions = (y_hat >= 0.5)\n",
    "    return predictions\n",
    "\n",
    "plot_decision_boundary(lambda x: predict(x, parameters), X, Y)"
   ]
  },
  {
   "cell_type": "markdown",
   "metadata": {},
   "source": [
    "#### Accuracy"
   ]
  },
  {
   "cell_type": "code",
   "execution_count": 14,
   "metadata": {},
   "outputs": [
    {
     "name": "stdout",
     "output_type": "stream",
     "text": [
      "Trainset Accuracy = 88.50%\n"
     ]
    }
   ],
   "source": [
    "Y_hat, _ = forward_propagation(X.T, parameters)\n",
    "Y_hat = Y_hat.reshape(-1) \n",
    "\n",
    "accuracy = np.mean((Y_hat >= 0.5) == Y)*100.0\n",
    "print(f\"Trainset Accuracy = {accuracy:.2f}%\")"
   ]
  },
  {
   "cell_type": "markdown",
   "metadata": {},
   "source": [
    "#### AUC"
   ]
  },
  {
   "cell_type": "code",
   "execution_count": 15,
   "metadata": {},
   "outputs": [],
   "source": [
    "from sklearn.metrics import roc_curve, auc\n",
    "\n",
    "def plot_ROC(y, y_pred):\n",
    "    fpr, tpr, thresholds = roc_curve(y, y_pred)\n",
    "\n",
    "    # auc\n",
    "    print(f'auc score: {auc(fpr, tpr):.3f}')\n",
    "\n",
    "    # plot\n",
    "    plt.plot(fpr, tpr, linestyle='--', label='ROC curve')\n",
    "    plt.xlabel('False Positive Rate')\n",
    "    plt.ylabel('True Positive Rate')\n",
    "\n",
    "    plt.legend(loc=4)\n",
    "    plt.show()"
   ]
  },
  {
   "cell_type": "code",
   "execution_count": 16,
   "metadata": {},
   "outputs": [
    {
     "name": "stdout",
     "output_type": "stream",
     "text": [
      "auc score: 0.950\n"
     ]
    },
    {
     "data": {
      "image/png": "[encoded data removed]",
      "text/plain": [
       "<Figure size 432x288 with 1 Axes>"
      ]
     },
     "metadata": {
      "needs_background": "light"
     },
     "output_type": "display_data"
    }
   ],
   "source": [
    "plot_ROC(Y, Y_hat)"
   ]
  }
 ],
 "metadata": {
  "kernelspec": {
   "display_name": "Python 3.8",
   "language": "python",
   "name": "py38"
  },
  "language_info": {
   "codemirror_mode": {
    "name": "ipython",
    "version": 3
   },
   "file_extension": ".py",
   "mimetype": "text/x-python",
   "name": "python",
   "nbconvert_exporter": "python",
   "pygments_lexer": "ipython3",
   "version": "3.8.13"
  }
 },
 "nbformat": 4,
 "nbformat_minor": 4
}
