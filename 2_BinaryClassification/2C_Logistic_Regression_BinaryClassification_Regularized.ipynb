{
 "cells": [
  {
   "cell_type": "code",
   "execution_count": 1,
   "metadata": {},
   "outputs": [],
   "source": [
    "import numpy as np\n",
    "import matplotlib.pyplot as plt\n",
    "\n",
    "from unit_tests.Classification import \\\n",
    "    compute_cost_reg_test, compute_gradient_reg_test"
   ]
  },
  {
   "cell_type": "markdown",
   "metadata": {},
   "source": [
    "# 1. Dataset\n",
    "- Predict if a microchip is QA accepted by 2 chip test scores\n",
    "\n",
    "| Microchip Test 1 score (float) | Microchip Test 2 score (float) | Accepted (bool) |\n",
    "|--------------------------------|--------------------------------|-----------------|\n",
    "| $x_1^{(i)}$                          | $x_2^{(i)}$                          | $y^{(i)}$             |"
   ]
  },
  {
   "cell_type": "code",
   "execution_count": 2,
   "metadata": {},
   "outputs": [],
   "source": [
    "def load_data(filename):\n",
    "    data = np.loadtxt(filename, delimiter=',')\n",
    "    X = data[:,:2]\n",
    "    y = data[:,2]\n",
    "    return X, y"
   ]
  },
  {
   "cell_type": "code",
   "execution_count": 3,
   "metadata": {},
   "outputs": [
    {
     "name": "stdout",
     "output_type": "stream",
     "text": [
      "X_train.shape = (118, 2)\n",
      "X_train.shape = (118, 2)\n",
      "\n",
      "X_train[:5] = array([[ 0.051267,  0.69956 ],\n",
      "       [-0.092742,  0.68494 ],\n",
      "       [-0.21371 ,  0.69225 ],\n",
      "       [-0.375   ,  0.50219 ],\n",
      "       [-0.51325 ,  0.46564 ]])\n",
      "y_train[:5] = array([1., 1., 1., 1., 1.])\n"
     ]
    }
   ],
   "source": [
    "X_train, y_train = load_data(\"datasets/ex2data2.txt\")\n",
    "\n",
    "print(f'{X_train.shape = }')\n",
    "print(f'{X_train.shape = }')\n",
    "print()\n",
    "print(f'{X_train[:5] = }')\n",
    "print(f'{y_train[:5] = }')"
   ]
  },
  {
   "cell_type": "markdown",
   "metadata": {},
   "source": [
    "#### Plot"
   ]
  },
  {
   "cell_type": "code",
   "execution_count": 4,
   "metadata": {},
   "outputs": [
    {
     "data": {
      "image/png": "[encoded data removed]",
      "text/plain": [
       "<Figure size 432x288 with 1 Axes>"
      ]
     },
     "metadata": {
      "needs_background": "light"
     },
     "output_type": "display_data"
    }
   ],
   "source": [
    "def plot_data(X, y, neg_label=\"y=0\", pos_label=\"y=1\"):\n",
    "    negative = y == 0\n",
    "    positive = y == 1\n",
    "    \n",
    "    plt.plot(X[negative, 0], X[negative, 1], 'yo', label=neg_label)\n",
    "    plt.plot(X[positive, 0], X[positive, 1], 'b+', label=pos_label)\n",
    "    plt.ylabel('Microchip Test 2') \n",
    "    plt.xlabel('Microchip Test 1') \n",
    "    plt.legend(bbox_to_anchor=(1.05, 1), loc=2, borderaxespad=0.)\n",
    "\n",
    "plot_data(X_train, y_train[:], neg_label=\"Rejected\", pos_label=\"Accepted\")\n",
    "\n",
    "\n",
    "plt.show()"
   ]
  },
  {
   "cell_type": "markdown",
   "metadata": {},
   "source": [
    "#### Feature mapping\n",
    "- Since the data distribution is non-linear, We create more features based on the original 2 $\\to$ increase model complexity $\\to$ more complex decision boundary\n",
    "- `map_feature`: map into all polynomial terms of $x_1$ and $x_2$ up to the sixth power\n",
    "$$\\mathrm{map\\_feature}(x) = \n",
    "\\left[\\begin{array}{c}\n",
    "x_1\\\\\n",
    "x_2\\\\\n",
    "x_1^2\\\\\n",
    "x_1 x_2\\\\\n",
    "x_2^2\\\\\n",
    "x_1^3\\\\\n",
    "\\vdots\\\\\n",
    "x_1 x_2^5\\\\\n",
    "x_2^6\\end{array}\\right]$$\n"
   ]
  },
  {
   "cell_type": "code",
   "execution_count": 5,
   "metadata": {},
   "outputs": [],
   "source": [
    "def map_feature(X1, X2):\n",
    "    \"\"\"\n",
    "    Feature mapping function to polynomial features    \n",
    "    \"\"\"\n",
    "    X1 = np.atleast_1d(X1)\n",
    "    X2 = np.atleast_1d(X2)\n",
    "    degree = 6\n",
    "    out = []\n",
    "    for i in range(1, degree+1):\n",
    "        for j in range(i + 1):\n",
    "            out.append((X1**(i-j) * (X2**j)))\n",
    "    return np.stack(out, axis=1)"
   ]
  },
  {
   "cell_type": "code",
   "execution_count": 6,
   "metadata": {},
   "outputs": [
    {
     "name": "stdout",
     "output_type": "stream",
     "text": [
      "Original shape of data: (118, 2)\n",
      "Shape after feature mapping: (118, 27)\n"
     ]
    }
   ],
   "source": [
    "print(\"Original shape of data:\", X_train.shape)\n",
    "\n",
    "X_train_mapped =  map_feature(X_train[:, 0], X_train[:, 1])\n",
    "print(\"Shape after feature mapping:\", X_train_mapped.shape)"
   ]
  },
  {
   "cell_type": "markdown",
   "metadata": {},
   "source": [
    "# 2. Model\n",
    "#### Logistic Regression"
   ]
  },
  {
   "cell_type": "code",
   "execution_count": 7,
   "metadata": {},
   "outputs": [],
   "source": [
    "def sigmoid(z):\n",
    "    \"\"\"\n",
    "    Compute the sigmoid of z\n",
    "\n",
    "    Args:\n",
    "        z (ndarray): input size (m,)\n",
    "\n",
    "    Returns:\n",
    "        g (ndarray): sigmoid(z), size (m,)\n",
    "    \"\"\"\n",
    "    return 1.0 / (1.0 + np.exp(-z))"
   ]
  },
  {
   "cell_type": "code",
   "execution_count": 8,
   "metadata": {},
   "outputs": [],
   "source": [
    "def f(X, w, b):\n",
    "    '''\n",
    "    Compute forward propagation of Logistic Regression\n",
    "\n",
    "    Args:\n",
    "        x : datapoint i, vector shape (m,n)\n",
    "        w : w parameters, vector shape (n,)\n",
    "        b : bias params, scalar\n",
    "    Return:\n",
    "        o : LR output, vector shape (m,)\n",
    "    '''\n",
    "    return sigmoid(np.dot(X, w) + b)"
   ]
  },
  {
   "cell_type": "markdown",
   "metadata": {},
   "source": [
    "# 3. Cost function"
   ]
  },
  {
   "cell_type": "markdown",
   "metadata": {},
   "source": [
    "#### Cost function with Regularized\n",
    "- Add the **regularization term** $\\frac{\\lambda}{2m}  \\sum\\limits_{j=0}^{n-1} w_j^2$ to reduce the overfitting effect\n",
    "\n",
    "\n",
    "$$\\begin{split}\n",
    "    J(w,b) &= \\frac{1}{m} \\sum\\limits_{i=0}^{m-1} \\left[ L(\\hat{y}^{(i)}, y^{(i)}) \\right] + \\frac{\\lambda}{2m}  \\sum\\limits_{j=0}^{n-1} w_j^2 \\\\\n",
    "    &= \\frac{1}{m} \\sum\\limits_{i=0}^{m-1} \\left[ -y^{(i)} \\log(f_{w,b}(x^{(i)})) - (1 - y^{(i)}) \\log(1 - f_{w,b}(x^{(i)})) \\right] + \\frac{\\lambda}{2m}  \\sum\\limits_{j=0}^{n-1} w_j^2\n",
    "\\end{split}$$"
   ]
  },
  {
   "cell_type": "code",
   "execution_count": 9,
   "metadata": {},
   "outputs": [
    {
     "name": "stdout",
     "output_type": "stream",
     "text": [
      "\u001b[92mAll tests passed!\n"
     ]
    }
   ],
   "source": [
    "def compute_cost_reg(X, y, w, b, lambda_ = 1):\n",
    "    \"\"\"\n",
    "    Computes the cost over all examples\n",
    "    Args:\n",
    "      X : (array_like Shape (m,n)) data, m examples by n features\n",
    "      y : (array_like Shape (m,)) target value \n",
    "      w : (array_like Shape (n,)) Values of parameters of the model      \n",
    "      b : (array_like Shape (n,)) Values of bias parameter of the model\n",
    "      lambda_ : (scalar, float)    Controls amount of regularization\n",
    "    Returns:\n",
    "      total_cost: (scalar)         cost \n",
    "    \"\"\"\n",
    "    m, n = X.shape\n",
    "    \n",
    "    # Compute original cost\n",
    "    y_hat = f(X, w, b)\n",
    "    cost = 1/m * np.sum(-y*np.log(y_hat) - (1-y)*np.log(1 - y_hat))\n",
    "    \n",
    "    # Compute Regularized cost\n",
    "    reg_cost = lambda_/(2.*m) * np.sum(np.power(w, 2))\n",
    "    \n",
    "    return cost + reg_cost\n",
    "\n",
    "# UNIT TEST    \n",
    "compute_cost_reg_test(compute_cost_reg)"
   ]
  },
  {
   "cell_type": "markdown",
   "metadata": {},
   "source": [
    "# 4. Gradient\n",
    "#### Deriviative of Reg term\n",
    "\n",
    "$$\\frac{\\partial \\left[ \\frac{\\lambda}{2m}  \\sum\\limits_{j=0}^{n-1} w_j^2 \\right]}{\\partial w} = \\frac{\\lambda}{m} w_j$$ \n",
    "$$\\frac{\\partial \\left[ \\frac{\\lambda}{2m}  \\sum\\limits_{j=0}^{n-1} w_j^2 \\right]}{\\partial b} = 0$$\n",
    "\n",
    "#### Gradient of the cost function\n",
    "\n",
    "$$\\begin{split}\n",
    "\\frac{\\partial J(w,b)}{\\partial w}  &= \\frac{1}{m} \\sum\\limits_{i = 0}^{m-1} \\left[(f_{w,b}(x^{(i)}) - y^{(i)})x^{(i)} \\right] + \\frac{\\lambda}{m} w_j \\\\\n",
    "    &= \\frac{1}{m} \\sum\\limits_{i = 0}^{m-1} \\left[ (\\hat{y}^{(i)} - y^{(i)})x^{(i)} \\right] + \\frac{\\lambda}{m} w_j\n",
    "\\end{split}$$\n",
    "\n",
    "$$\\begin{split}\n",
    "\\frac{\\partial J(w,b)}{\\partial b} &= \\frac{1}{m} \\sum\\limits_{i = 0}^{m-1} \\left[ f_{w,b}(x^{(i)}) - y^{(i)} \\right] \\\\\n",
    "    &= \\frac{1}{m} \\sum\\limits_{i = 0}^{m-1} \\left[ \\hat{y}^{(i)} - y^{(i)} \\right]\n",
    "\\end{split}$$\n",
    "\n",
    "#### Update $w, b$\n",
    "+ $\\alpha$: Learning rate\n",
    "\n",
    "$$\\text{repeat until convergence: } \\\\\n",
    "\\begin{cases}\n",
    "    w &= w -  \\alpha \\frac{\\partial J(w,b)}{\\partial w} \\\\\n",
    "    b &= b -  \\alpha \\frac{\\partial J(w,b)}{\\partial b}\n",
    "\\end{cases}$$"
   ]
  },
  {
   "cell_type": "code",
   "execution_count": 10,
   "metadata": {},
   "outputs": [
    {
     "name": "stdout",
     "output_type": "stream",
     "text": [
      "\u001b[92mAll tests passed!\n"
     ]
    }
   ],
   "source": [
    "def compute_gradient_reg(X, y, w, b, lambda_ = 1): \n",
    "    \"\"\"\n",
    "    Computes the gradient for linear regression \n",
    " \n",
    "    Args:\n",
    "      X : (ndarray Shape (m,n))   variable such as house size \n",
    "      y : (ndarray Shape (m,))    actual value \n",
    "      w : (ndarray Shape (n,))    values of parameters of the model      \n",
    "      b : (scalar)                value of parameter of the model  \n",
    "      lambda_ : (scalar,float)    regularization constant\n",
    "    Returns\n",
    "      dj_db: (scalar)             The gradient of the cost w.r.t. the parameter b. \n",
    "      dj_dw: (ndarray Shape (n,)) The gradient of the cost w.r.t. the parameters w. \n",
    "\n",
    "    \"\"\"\n",
    "    m, n = X.shape\n",
    "    \n",
    "    # Compute forward output\n",
    "    y_hat = f(X, w, b)\n",
    "    \n",
    "    # Update dj/dw\n",
    "    dj_dw = 1./m * np.dot(y_hat - y, X) + lambda_/m*w\n",
    "    \n",
    "    # Update db/dw\n",
    "    dj_db = 1./m * np.sum(y_hat - y)\n",
    "        \n",
    "    return dj_db, dj_dw\n",
    "\n",
    "# UNIT TESTS    \n",
    "compute_gradient_reg_test(compute_gradient_reg)"
   ]
  },
  {
   "cell_type": "markdown",
   "metadata": {},
   "source": [
    "# 5. Train - Gradient Descent"
   ]
  },
  {
   "cell_type": "code",
   "execution_count": 11,
   "metadata": {},
   "outputs": [],
   "source": [
    "import math\n",
    "\n",
    "def fit(X, y,\n",
    "        w_init, b_init,\n",
    "        cost_fn, gradient_fn,\n",
    "        alpha, num_iters, lambda_): \n",
    "    \"\"\"\n",
    "    Performs batch gradient descent to learn theta. Updates theta by taking \n",
    "    num_iters gradient steps with learning rate alpha\n",
    "    \n",
    "    Args:\n",
    "      X :    (array_like Shape (m, n)\n",
    "      y :    (array_like Shape (m,))\n",
    "      w_init : (array_like Shape (n,))  Initial values of parameters of the model\n",
    "      b_init : (scalar)                 Initial value of parameter of the model\n",
    "      cost_fn:                        function to compute cost\n",
    "      gradient_fn:                    function to gradient\n",
    "      alpha : (float)                 Learning rate\n",
    "      num_iters : (int)               number of iterations to run gradient descent\n",
    "      lambda_ (scalar, float)         regularization constant\n",
    "      \n",
    "    Returns:\n",
    "      w : (array_like Shape (n,)) Updated values of parameters of the model after\n",
    "          running gradient descent\n",
    "      b : (scalar)                Updated value of parameter of the model after\n",
    "          running gradient descent\n",
    "    \"\"\"\n",
    "    # number of training examples\n",
    "    m = len(X)\n",
    "    \n",
    "    # An array to store cost J and w's at each iteration primarily for graphing later\n",
    "    J_history = []\n",
    "    w_history = []\n",
    "    \n",
    "    # Gradient descent\n",
    "    w = w_init\n",
    "    b = b_init\n",
    "    for i in range(num_iters):\n",
    "        dj_db, dj_dw = gradient_fn(X, y, w, b, lambda_)   \n",
    "\n",
    "        # Update w, b\n",
    "        w = w - alpha * dj_dw               \n",
    "        b = b - alpha * dj_db              \n",
    "       \n",
    "        # Save cost J at each iteration\n",
    "        if i<100000:\n",
    "            cost = cost_fn(X, y, w, b, lambda_)\n",
    "            J_history.append(cost)\n",
    "\n",
    "        # Print\n",
    "        if i% math.ceil(num_iters/10) == 0 or i == (num_iters-1):\n",
    "            w_history.append(w)\n",
    "            print(f\"Iteration {i:4}: Cost {float(J_history[-1]):8.2f}   \")\n",
    "        \n",
    "    return w, b, J_history, w_history"
   ]
  },
  {
   "cell_type": "code",
   "execution_count": 12,
   "metadata": {},
   "outputs": [
    {
     "name": "stdout",
     "output_type": "stream",
     "text": [
      "Iteration    0: Cost     0.87   \n",
      "Iteration  700: Cost     0.65   \n",
      "Iteration 1400: Cost     0.62   \n",
      "Iteration 2100: Cost     0.60   \n",
      "Iteration 2800: Cost     0.58   \n",
      "Iteration 3500: Cost     0.57   \n",
      "Iteration 4200: Cost     0.56   \n",
      "Iteration 4900: Cost     0.56   \n",
      "Iteration 5600: Cost     0.55   \n",
      "Iteration 6300: Cost     0.55   \n",
      "Iteration 6999: Cost     0.54   \n",
      "\tFinal: (w,b): (w_final = array([ 0.40134874,  0.74239704, -1.30201312, -0.4987603 , -0.79399256,\n",
      "       -0.02985922,  0.03896842, -0.05925768, -0.14736577, -1.2657758 ,\n",
      "       -0.23488892, -0.61536525, -0.32549041, -1.17080475, -0.35071726,\n",
      "        0.00606962, -0.01024697, -0.42557448, -0.37729486, -0.26290148,\n",
      "       -0.7289107 , -0.1362445 , -0.33427767,  0.15484558, -0.38706826,\n",
      "        0.01693916, -0.62021008]), b_final =   0.8930)\n"
     ]
    }
   ],
   "source": [
    "initial_w = np.random.rand(X_train_mapped.shape[1]) - 0.5\n",
    "initial_b = np.array(1.0)\n",
    "\n",
    "w_final, b_final, J_history, _ = fit(\n",
    "    X=X_train_mapped , y=y_train,\n",
    "    w_init=initial_w, b_init=initial_b, \n",
    "    cost_fn=compute_cost_reg, gradient_fn=compute_gradient_reg,\n",
    "    alpha=1e-2, num_iters=7000, lambda_=1.0)\n",
    "\n",
    "print(f\"\\tFinal: (w,b): ({w_final = }, {b_final = :8.4f})\")"
   ]
  },
  {
   "cell_type": "markdown",
   "metadata": {},
   "source": [
    "# 6. Inference"
   ]
  },
  {
   "cell_type": "markdown",
   "metadata": {},
   "source": [
    "#### Decision Boundary"
   ]
  },
  {
   "cell_type": "code",
   "execution_count": 13,
   "metadata": {},
   "outputs": [],
   "source": [
    "def plot_data(X, y, neg_label=\"y=0\", pos_label=\"y=1\"):\n",
    "    negative = y == 0\n",
    "    positive = y == 1\n",
    "    \n",
    "    plt.plot(X[negative, 0], X[negative, 1], 'yo', label=neg_label)\n",
    "    plt.plot(X[positive, 0], X[positive, 1], 'b+', label=pos_label)\n",
    "    plt.ylabel('Microchip Test 2') \n",
    "    plt.xlabel('Microchip Test 1') \n",
    "    plt.legend(bbox_to_anchor=(1.05, 1), loc=2, borderaxespad=0.)\n",
    "    \n",
    "def plot_decision_boundary(model, X, y):\n",
    "    \"\"\"\n",
    "    plot_decision_boundary - Binary Classification - (X,Y) Coordinates\n",
    "    \n",
    "    Arguments:\n",
    "        model (func) : predictions model; y_hat = model(X)\n",
    "        X : input data of shape (m, 2)\n",
    "        y : labels 0,1 vector of shape (m,)\n",
    "    Returns:\n",
    "        Contour plotting\n",
    "    \"\"\"\n",
    "    # Set min and max values and give it some padding\n",
    "    x_min, x_max = X[:,0].min() - 1, X[:,0].max() + 1\n",
    "    y_min, y_max = X[:,1].min() - 1, X[:,1].max() + 1\n",
    "    h = 0.01\n",
    "\n",
    "    # Generate a grid of points with distance h between them\n",
    "    xx, yy = np.meshgrid(np.arange(x_min, x_max, h), np.arange(y_min, y_max, h))\n",
    "    \n",
    "    # Predict the function value for the whole grid\n",
    "    Z = model(np.c_[xx.ravel(), yy.ravel()])\n",
    "    Z = Z.reshape(xx.shape)\n",
    "\n",
    "    # Plot the contour\n",
    "    plt.contourf(xx, yy, Z, cmap=plt.cm.Spectral)\n",
    "    \n",
    "    # Plot data\n",
    "    plot_data(X, y, neg_label=\"Rejected\", pos_label=\"Accepted\")\n",
    "    plt.show()"
   ]
  },
  {
   "cell_type": "code",
   "execution_count": 14,
   "metadata": {},
   "outputs": [
    {
     "data": {
      "image/png": "[encoded data removed]",
      "text/plain": [
       "<Figure size 432x288 with 1 Axes>"
      ]
     },
     "metadata": {
      "needs_background": "light"
     },
     "output_type": "display_data"
    }
   ],
   "source": [
    "def predict(x, w, b):\n",
    "    x_mapped = map_feature(x[:, 0], x[:, 1])\n",
    "    y_hat = f(x_mapped, w, b)\n",
    "    predictions = (y_hat >= 0.5)\n",
    "    return predictions\n",
    "\n",
    "plot_decision_boundary(lambda x: predict(x, w_final, b_final), X_train, y_train)"
   ]
  },
  {
   "cell_type": "markdown",
   "metadata": {},
   "source": [
    "#### Accuracy"
   ]
  },
  {
   "cell_type": "code",
   "execution_count": 15,
   "metadata": {},
   "outputs": [
    {
     "name": "stdout",
     "output_type": "stream",
     "text": [
      "Train Accuracy: 83.05%\n"
     ]
    }
   ],
   "source": [
    "y_hat = f(X_train_mapped, w_final, b_final)\n",
    "accuracy = np.mean((y_hat >= 0.5) == y_train)\n",
    "print(f'Train Accuracy: {accuracy:.2%}')"
   ]
  },
  {
   "cell_type": "markdown",
   "metadata": {},
   "source": [
    "#### AUC"
   ]
  },
  {
   "cell_type": "code",
   "execution_count": 16,
   "metadata": {},
   "outputs": [],
   "source": [
    "from sklearn.metrics import roc_curve, auc\n",
    "\n",
    "def plot_ROC(y, y_pred):\n",
    "    fpr, tpr, thresholds = roc_curve(y, y_pred)\n",
    "\n",
    "    # auc\n",
    "    print(f'auc score: {auc(fpr, tpr):.3f}')\n",
    "\n",
    "    # plot\n",
    "    plt.plot(fpr, tpr, linestyle='--', label='ROC curve')\n",
    "    plt.xlabel('False Positive Rate')\n",
    "    plt.ylabel('True Positive Rate')\n",
    "\n",
    "    plt.legend()\n",
    "    plt.show()"
   ]
  },
  {
   "cell_type": "code",
   "execution_count": 17,
   "metadata": {},
   "outputs": [
    {
     "name": "stdout",
     "output_type": "stream",
     "text": [
      "auc score: 0.905\n"
     ]
    },
    {
     "data": {
      "image/png": "[encoded data removed]",
      "text/plain": [
       "<Figure size 432x288 with 1 Axes>"
      ]
     },
     "metadata": {
      "needs_background": "light"
     },
     "output_type": "display_data"
    }
   ],
   "source": [
    "plot_ROC(y_train, y_hat)"
   ]
  }
 ],
 "metadata": {
  "kernelspec": {
   "display_name": "Python 3.8",
   "language": "python",
   "name": "py38"
  },
  "language_info": {
   "codemirror_mode": {
    "name": "ipython",
    "version": 3
   },
   "file_extension": ".py",
   "mimetype": "text/x-python",
   "name": "python",
   "nbconvert_exporter": "python",
   "pygments_lexer": "ipython3",
   "version": "3.8.13"
  }
 },
 "nbformat": 4,
 "nbformat_minor": 4
}
