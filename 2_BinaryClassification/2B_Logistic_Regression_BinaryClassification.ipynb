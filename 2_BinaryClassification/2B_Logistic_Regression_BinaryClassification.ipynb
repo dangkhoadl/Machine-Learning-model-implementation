{
 "cells": [
  {
   "cell_type": "code",
   "execution_count": 1,
   "metadata": {},
   "outputs": [],
   "source": [
    "import numpy as np\n",
    "import matplotlib.pyplot as plt\n",
    "\n",
    "from unit_tests.Classification import \\\n",
    "    sigmoid_test, compute_cost_test, compute_gradient_test, predict_test"
   ]
  },
  {
   "cell_type": "markdown",
   "metadata": {},
   "source": [
    "# 1. Dataset\n",
    "- Predict the chance of admission\n",
    "\n",
    "| Exam 1 score (float) | Exam 2 score (float) | Admitted (bool) |\n",
    "|----------------------|----------------------|-----------------|\n",
    "| $x_1^{(i)}$                | $x_2^{(i)}$                | $y^{(i)}$             |"
   ]
  },
  {
   "cell_type": "code",
   "execution_count": 2,
   "metadata": {},
   "outputs": [],
   "source": [
    "def load_data(filename):\n",
    "    data = np.loadtxt(filename, delimiter=',')\n",
    "    X = data[:,:2]\n",
    "    y = data[:,2]\n",
    "    return X, y"
   ]
  },
  {
   "cell_type": "code",
   "execution_count": 3,
   "metadata": {},
   "outputs": [
    {
     "name": "stdout",
     "output_type": "stream",
     "text": [
      "X_train.shape = (100, 2)\n",
      "X_train.shape = (100, 2)\n",
      "\n",
      "X_train[:5] = array([[34.62365962, 78.02469282],\n",
      "       [30.28671077, 43.89499752],\n",
      "       [35.84740877, 72.90219803],\n",
      "       [60.18259939, 86.3085521 ],\n",
      "       [79.03273605, 75.34437644]])\n",
      "y_train[:5] = array([0., 0., 0., 1., 1.])\n"
     ]
    }
   ],
   "source": [
    "X_train, y_train = load_data(\"datasets/ex2data1.txt\")\n",
    "\n",
    "print(f'{X_train.shape = }')\n",
    "print(f'{X_train.shape = }')\n",
    "print()\n",
    "print(f'{X_train[:5] = }')\n",
    "print(f'{y_train[:5] = }')"
   ]
  },
  {
   "cell_type": "markdown",
   "metadata": {},
   "source": [
    "#### View"
   ]
  },
  {
   "cell_type": "code",
   "execution_count": 4,
   "metadata": {},
   "outputs": [
    {
     "data": {
      "image/png": "[encoded data removed]",
      "text/plain": [
       "<Figure size 432x288 with 1 Axes>"
      ]
     },
     "metadata": {
      "needs_background": "light"
     },
     "output_type": "display_data"
    }
   ],
   "source": [
    "def plot_data(X, y, neg_label=\"y=0\", pos_label=\"y=1\"):\n",
    "    negative = y == 0\n",
    "    positive = y == 1\n",
    "    \n",
    "    # Plot examples\n",
    "    plt.plot(X[negative, 0], X[negative, 1], 'yo', label=neg_label)\n",
    "    plt.plot(X[positive, 0], X[positive, 1], 'b+', label=pos_label)\n",
    "\n",
    "    plt.ylabel('Exam 2 score') \n",
    "    plt.xlabel('Exam 1 score')\n",
    "    plt.legend(bbox_to_anchor=(1.05, 1), loc=2, borderaxespad=0.)\n",
    "    \n",
    "plot_data(X_train, y_train[:], neg_label=\"Not admitted\", pos_label=\"Admitted\")\n",
    "plt.show()"
   ]
  },
  {
   "cell_type": "markdown",
   "metadata": {},
   "source": [
    "# 2. Model\n",
    "\n",
    "#### Notation\n",
    "\n",
    "$$x_j^{(i)}$$\n",
    "+ $(i)$: data point i-th (m data points)\n",
    "+ $j$: feature j-th (n features)\n",
    "\n",
    "#### Sigmoid function\n",
    "+ Output range: [0,1]\n",
    "+ Binary classification: \n",
    "    + If output $\\geq 0.5$: class 1\n",
    "    + If output $< 0.5$: class 0\n",
    "\n",
    "$$g(z) = \\frac{1}{1+e^{-z}}$$"
   ]
  },
  {
   "cell_type": "code",
   "execution_count": 5,
   "metadata": {},
   "outputs": [
    {
     "name": "stdout",
     "output_type": "stream",
     "text": [
      "\u001b[92mAll tests passed!\n"
     ]
    }
   ],
   "source": [
    "def sigmoid(z):\n",
    "    \"\"\"\n",
    "    Compute the sigmoid of z\n",
    "\n",
    "    Args:\n",
    "        z (ndarray): input size (m,)\n",
    "\n",
    "    Returns:\n",
    "        g (ndarray): sigmoid(z), size (m,)\n",
    "    \"\"\"\n",
    "    return 1.0 / (1.0 + np.exp(-z))\n",
    "\n",
    "# TEST\n",
    "sigmoid_test(sigmoid)"
   ]
  },
  {
   "cell_type": "markdown",
   "metadata": {},
   "source": [
    "#### Model: Logistic Regression\n",
    "- Logistic Regression = Linear Regression + Logistic function\n",
    "    + $\\hat{y} = g(z(x))$\n",
    "        + z(x): Linear Regression\n",
    "        + g(t): Logistic function\n",
    "<img src=\"./assets/2.svg\" width=\"450\"/>\n",
    "\n",
    "- Logistic Regression - Sigmoid activation function\n",
    "    + $x^{(i)}_n$: data point i-th, n feats, vector size (n,)\n",
    "    + $w$: n feats, vector size (n,)\n",
    "$$\\begin{split}\n",
    "    \\hat{y}^{(i)} = g(z(x)) &= g(w_0x_0^{(i)} + w_1x_1^{(i)} + \\dots + w_{n-1}x_{n-1}^{(i)} + b) \\\\\n",
    "        &= g(\\mathbf{w}\\cdot \\mathbf{x^{(i)}} + b) \\\\\n",
    "        &= \\text{sigmoid}(\\mathbf{w}\\cdot \\mathbf{x^{(i)}} + b)\n",
    "\\end{split}$$"
   ]
  },
  {
   "cell_type": "code",
   "execution_count": 6,
   "metadata": {},
   "outputs": [],
   "source": [
    "def f(X, w, b):\n",
    "    '''\n",
    "    Compute forward propagation of Logistic Regression\n",
    "\n",
    "    Args:\n",
    "        x : datapoint i, vector shape (m,n)\n",
    "        w : w parameters, vector shape (n,)\n",
    "        b : bias params, scalar\n",
    "    Return:\n",
    "        o : LR output, vector shape (m,)\n",
    "    '''\n",
    "    return sigmoid(np.dot(X, w) + b)"
   ]
  },
  {
   "cell_type": "markdown",
   "metadata": {},
   "source": [
    "# 3. Cost function (Cross-entropy function)\n",
    "\n",
    "#### Loss function for a single data point\n",
    "\n",
    "$$\\begin{split}\n",
    "    L(\\hat{y}^{(i)}, y^{(i)}) &= -y^{(i)} \\log(\\hat{y}^{(i)}) - (1 - y^{(i)}) \\log(1 - \\hat{y}^{(i)}) \\\\\n",
    "        &= -y^{(i)} \\log(f_{w,b}(x^{(i)})) - (1 - y^{(i)}) \\log(1 - f_{w,b}(x^{(i)}))\n",
    "\\end{split}$$\n",
    "\n",
    "- Which, $y^{(i)}$: label = 0 or 1\n",
    "    \n",
    "$$L(\\hat{y}^{(i)}, y^{(i)}) = \\begin{cases}\n",
    "    -\\log(f_{w,b}(x^{(i)})) \\textbf{ if } y^{(i)} = 1 \\\\\n",
    "    -\\log(1 - f_{w,b}(x^{(i)})) \\textbf{ if } y^{(i)} = 0\n",
    "\\end{cases}$$\n",
    "    \n",
    "#### Cost function\n",
    "\n",
    "$$J(w,b) = \\frac{1}{m} \\sum\\limits_{i=0}^{m-1} \\left[ L(\\hat{y}^{(i)}, y^{(i)}) \\right]$$\n"
   ]
  },
  {
   "cell_type": "code",
   "execution_count": 7,
   "metadata": {},
   "outputs": [
    {
     "name": "stdout",
     "output_type": "stream",
     "text": [
      "\u001b[92mAll tests passed!\n"
     ]
    }
   ],
   "source": [
    "# Method 1: Loop\n",
    "def compute_cost(X, y, w, b, lambda_= 1):\n",
    "    \"\"\"\n",
    "    Computes the cost over all examples\n",
    "    Args:\n",
    "      X : (ndarray Shape (m,n)) data, m examples by n features\n",
    "      y : (array_like Shape (m,)) target value \n",
    "      w : (array_like Shape (n,)) Values of parameters of the model      \n",
    "      b : scalar Values of bias parameter of the model\n",
    "      lambda_: unused placeholder\n",
    "    Returns:\n",
    "      total_cost: (scalar)         cost \n",
    "    \"\"\"\n",
    "    m, n = X.shape\n",
    "    \n",
    "    def loss_fn(x, y):\n",
    "        y_hat = f(x, w, b)\n",
    "        return -y*np.log(y_hat) - (1-y)*np.log(1 - y_hat)\n",
    "    \n",
    "    # For each data point\n",
    "    cost = 0.0\n",
    "    for i in range(m):\n",
    "        cost += loss_fn(X[i], y[i])\n",
    "\n",
    "    return cost / m\n",
    "\n",
    "# TEST\n",
    "compute_cost_test(compute_cost)"
   ]
  },
  {
   "cell_type": "code",
   "execution_count": 8,
   "metadata": {},
   "outputs": [
    {
     "name": "stdout",
     "output_type": "stream",
     "text": [
      "\u001b[92mAll tests passed!\n"
     ]
    }
   ],
   "source": [
    "# Method 2: vector wise\n",
    "def compute_cost_vector_wise(X, y, w, b, lambda_= 1):\n",
    "    \"\"\"\n",
    "    Computes the cost over all examples\n",
    "    Args:\n",
    "      X : (ndarray Shape (m,n)) data, m examples by n features\n",
    "      y : (array_like Shape (m,)) target value \n",
    "      w : (array_like Shape (n,)) Values of parameters of the model      \n",
    "      b : scalar Values of bias parameter of the model\n",
    "      lambda_: unused placeholder\n",
    "    Returns:\n",
    "      total_cost: (scalar)         cost \n",
    "    \"\"\"\n",
    "    m, n = X.shape\n",
    "\n",
    "    # Comput model vectorwise, X.shape = (m,n), w.shape = (n,)\n",
    "    y_hat = f(X, w, b)\n",
    "\n",
    "    # Compute total cost vectorwise\n",
    "    return 1/m * np.sum(-y*np.log(y_hat) - (1-y)*np.log(1 - y_hat))\n",
    "\n",
    "# TEST\n",
    "compute_cost_test(compute_cost_vector_wise)"
   ]
  },
  {
   "cell_type": "markdown",
   "metadata": {},
   "source": [
    "# 4. Gradient\n",
    "#### Notes\n",
    "- Derivative of Sigmoid\n",
    "\n",
    "$$\\frac{\\partial g(z)}{\\partial z} = g(z) (1 - g(z))$$\n",
    "\n",
    "- Derivative of log\n",
    "\n",
    "$$\\frac{\\partial log(z)}{\\partial z} = \\frac{1}{z} $$\n",
    "\n",
    "## 4.1 Compute Grad - Chain Rule\n",
    "\n",
    "$\\begin{align}\n",
    "\\frac{\\partial J(w,b)}{\\partial w}  &= \\frac{\\partial J}{\\partial g} \\frac{\\partial g}{\\partial z} \\frac{\\partial z}{\\partial w} \\\\\n",
    "    &= \\left[ \\frac{1}{m} \\frac{\\partial \\sum\\limits_{i=0}^{m-1} \\left( -y^{(i)} \\log{(g^{(i)})} - (1 - y^{(i)}) \\log{(1 - g^{(i)}) } \\right)}{\\partial g^{(i)}} \\right] \\left[ g^{(i)}(1 - g^{(i)}) \\right] \\left[ \\frac{\\partial (w\\cdot x^{(i)} + b)} {\\partial w} \\right] \\\\\n",
    "    &= \\left[ \\frac{-1}{m} \\sum\\limits_{i=0}^{m-1} \\frac{\\partial \\left( y^{(i)} \\log{(g^{(i)})} + (1 - y^{(i)}) \\log{(1 - g^{(i)}) } \\right)}{\\partial g^{(i)}} \\right] \\left[ g^{(i)}(1 - g^{(i)}) \\right] \\left[ x^{(i)} \\right] \\\\\n",
    "    &= \\left[ \\frac{-1}{m} \\sum\\limits_{i=0}^{m-1} \\left( \\frac{y^{(i)}}{g^{(i)}} + \\frac{(1-y^{(i)}) \\frac{\\partial (1 - g^{(i)})}{\\partial g^{(i)}} }{1-g^{(i)}} \\right) \\right] \\left[ g^{(i)}(1 - g^{(i)}) \\right] \\left[ x^{(i)} \\right] \\\\\n",
    "    &= \\left[ \\frac{-1}{m} \\sum\\limits_{i=0}^{m-1} \\left( \\frac{y^{(i)}}{g^{(i)}} + \\frac{(1-y^{(i)}) (-1) }{1-g^{(i)}} \\right) \\right] \\left[ g^{(i)}(1 - g^{(i)}) \\right] \\left[ x^{(i)} \\right] \\\\\n",
    "    &= \\left[ \\frac{-1}{m} \\sum\\limits_{i=0}^{m-1} \\left( \\frac{y^{(i)}}{g^{(i)}} + \\frac{y^{(i)} - 1 }{1-g^{(i)}} \\right) \\right] \\left[ g^{(i)}(1 - g^{(i)}) \\right] \\left[ x^{(i)} \\right] \\\\\n",
    "    &= \\left[ \\frac{-1}{m} \\sum\\limits_{i=0}^{m-1} \\left( \\frac{y^{(i)} - y^{(i)}g^{(i)} + y^{(i)}g^{(i)} -g^{(i)} }{g^{(i)}(1 - g^{(i)})}  \\right) \\right] \\left[ g^{(i)}(1 - g^{(i)}) \\right] \\left[ x^{(i)} \\right] \\\\\n",
    "    &= \\left[ \\frac{-1}{m} \\sum\\limits_{i=0}^{m-1} \\left(  \\frac{y^{(i)} - g^{(i)}}{g^{(i)}(1 - g^{(i)})} \\right) \\right] \\left[ g^{(i)}(1 - g^{(i)}) \\right] \\left[ x^{(i)} \\right] \\\\\n",
    "    &= \\left[ \\frac{1}{m} \\sum\\limits_{i=0}^{m-1} \\left(  \\frac{g^{(i)} - y^{(i)}}{g^{(i)}(1 - g^{(i)})} \\right) \\right] \\left[ g^{(i)}(1 - g^{(i)}) \\right] \\left[ x^{(i)} \\right] \\textbf{ (Note)} \\\\\n",
    "    &= \\left[ \\frac{1}{m} \\sum\\limits_{i=0}^{m-1} \\left(  {g^{(i)} - y^{(i)}} \\right) \\right] \\left[ x^{(i)} \\right] \\\\\n",
    "    &= \\frac{1}{m} \\sum\\limits_{i=0}^{m-1}\\left[ \\left(  {\\hat{y}^{(i)} - y^{(i)}} \\right) x^{(i)} \\right]\n",
    "\\end{align}$\n",
    "\n",
    "\n",
    "$\\begin{align}\n",
    "\\frac{\\partial J(w,b)}{\\partial b}  &= \\frac{\\partial J}{\\partial g} \\frac{\\partial g}{\\partial z} \\frac{\\partial z}{\\partial b} \\\\\n",
    "    &= \\left[ \\frac{1}{m} \\sum\\limits_{i=0}^{m-1} \\left(  \\frac{g^{(i)} - y^{(i)}}{g^{(i)}(1 - g^{(i)})} \\right) \\right] \\left[ g^{(i)}(1 - g^{(i)}) \\right] \\left[ \\frac{\\partial (w\\cdot x^{(i)} + b)} {\\partial b} \\right] \\\\\n",
    "    &= \\left[ \\frac{1}{m} \\sum\\limits_{i=0}^{m-1} \\left(  \\frac{g^{(i)} - y^{(i)}}{g^{(i)}(1 - g^{(i)})} \\right) \\right] \\left[ g^{(i)}(1 - g^{(i)}) \\right] [1] \\textbf{ (Note)} \\\\\n",
    "    &= \\left[ \\frac{1}{m} \\sum\\limits_{i=0}^{m-1} \\left(  {g^{(i)} - y^{(i)}} \\right) \\right] \\\\\n",
    "     &= \\frac{1}{m} \\sum\\limits_{i=0}^{m-1}\\left[ {\\hat{y}^{(i)} - y^{(i)}} \\right]\n",
    "\\end{align}$\n",
    "\n",
    "\n",
    "## 4.2 Update $w, b$\n",
    "+ $\\alpha$: Learning rate\n",
    "\n",
    "$$\\text{repeat until convergence: } \\\\\n",
    "\\begin{cases}\n",
    "    w &= w -  \\alpha \\frac{\\partial J(w,b)}{\\partial w} \\\\\n",
    "    b &= b -  \\alpha \\frac{\\partial J(w,b)}{\\partial b}\n",
    "\\end{cases}$$"
   ]
  },
  {
   "cell_type": "code",
   "execution_count": 9,
   "metadata": {},
   "outputs": [
    {
     "name": "stdout",
     "output_type": "stream",
     "text": [
      "\u001b[92mAll tests passed!\n"
     ]
    }
   ],
   "source": [
    "# Method 1: Loop\n",
    "def compute_gradient(X, y, w, b, lambda_=None): \n",
    "    \"\"\"\n",
    "    Computes the gradient for logistic regression \n",
    " \n",
    "    Args:\n",
    "      X : (ndarray Shape (m,n)) variable such as house size \n",
    "      y : (array_like Shape (m,1)) actual value \n",
    "      w : (array_like Shape (n,1)) values of parameters of the model      \n",
    "      b : (scalar)                 value of parameter of the model \n",
    "      lambda_: unused placeholder.\n",
    "    Returns\n",
    "      dj_dw: (array_like Shape (n,1)) The gradient of the cost w.r.t. the parameters w. \n",
    "      dj_db: (scalar)                The gradient of the cost w.r.t. the parameter b. \n",
    "    \"\"\"\n",
    "    m, n = X.shape\n",
    "    \n",
    "    # Compute Grad\n",
    "    dj_dw = np.zeros(n)\n",
    "    dj_db = 0.0\n",
    "    \n",
    "    # For each data point\n",
    "    for i in range(m):\n",
    "        y_hat_i = f(X[i], w, b)\n",
    "        \n",
    "        # Update dj/dw\n",
    "        # For each feat\n",
    "        for j in range(n):\n",
    "            dj_dw[j] += (y_hat_i - y[i])*X[i, j]\n",
    "\n",
    "        # Update db/dw\n",
    "        dj_db += (y_hat_i - y[i])\n",
    "    \n",
    "    return dj_db / m, dj_dw / m\n",
    "\n",
    "# TEST\n",
    "compute_gradient_test(compute_gradient)"
   ]
  },
  {
   "cell_type": "code",
   "execution_count": 10,
   "metadata": {},
   "outputs": [
    {
     "name": "stdout",
     "output_type": "stream",
     "text": [
      "\u001b[92mAll tests passed!\n"
     ]
    }
   ],
   "source": [
    "# Method 2: Vector wise\n",
    "def compute_gradient_vector_wise(X, y, w, b, lambda_=None): \n",
    "    \"\"\"\n",
    "    Computes the gradient for logistic regression \n",
    " \n",
    "    Args:\n",
    "      X : (ndarray Shape (m,n)) variable such as house size \n",
    "      y : (array_like Shape (m,1)) actual value \n",
    "      w : (array_like Shape (n,1)) values of parameters of the model      \n",
    "      b : (scalar)                 value of parameter of the model \n",
    "      lambda_: unused placeholder.\n",
    "    Returns\n",
    "      dj_dw: (array_like Shape (n,1)) The gradient of the cost w.r.t. the parameters w. \n",
    "      dj_db: (scalar)                The gradient of the cost w.r.t. the parameter b. \n",
    "    \"\"\"\n",
    "    m, n = X.shape\n",
    "    \n",
    "    # Compute Grad\n",
    "    dj_dw = np.zeros(n)\n",
    "    dj_db = 0.0\n",
    "    \n",
    "    # For each data point\n",
    "    for i in range(m):\n",
    "        y_hat_i = f(X[i], w, b)\n",
    "        \n",
    "        # Update dj/dw\n",
    "        dj_dw +=  (y_hat_i - y[i])*X[i, :]\n",
    "\n",
    "        # Update db/dw\n",
    "        dj_db += (y_hat_i - y[i])\n",
    "    \n",
    "    return dj_db / m, dj_dw / m\n",
    "\n",
    "# TEST\n",
    "compute_gradient_test(compute_gradient_vector_wise)"
   ]
  },
  {
   "cell_type": "code",
   "execution_count": 11,
   "metadata": {},
   "outputs": [
    {
     "name": "stdout",
     "output_type": "stream",
     "text": [
      "\u001b[92mAll tests passed!\n"
     ]
    }
   ],
   "source": [
    "# Method 3: Matrix wise\n",
    "def compute_gradient_matrix_wise(X, y, w, b, lambda_=None): \n",
    "    \"\"\"\n",
    "    Computes the gradient for logistic regression \n",
    " \n",
    "    Args:\n",
    "      X : (ndarray Shape (m,n)) variable such as house size \n",
    "      y : (array_like Shape (m,1)) actual value \n",
    "      w : (array_like Shape (n,1)) values of parameters of the model      \n",
    "      b : (scalar)                 value of parameter of the model \n",
    "      lambda_: unused placeholder.\n",
    "    Returns\n",
    "      dj_dw: (array_like Shape (n,1)) The gradient of the cost w.r.t. the parameters w. \n",
    "      dj_db: (scalar)                The gradient of the cost w.r.t. the parameter b. \n",
    "    \"\"\"\n",
    "    m, n = X.shape\n",
    "    \n",
    "    # Compute forward output\n",
    "    y_hat = f(X, w, b)\n",
    "        \n",
    "    # Update dj/dw\n",
    "    dj_dw = 1./m * np.dot(y_hat - y, X)\n",
    "\n",
    "    # Update db/dw\n",
    "    dj_db = 1./m * np.sum(y_hat - y)\n",
    "    \n",
    "    return dj_db, dj_dw\n",
    "\n",
    "# TEST\n",
    "compute_gradient_test(compute_gradient_matrix_wise)"
   ]
  },
  {
   "cell_type": "markdown",
   "metadata": {},
   "source": [
    "# 5. Train - Gradient Descent"
   ]
  },
  {
   "cell_type": "code",
   "execution_count": 12,
   "metadata": {},
   "outputs": [],
   "source": [
    "import math\n",
    "\n",
    "def fit(X, y,\n",
    "        w_init, b_init,\n",
    "        cost_fn, gradient_fn,\n",
    "        alpha, num_iters, lambda_): \n",
    "    \"\"\"\n",
    "    Performs batch gradient descent to learn theta. Updates theta by taking \n",
    "    num_iters gradient steps with learning rate alpha\n",
    "    \n",
    "    Args:\n",
    "      X :    (array_like Shape (m, n)\n",
    "      y :    (array_like Shape (m,))\n",
    "      w_init : (array_like Shape (n,))  Initial values of parameters of the model\n",
    "      b_init : (scalar)                 Initial value of parameter of the model\n",
    "      cost_fn:                        function to compute cost\n",
    "      gradient_fn:                    function to gradient\n",
    "      alpha : (float)                 Learning rate\n",
    "      num_iters : (int)               number of iterations to run gradient descent\n",
    "      lambda_ (scalar, float)         regularization constant\n",
    "      \n",
    "    Returns:\n",
    "      w : (array_like Shape (n,)) Updated values of parameters of the model after\n",
    "          running gradient descent\n",
    "      b : (scalar)                Updated value of parameter of the model after\n",
    "          running gradient descent\n",
    "    \"\"\"\n",
    "    # number of training examples\n",
    "    m = len(X)\n",
    "    \n",
    "    # An array to store cost J and w's at each iteration primarily for graphing later\n",
    "    J_history = []\n",
    "    w_history = []\n",
    "    \n",
    "    # Gradient descent\n",
    "    w = w_init\n",
    "    b = b_init\n",
    "    for i in range(num_iters):\n",
    "        dj_db, dj_dw = gradient_fn(X, y, w, b, lambda_)   \n",
    "\n",
    "        # Update w, b\n",
    "        w = w - alpha * dj_dw               \n",
    "        b = b - alpha * dj_db              \n",
    "       \n",
    "        # Save cost J at each iteration\n",
    "        if i<100000:\n",
    "            cost = cost_fn(X, y, w, b, lambda_)\n",
    "            J_history.append(cost)\n",
    "\n",
    "        # Print\n",
    "        if i% math.ceil(num_iters/10) == 0 or i == (num_iters-1):\n",
    "            w_history.append(w)\n",
    "            print(f\"Iteration {i:4}: Cost {float(J_history[-1]):8.2f}   \")\n",
    "        \n",
    "    return w, b, J_history, w_history"
   ]
  },
  {
   "cell_type": "code",
   "execution_count": 13,
   "metadata": {},
   "outputs": [
    {
     "name": "stdout",
     "output_type": "stream",
     "text": [
      "Iteration    0: Cost     0.85   \n",
      "Iteration  200: Cost     0.31   \n",
      "Iteration  400: Cost     0.31   \n",
      "Iteration  600: Cost     0.31   \n",
      "Iteration  800: Cost     0.31   \n",
      "Iteration 1000: Cost     0.31   \n",
      "Iteration 1200: Cost     0.31   \n",
      "Iteration 1400: Cost     0.30   \n",
      "Iteration 1600: Cost     0.30   \n",
      "Iteration 1800: Cost     0.30   \n",
      "Iteration 1999: Cost     0.30   \n",
      "\tFinal: (w,b): (w_final = array([0.07007467, 0.06363256]), b_final =  -8.0375)\n"
     ]
    }
   ],
   "source": [
    "initial_w = 0.01 * (np.random.rand(X_train.shape[1]) - 0.5)\n",
    "initial_b = np.array(-8.0)\n",
    "\n",
    "w_final, b_final, J_hist, _ = fit(\n",
    "    X=X_train , y=y_train,\n",
    "    w_init=initial_w, b_init=initial_b, \n",
    "    cost_fn=compute_cost, gradient_fn=compute_gradient,\n",
    "    alpha=1e-3, num_iters=2000, lambda_=0)\n",
    "\n",
    "print(f\"\\tFinal: (w,b): ({w_final = }, {b_final = :8.4f})\")"
   ]
  },
  {
   "cell_type": "markdown",
   "metadata": {},
   "source": [
    "#### Training param plot"
   ]
  },
  {
   "cell_type": "code",
   "execution_count": 14,
   "metadata": {},
   "outputs": [
    {
     "data": {
      "image/png": "[encoded data removed]",
      "text/plain": [
       "<Figure size 864x288 with 2 Axes>"
      ]
     },
     "metadata": {
      "needs_background": "light"
     },
     "output_type": "display_data"
    }
   ],
   "source": [
    "fig, (ax1, ax2) = plt.subplots(1, 2, constrained_layout=True, figsize=(12,4))\n",
    "\n",
    "ax1.plot(J_hist[:100])\n",
    "ax2.plot(1000 + np.arange(len(J_hist[1000:])), J_hist[1000:])\n",
    "ax1.set_title(\"Cost vs. iteration(start)\");  ax2.set_title(\"Cost vs. iteration (end)\")\n",
    "ax1.set_ylabel('Cost')            ;  ax2.set_ylabel('Cost') \n",
    "ax1.set_xlabel('iteration step')  ;  ax2.set_xlabel('iteration step') \n",
    "plt.show()"
   ]
  },
  {
   "cell_type": "markdown",
   "metadata": {},
   "source": [
    "# 6. Inference"
   ]
  },
  {
   "cell_type": "markdown",
   "metadata": {},
   "source": [
    "#### Decision Boundary"
   ]
  },
  {
   "cell_type": "code",
   "execution_count": 15,
   "metadata": {},
   "outputs": [],
   "source": [
    "def plot_data(X, y, neg_label=\"y=0\", pos_label=\"y=1\"):\n",
    "    negative = y == 0\n",
    "    positive = y == 1\n",
    "    \n",
    "    # Plot examples\n",
    "    plt.plot(X[negative, 0], X[negative, 1], 'yo', label=neg_label)\n",
    "    plt.plot(X[positive, 0], X[positive, 1], 'b+', label=pos_label)\n",
    "\n",
    "    plt.ylabel('Exam 2 score') \n",
    "    plt.xlabel('Exam 1 score')\n",
    "    plt.legend(bbox_to_anchor=(1.05, 1), loc=2, borderaxespad=0.)\n",
    "    \n",
    "def plot_decision_boundary(model, X, y):\n",
    "    \"\"\"\n",
    "    plot_decision_boundary - Binary Classification - (X,Y) Coordinates\n",
    "    \n",
    "    Arguments:\n",
    "        model (func) : predictions model; y_hat = model(X)\n",
    "        X : input data of shape (m, 2)\n",
    "        y : labels 0,1 vector of shape (m,)\n",
    "    Returns:\n",
    "        Contour plotting\n",
    "    \"\"\"\n",
    "    # Set min and max values and give it some padding\n",
    "    x_min, x_max = X[:,0].min() - 1, X[:,0].max() + 1\n",
    "    y_min, y_max = X[:,1].min() - 1, X[:,1].max() + 1\n",
    "    h = 0.01\n",
    "\n",
    "    # Generate a grid of points with distance h between them\n",
    "    xx, yy = np.meshgrid(np.arange(x_min, x_max, h), np.arange(y_min, y_max, h))\n",
    "    \n",
    "    # Predict the function value for the whole grid\n",
    "    Z = model(np.c_[xx.ravel(), yy.ravel()])\n",
    "    Z = Z.reshape(xx.shape)\n",
    "\n",
    "    # Plot the contour\n",
    "    plt.contourf(xx, yy, Z, cmap=plt.cm.Spectral)\n",
    "    \n",
    "    # Plot data\n",
    "    plot_data(X, y, neg_label=\"Not admitted\", pos_label=\"Admitted\")\n",
    "    plt.show()"
   ]
  },
  {
   "cell_type": "code",
   "execution_count": 16,
   "metadata": {},
   "outputs": [
    {
     "data": {
      "image/png": "[encoded data removed]",
      "text/plain": [
       "<Figure size 432x288 with 1 Axes>"
      ]
     },
     "metadata": {
      "needs_background": "light"
     },
     "output_type": "display_data"
    }
   ],
   "source": [
    "def predict(x, w, b):\n",
    "    y_hat = f(x, w, b)\n",
    "    predictions = (y_hat >= 0.5)\n",
    "    return predictions\n",
    "\n",
    "plot_decision_boundary(lambda x: predict(x, w_final, b_final), X_train, y_train)"
   ]
  },
  {
   "cell_type": "markdown",
   "metadata": {},
   "source": [
    "#### Accuracy"
   ]
  },
  {
   "cell_type": "code",
   "execution_count": 17,
   "metadata": {},
   "outputs": [
    {
     "name": "stdout",
     "output_type": "stream",
     "text": [
      "Train Accuracy: 92.00%\n"
     ]
    }
   ],
   "source": [
    "y_hat = f(X_train, w_final, b_final)\n",
    "accuracy = np.mean((y_hat >= 0.5) == y_train)\n",
    "print(f'Train Accuracy: {accuracy:.2%}')"
   ]
  },
  {
   "cell_type": "markdown",
   "metadata": {},
   "source": [
    "#### AUC"
   ]
  },
  {
   "cell_type": "code",
   "execution_count": 18,
   "metadata": {},
   "outputs": [],
   "source": [
    "from sklearn.metrics import roc_curve, auc\n",
    "\n",
    "def plot_ROC(y, y_pred):\n",
    "    fpr, tpr, thresholds = roc_curve(y, y_pred)\n",
    "\n",
    "    # auc\n",
    "    print(f'auc score: {auc(fpr, tpr):.3f}')\n",
    "\n",
    "    # plot\n",
    "    plt.plot(fpr, tpr, linestyle='--', label='ROC curve')\n",
    "    plt.xlabel('False Positive Rate')\n",
    "    plt.ylabel('True Positive Rate')\n",
    "\n",
    "    plt.legend()\n",
    "    plt.show()"
   ]
  },
  {
   "cell_type": "code",
   "execution_count": 19,
   "metadata": {},
   "outputs": [
    {
     "name": "stdout",
     "output_type": "stream",
     "text": [
      "auc score: 0.971\n"
     ]
    },
    {
     "data": {
      "image/png": "[encoded data removed]",
      "text/plain": [
       "<Figure size 432x288 with 1 Axes>"
      ]
     },
     "metadata": {
      "needs_background": "light"
     },
     "output_type": "display_data"
    }
   ],
   "source": [
    "plot_ROC(y_train, y_hat)"
   ]
  }
 ],
 "metadata": {
  "kernelspec": {
   "display_name": "Python 3.8",
   "language": "python",
   "name": "py38"
  },
  "language_info": {
   "codemirror_mode": {
    "name": "ipython",
    "version": 3
   },
   "file_extension": ".py",
   "mimetype": "text/x-python",
   "name": "python",
   "nbconvert_exporter": "python",
   "pygments_lexer": "ipython3",
   "version": "3.8.13"
  }
 },
 "nbformat": 4,
 "nbformat_minor": 4
}
