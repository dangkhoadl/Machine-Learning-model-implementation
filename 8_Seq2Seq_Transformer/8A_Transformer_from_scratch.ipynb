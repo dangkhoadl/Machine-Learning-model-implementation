{
 "cells": [
  {
   "cell_type": "code",
   "execution_count": 1,
   "metadata": {},
   "outputs": [],
   "source": [
    "import torch\n",
    "import torch.nn as nn\n",
    "import torch.nn.functional as F\n",
    "\n",
    "import numpy as np\n",
    "from tqdm import tqdm\n",
    "import random"
   ]
  },
  {
   "cell_type": "code",
   "execution_count": 2,
   "metadata": {},
   "outputs": [],
   "source": [
    "SEED = 5678\n",
    "\n",
    "random.seed(SEED)\n",
    "np.random.seed(SEED)\n",
    "torch.manual_seed(SEED)\n",
    "torch.cuda.manual_seed(SEED)\n",
    "torch.backends.cudnn.deterministic = True"
   ]
  },
  {
   "cell_type": "markdown",
   "metadata": {},
   "source": [
    "#### Source sequence X"
   ]
  },
  {
   "cell_type": "code",
   "execution_count": 3,
   "metadata": {},
   "outputs": [],
   "source": [
    "X_chars = [chr(asc_idx) for asc_idx in range(ord('a'), ord('z')+1)] \\\n",
    "    + ['<unk>', '<pad>', '<start>', '<end>']\n",
    "\n",
    "X_lexicon = { ch:idx for idx, ch in enumerate(X_chars) }"
   ]
  },
  {
   "cell_type": "code",
   "execution_count": 4,
   "metadata": {},
   "outputs": [
    {
     "name": "stdout",
     "output_type": "stream",
     "text": [
      "X.size() = torch.Size([16, 50])\n",
      "X[0] = tensor([10, 15, 20,  8, 25, 14, 23, 27, 26,  1, 20,  7,  1,  1,  4, 14,  0, 13,\n",
      "         3, 12,  4,  1, 27, 20, 25,  7,  2, 21, 26, 27, 19,  5, 23, 12, 13, 21,\n",
      "         3,  1, 26, 15, 21,  5,  6,  4,  6,  0, 20, 10,  9,  9])\n"
     ]
    }
   ],
   "source": [
    "m = 16\n",
    "Tx = 50\n",
    "X_lexicon_size = len(X_lexicon) # 30\n",
    "\n",
    "# (m, Tx)\n",
    "X = torch.randint(low=0, high=X_lexicon_size, size=(m, Tx))\n",
    "print(f'{X.size() = }')\n",
    "print(f'{X[0] = }')"
   ]
  },
  {
   "cell_type": "markdown",
   "metadata": {},
   "source": [
    "#### Target sequence Y"
   ]
  },
  {
   "cell_type": "code",
   "execution_count": 5,
   "metadata": {},
   "outputs": [],
   "source": [
    "Y_chars = [chr(asc_idx) for asc_idx in range(ord('0'), ord('9')+1)] \\\n",
    "    + ['<unk>', '<pad>', '<start>', '<end>']\n",
    "Y_lexicon = { ch:idx for idx, ch in enumerate(Y_chars) }"
   ]
  },
  {
   "cell_type": "code",
   "execution_count": 6,
   "metadata": {},
   "outputs": [
    {
     "name": "stdout",
     "output_type": "stream",
     "text": [
      "Y.size() = torch.Size([16, 40])\n",
      "Y[0] = tensor([ 0,  8,  1,  4, 10,  1,  1,  7,  9,  7,  9,  0,  1,  5,  5,  4, 13, 13,\n",
      "        12, 13,  0,  1,  9,  8,  1,  5,  5,  7,  0,  2, 10,  2,  9,  3,  1,  4,\n",
      "         9,  0,  3,  9])\n"
     ]
    }
   ],
   "source": [
    "m = 16\n",
    "Ty = 40\n",
    "Y_lexicon_size = len(Y_lexicon) # 14\n",
    "\n",
    "# (m, Ty)\n",
    "Y = torch.randint(low=0, high=Y_lexicon_size, size=(m, Ty))\n",
    "print(f'{Y.size() = }')\n",
    "print(f'{Y[0] = }')"
   ]
  },
  {
   "cell_type": "markdown",
   "metadata": {},
   "source": [
    "# 1. Components\n",
    "[https://arxiv.org/pdf/1706.03762v5.pdf](https://arxiv.org/pdf/1706.03762v5.pdf)\n",
    "\n",
    "<img src=\"assets/transformer_transformer.png\" width=\"400\">\n"
   ]
  },
  {
   "cell_type": "markdown",
   "metadata": {},
   "source": [
    "### 1.1 Embedding\n",
    "- Encode **word meaning info**"
   ]
  },
  {
   "cell_type": "code",
   "execution_count": 7,
   "metadata": {},
   "outputs": [],
   "source": [
    "class Embbeding(nn.Module):\n",
    "    def __init__(self, lexicon_size, embed_dim):\n",
    "        super(Embbeding, self).__init__()\n",
    "\n",
    "        # Emb\n",
    "        self.embedding = nn.Embedding(\n",
    "            num_embeddings=lexicon_size,\n",
    "            embedding_dim=embed_dim)\n",
    "\n",
    "    def forward(self, inp):\n",
    "        \"\"\"\n",
    "        Arguments:\n",
    "            inp (Long tensor(m, T))         : Input sequence, categorical Long\n",
    "                m : batch size\n",
    "                T : sequence length\n",
    "        Returns:\n",
    "            emb (tensor(m, T, embed_dim))   : Embbeding sequence\n",
    "        \"\"\"\n",
    "        # (m, T) -> (m, T, emb_dim)\n",
    "        return self.embedding(inp)"
   ]
  },
  {
   "cell_type": "code",
   "execution_count": 8,
   "metadata": {},
   "outputs": [
    {
     "name": "stdout",
     "output_type": "stream",
     "text": [
      "X_emb.size() = torch.Size([16, 50, 64])\n"
     ]
    }
   ],
   "source": [
    "embed_x = Embbeding(\n",
    "    lexicon_size=X_lexicon_size,\n",
    "    embed_dim=64)\n",
    "X_emb = embed_x(X)\n",
    "\n",
    "# (m, Tx, emb_dim)\n",
    "print(f'{X_emb.size() = }')"
   ]
  },
  {
   "cell_type": "code",
   "execution_count": 9,
   "metadata": {},
   "outputs": [
    {
     "name": "stdout",
     "output_type": "stream",
     "text": [
      "Y_emb.size() = torch.Size([16, 40, 64])\n"
     ]
    }
   ],
   "source": [
    "embed_y = Embbeding(\n",
    "    lexicon_size=Y_lexicon_size,\n",
    "    embed_dim=64)\n",
    "Y_emb = embed_y(Y)\n",
    "\n",
    "# (m, Ty, emb_dim)\n",
    "print(f'{Y_emb.size() = }')"
   ]
  },
  {
   "cell_type": "markdown",
   "metadata": {},
   "source": [
    "### 1.2 Positional Encoder\n",
    "- Encode **word positioning info** (pos of a word in a sentence)\n",
    "- PE = a matrix size (Tx, emb_dim)\n",
    "\n",
    "$$\\begin{cases}\n",
    "\\text{PE(pos, 2i)} = \\sin \\left(\\frac{\\text{pos}}{10000^{2i / d}} \\right) \\text{ (even i)} \\\\\n",
    "\\text{PE(pos, 2i + 1)} = \\cos \\left(\\frac{\\text{pos}}{10000^{2i / d}} \\right) \\text{ (odd i)}\n",
    "\\end{cases}$$\n",
    "\n",
    "- X_embed_pe = A*embed + PE\n",
    "    + Amplify embed values to prevent embedding info supressed by PE info after adding"
   ]
  },
  {
   "cell_type": "code",
   "execution_count": 10,
   "metadata": {},
   "outputs": [
    {
     "data": {
      "image/png": "[encoded data removed]",
      "text/plain": [
       "<Figure size 432x288 with 2 Axes>"
      ]
     },
     "metadata": {
      "needs_background": "light"
     },
     "output_type": "display_data"
    }
   ],
   "source": [
    "import seaborn as sns\n",
    "import matplotlib.pyplot as plt\n",
    "max_length, emb_dim = 100, 64\n",
    "\n",
    "# Init PE matrix\n",
    "#    (T, emb_dim)\n",
    "pe = np.zeros((max_length, emb_dim))\n",
    "\n",
    "# Assign pe values\n",
    "for t in range(max_length):\n",
    "    for i in range(0, emb_dim, 2):\n",
    "        pe[t, i] = np.sin(\n",
    "            t / (10000 ** ((2 * i) / emb_dim)))\n",
    "        pe[t, i+1] = np.cos(\n",
    "            t / (10000 ** ((2 * (i + 1)) / emb_dim)))\n",
    "        \n",
    "# Plot\n",
    "sns.heatmap(pe, cmap=plt.cm.Reds)\n",
    "plt.xlabel('Embbed dim')\n",
    "plt.ylabel('Position (t)')\n",
    "plt.show()"
   ]
  },
  {
   "cell_type": "markdown",
   "metadata": {},
   "source": [
    "#### Implementation 1 (Static PE)"
   ]
  },
  {
   "cell_type": "code",
   "execution_count": 11,
   "metadata": {},
   "outputs": [],
   "source": [
    "from torch.autograd import Variable\n",
    "\n",
    "class PositionalEncoder(nn.Module):\n",
    "    def __init__(self, max_length, embed_dim):\n",
    "        super(PositionalEncoder, self).__init__()\n",
    "        self.emb_dim = embed_dim\n",
    "\n",
    "        # Init PE matrix\n",
    "        #    (T, emb_dim)\n",
    "        pe = torch.zeros(max_length, self.emb_dim)\n",
    "\n",
    "        # Assign pe values\n",
    "        for t in range(max_length):\n",
    "            for i in range(0, self.emb_dim, 2):\n",
    "                pe[t, i] = np.sin(\n",
    "                    t / (10000 ** ((2 * i) / self.emb_dim)))\n",
    "                pe[t, i+1] = np.cos(\n",
    "                    t / (10000 ** ((2 * (i + 1)) / self.emb_dim)))\n",
    "\n",
    "        # (max_length, emb_dim) -> (1, max_length, emb_dim)\n",
    "        self.register_buffer('pe', pe.unsqueeze(0))\n",
    "\n",
    "    def forward(self, m, T, device='cpu'):\n",
    "        \"\"\"\n",
    "        Add position encoding info to emb\n",
    "\n",
    "        Arguments:\n",
    "            m (int)     : batch_size\n",
    "            T (int)     : sequence length\n",
    "        Returns:\n",
    "            pos (tensor(m, T, embed_dim))   : Pos Encoding\n",
    "        \"\"\"\n",
    "        # Retrieve pe\n",
    "        return Variable(self.pe[:,:T,:], requires_grad=False).to(device).expand(m,-1,-1)"
   ]
  },
  {
   "cell_type": "markdown",
   "metadata": {},
   "source": [
    "#### Implementation 2 (Dynamic)"
   ]
  },
  {
   "cell_type": "code",
   "execution_count": 12,
   "metadata": {},
   "outputs": [],
   "source": [
    "class PositionalEncoder(nn.Module):\n",
    "    def __init__(self, max_length, embed_dim):\n",
    "        super(PositionalEncoder, self).__init__()\n",
    "        self.emb_dim = embed_dim\n",
    "\n",
    "        self.pos_encode = nn.Embedding(\n",
    "            num_embeddings=max_length,\n",
    "            embedding_dim=embed_dim)\n",
    "\n",
    "\n",
    "    def forward(self, m, T, device='cpu'):\n",
    "        \"\"\"\n",
    "        Add position encoding info to emb\n",
    "\n",
    "        Arguments:\n",
    "            m (int)     : batch_size\n",
    "            T (int)     : sequence length\n",
    "        Returns:\n",
    "            pos (tensor(m, T, embed_dim))   : Pos Encoding\n",
    "        \"\"\"\n",
    "        pe = torch.arange(0, T).to(device).expand(m, -1) \n",
    "        return self.pos_encode(pe)"
   ]
  },
  {
   "cell_type": "code",
   "execution_count": 13,
   "metadata": {},
   "outputs": [
    {
     "name": "stdout",
     "output_type": "stream",
     "text": [
      "X_pos.size() = torch.Size([16, 50, 64])\n",
      "X_emb_pos.size() = torch.Size([16, 50, 64])\n"
     ]
    }
   ],
   "source": [
    "pos_encoder_x = PositionalEncoder(\n",
    "    max_length=100,\n",
    "    embed_dim=64)\n",
    "\n",
    "X_pos = pos_encoder_x(m=m, T=Tx)\n",
    "print(f'{X_pos.size() = }')\n",
    "\n",
    "X_emb_pos = np.sqrt(64)*X_emb + X_pos\n",
    "print(f'{X_emb_pos.size() = }')"
   ]
  },
  {
   "cell_type": "code",
   "execution_count": 14,
   "metadata": {},
   "outputs": [
    {
     "name": "stdout",
     "output_type": "stream",
     "text": [
      "Y_pos.size() = torch.Size([16, 40, 64])\n",
      "Y_emb_pos.size() = torch.Size([16, 40, 64])\n"
     ]
    }
   ],
   "source": [
    "pos_encoder_y = PositionalEncoder(\n",
    "    max_length=100,\n",
    "    embed_dim=64)\n",
    "\n",
    "Y_pos = pos_encoder_x(m=m, T=Ty)\n",
    "print(f'{Y_pos.size() = }')\n",
    "\n",
    "Y_emb_pos = np.sqrt(64)*Y_emb + Y_pos\n",
    "print(f'{Y_emb_pos.size() = }')"
   ]
  },
  {
   "cell_type": "markdown",
   "metadata": {},
   "source": [
    "### 1.3 Multi-Headed Attention\n",
    "\n",
    "#### Masking\n",
    "- **pad token mask**: Suppress attention where `<pad>` exists\n",
    "- **No peaking forward Mask**: For Target sequence, prevent the decoder paying attention ahead toward the rest of the translated sentence when predicting the next word."
   ]
  },
  {
   "cell_type": "markdown",
   "metadata": {},
   "source": [
    "#### Source mask example\n",
    "\n",
    "```python\n",
    "# X_seq = (3, 14), pad_token = 0\n",
    "X_seq = tensor([\n",
    "    [ 101, 1045, 2123, 1005, 1056, 2113, 1998, 1045, 2123, 1005, 1056, 2729, 1012,  102],\n",
    "    [ 101, 2054, 2395, 2079, 2017, 2444, 2006, 1029,  102,    0,    0,    0, 0,    0],\n",
    "    [ 101, 3419, 5598, 2046, 1996, 4770, 1012,  102,    0,    0,    0,    0, 0,    0]])\n",
    "\n",
    "# X_mask = (3, 1, 1, 14)\n",
    "X_mask = tensor([\n",
    "        [[[1, 1, 1, 1, 1, 1, 1, 1, 1, 1, 1, 1, 1, 1]]],\n",
    "        [[[1, 1, 1, 1, 1, 1, 1, 1, 1, 0, 0, 0, 0, 0]]],\n",
    "        [[[1, 1, 1, 1, 1, 1, 1, 1, 0, 0, 0, 0, 0, 0]]]], dtype=torch.int8)\n",
    "```"
   ]
  },
  {
   "cell_type": "code",
   "execution_count": 15,
   "metadata": {},
   "outputs": [],
   "source": [
    "def create_mask_source(X_seq, pad_token, device='cpu'):\n",
    "    \"\"\"\n",
    "    Create mask values (0 = masked, 1 = keep)\n",
    "\n",
    "    Arguments:\n",
    "        X_seq (Long tensor(m, T)) : Source Sequence, categorical Long\n",
    "            m : batch size\n",
    "            T : sequence length\n",
    "        pad_token (int)           : token value of <pad>, get from X_lexicon['<pad>']\n",
    "\n",
    "    Returns:\n",
    "        mask (Long tensor(m, 1, 1, T)) : attention mask(val=1:keep or val=0:supress) for source sequence\n",
    "    \"\"\"\n",
    "    # Get dim\n",
    "    m, Tx = X_seq.size()\n",
    "\n",
    "    # padding token Mask\n",
    "    #    mask = 1 if seq != padding token else 0\n",
    "    #    (m, T) -> (m, 1, 1, T)\n",
    "    padding_mask = (X_seq != pad_token) \\\n",
    "        .unsqueeze(dim=1).unsqueeze(dim=2) \\\n",
    "        .to(device)\n",
    "\n",
    "    return padding_mask \\\n",
    "        .to(torch.int8).requires_grad_(False)"
   ]
  },
  {
   "cell_type": "code",
   "execution_count": 16,
   "metadata": {},
   "outputs": [
    {
     "name": "stdout",
     "output_type": "stream",
     "text": [
      "X_mask.size() = torch.Size([16, 1, 1, 50])\n"
     ]
    }
   ],
   "source": [
    "X_mask = create_mask_source(X, pad_token=X_lexicon['<pad>'])\n",
    "print(f'{X_mask.size() = }')"
   ]
  },
  {
   "cell_type": "markdown",
   "metadata": {},
   "source": [
    "#### Target mask example\n",
    "\n",
    "```python\n",
    "# Y_seq = (3, 12), pad_token = 1\n",
    "Y_seq = tensor([\n",
    "    [0, 70, 17, 55, 6, 70, 17,  2665, 25349, 21573, 2, 1],\n",
    "    [0, 88, 235, 25, 109, 142, 2, 1, 1, 1, 1, 1],\n",
    "    [0, 33939, 1945, 307, 1005, 1388, 9479, 27375, 2, 1, 1, 1]])\n",
    "\n",
    "# Y_mask = (3, 1, 12, 12)\n",
    "Y_mask = tensor([[\n",
    "         [[1, 0, 0, 0, 0, 0, 0, 0, 0, 0, 0, 0],\n",
    "          [1, 1, 0, 0, 0, 0, 0, 0, 0, 0, 0, 0],\n",
    "          [1, 1, 1, 0, 0, 0, 0, 0, 0, 0, 0, 0],\n",
    "          [1, 1, 1, 1, 0, 0, 0, 0, 0, 0, 0, 0],\n",
    "          [1, 1, 1, 1, 1, 0, 0, 0, 0, 0, 0, 0],\n",
    "          [1, 1, 1, 1, 1, 1, 0, 0, 0, 0, 0, 0],\n",
    "          [1, 1, 1, 1, 1, 1, 1, 0, 0, 0, 0, 0],\n",
    "          [1, 1, 1, 1, 1, 1, 1, 1, 0, 0, 0, 0],\n",
    "          [1, 1, 1, 1, 1, 1, 1, 1, 1, 0, 0, 0],\n",
    "          [1, 1, 1, 1, 1, 1, 1, 1, 1, 1, 0, 0],\n",
    "          [1, 1, 1, 1, 1, 1, 1, 1, 1, 1, 1, 0],\n",
    "          [1, 1, 1, 1, 1, 1, 1, 1, 1, 1, 1, 0]]],\n",
    "\n",
    "        [[[1, 0, 0, 0, 0, 0, 0, 0, 0, 0, 0, 0],\n",
    "          [1, 1, 0, 0, 0, 0, 0, 0, 0, 0, 0, 0],\n",
    "          [1, 1, 1, 0, 0, 0, 0, 0, 0, 0, 0, 0],\n",
    "          [1, 1, 1, 1, 0, 0, 0, 0, 0, 0, 0, 0],\n",
    "          [1, 1, 1, 1, 1, 0, 0, 0, 0, 0, 0, 0],\n",
    "          [1, 1, 1, 1, 1, 1, 0, 0, 0, 0, 0, 0],\n",
    "          [1, 1, 1, 1, 1, 1, 1, 0, 0, 0, 0, 0],\n",
    "          [1, 1, 1, 1, 1, 1, 1, 0, 0, 0, 0, 0],\n",
    "          [1, 1, 1, 1, 1, 1, 1, 0, 0, 0, 0, 0],\n",
    "          [1, 1, 1, 1, 1, 1, 1, 0, 0, 0, 0, 0],\n",
    "          [1, 1, 1, 1, 1, 1, 1, 0, 0, 0, 0, 0],\n",
    "          [1, 1, 1, 1, 1, 1, 1, 0, 0, 0, 0, 0]]],\n",
    "\n",
    "        [[[1, 0, 0, 0, 0, 0, 0, 0, 0, 0, 0, 0],\n",
    "          [1, 1, 0, 0, 0, 0, 0, 0, 0, 0, 0, 0],\n",
    "          [1, 1, 1, 0, 0, 0, 0, 0, 0, 0, 0, 0],\n",
    "          [1, 1, 1, 1, 0, 0, 0, 0, 0, 0, 0, 0],\n",
    "          [1, 1, 1, 1, 1, 0, 0, 0, 0, 0, 0, 0],\n",
    "          [1, 1, 1, 1, 1, 1, 0, 0, 0, 0, 0, 0],\n",
    "          [1, 1, 1, 1, 1, 1, 1, 0, 0, 0, 0, 0],\n",
    "          [1, 1, 1, 1, 1, 1, 1, 1, 0, 0, 0, 0],\n",
    "          [1, 1, 1, 1, 1, 1, 1, 1, 1, 0, 0, 0],\n",
    "          [1, 1, 1, 1, 1, 1, 1, 1, 1, 0, 0, 0],\n",
    "          [1, 1, 1, 1, 1, 1, 1, 1, 1, 0, 0, 0],\n",
    "          [1, 1, 1, 1, 1, 1, 1, 1, 1, 0, 0, 0]]]], dtype=torch.int8)\n",
    "```"
   ]
  },
  {
   "cell_type": "code",
   "execution_count": 17,
   "metadata": {},
   "outputs": [],
   "source": [
    "def create_mask_target(Y_seq, pad_token, device='cpu'):\n",
    "    \"\"\"\n",
    "    Create mask values (0 = masked, 1 = keep)\n",
    "\n",
    "    Arguments:\n",
    "        Y_seq (Long tensor(m, T)) : Target Sequence, categorical Long\n",
    "            m : batch size\n",
    "            T : sequence length\n",
    "        pad_token (int)           : token value of <pad>, get from Y_lexicon['<pad>']\n",
    "\n",
    "    Returns:\n",
    "        mask (Long tensor(m, 1, T, T)) : attention mask(val=1:keep or val=0:supress) for target sequence\n",
    "    \"\"\"\n",
    "    # Get dim\n",
    "    m, Ty = Y_seq.size()\n",
    "\n",
    "    # padding token Mask\n",
    "    #    mask = 1 if seq != padding token else 0\n",
    "    #    (m, T) -> (m, 1, 1, T) -> (m, 1, T, T)\n",
    "    padding_mask = (Y_seq != pad_token) \\\n",
    "        .unsqueeze(dim=1).unsqueeze(dim=2) \\\n",
    "        .expand(m, 1, Ty, Ty).to(torch.bool) \\\n",
    "        .to(device)\n",
    "\n",
    "    # No peaking forward Mask: (m, 1, T, T)\n",
    "    #   (T, T) = Lower triangular matrix\n",
    "    nopeak_mask = torch.tril(torch.ones( (Ty, Ty) )) \\\n",
    "        .unsqueeze(dim=0).unsqueeze(dim=1) \\\n",
    "        .expand(m, 1, Ty, Ty).to(torch.bool) \\\n",
    "        .to(device)\n",
    "\n",
    "    return (padding_mask & nopeak_mask) \\\n",
    "        .to(torch.int8).requires_grad_(False)"
   ]
  },
  {
   "cell_type": "code",
   "execution_count": 18,
   "metadata": {},
   "outputs": [
    {
     "name": "stdout",
     "output_type": "stream",
     "text": [
      "Y_mask.size() = torch.Size([16, 1, 40, 40])\n"
     ]
    }
   ],
   "source": [
    "Y_mask = create_mask_target(Y, pad_token=Y_lexicon['<pad>'])\n",
    "print(f'{Y_mask.size() = }')"
   ]
  },
  {
   "cell_type": "markdown",
   "metadata": {},
   "source": [
    "#### Scaled Dot-Product Attention\n",
    "\n",
    "$$\\text{Attention}(Q,K,V) = \\text{softmax} \\left( \\frac{QK^T}{\\sqrt{d_k}} \\right) V$$\n",
    "\n",
    "<img src=\"assets/transformer_SDPAtt.png\" width=\"200\">\n",
    "\n",
    "#### Multi-head Attention\n",
    "\n",
    "<img src=\"assets/transformer_multiheadAtt.png\" width=\"300\">"
   ]
  },
  {
   "cell_type": "code",
   "execution_count": 19,
   "metadata": {},
   "outputs": [],
   "source": [
    "class MultiHeadAttention(nn.Module):\n",
    "    def __init__(self, embed_dim, num_heads, dropout=0.1):\n",
    "        super(MultiHeadAttention, self).__init__()\n",
    "\n",
    "        # Params\n",
    "        self.emb_dim = embed_dim\n",
    "        self.h = num_heads\n",
    "\n",
    "        # Split emb_dim = num_head * head_dim\n",
    "        self.head_dim = self.emb_dim // self.h\n",
    "\n",
    "        assert (\n",
    "            self.emb_dim == self.h * self.head_dim\n",
    "        ), \"Embedding size needs to be divisible by num_heads\"\n",
    "\n",
    "        # Linear key, queries, values\n",
    "        self.q_linears = nn.Linear(self.emb_dim, self.emb_dim)\n",
    "        self.k_linears = nn.Linear(self.emb_dim, self.emb_dim)\n",
    "        self.v_linears = nn.Linear(self.emb_dim, self.emb_dim)\n",
    "\n",
    "        self.dropout = nn.Dropout(dropout)\n",
    "        self.linear = nn.Linear(self.h * self.head_dim, self.emb_dim)\n",
    "\n",
    "    def __scaled_dot_product_att(self, q, k, v, mask=None, dropout=None):\n",
    "        \"\"\"\n",
    "        Compute scaled dot product attention\n",
    "\n",
    "        Arguments:\n",
    "            q (tensor(m, num_heads, T_query, head_dim))        : query\n",
    "            k (tensor(m, num_heads, T_key, head_dim))          : key\n",
    "            v (tensor(m, num_heads, T_val, head_dim))          : value\n",
    "            mask (tensor None or (m, 1, T, T) or (m, 1, 1, T)) : attention mask, 1=keep, 0=suppress att\n",
    "            dropout (None or nn.Dropout)                       : dropout function\n",
    "        Returns:\n",
    "            context_vector (tensor(m, T_query, num_heads, head_dim)): scaled dot product context vector\n",
    "            attention (tensor(m, num_heads, T_query, T_key))        : scaled dot product attention\n",
    "        \"\"\"\n",
    "        # energy = (m, num_heads, T_query, head_dim) x (m, num_heads, head_dim, T_key)\n",
    "        #    -> (m, num_heads, T_query, T_key)\n",
    "        energy = torch.matmul(q, k.permute(0, 1, 3, 2)) / np.sqrt(self.emb_dim)\n",
    "\n",
    "        if mask is not None:\n",
    "            # Masking, suppress energy/attention where mask == 0\n",
    "            energy = energy.masked_fill(mask == 0, float('-1e20'))\n",
    "\n",
    "        # attention(alpha_ij) = (m, num_heads, T_query, T_key)\n",
    "        attention = F.softmax(energy, dim=3)\n",
    "        if dropout is not None:\n",
    "            attention = dropout(attention)\n",
    "\n",
    "        # context_vector = attention x v\n",
    "        #   (m, num_heads, T_query, T_key) x (m, num_heads, T_val, head_dim)\n",
    "        #       -> (m, num_heads, T_query, head_dim) -> (m, T_query, num_heads, head_dim)\n",
    "        context_vector = torch.matmul(attention, v) \\\n",
    "            .permute(0, 2, 1, 3).contiguous()\n",
    "        return context_vector, attention\n",
    "\n",
    "    def forward(self, Q, K, V, mask=None):\n",
    "        \"\"\"\n",
    "        Compute Multihead attention\n",
    "\n",
    "        Arguments:\n",
    "            Q (tensor(m, T_query, emb_dim))        : Query\n",
    "            K (tensor(m, T_key, emb_dim))          : Key\n",
    "            V (tensor(m, T_val, emb_dim))          : Value\n",
    "            mask (tensor None or (m, 1, T, T) or (m, 1, 1, T)) : attention mask, 1=keep, 0=suppress att\n",
    "        Returns:\n",
    "            context_vector (tensor(m, T_query, emb_dim))       : multihead context_vector\n",
    "            attention (tensor(m, num_heads, T_query, T_key))   : scaled dot product attention\n",
    "        \"\"\"\n",
    "\n",
    "        # Batch size\n",
    "        m = Q.size(0)\n",
    "\n",
    "        # Compute key, queries, values linears, then split q,k,v -> multiple heads\n",
    "        #   (m, T_query, emb_dim) -> (m, T_query, num_heads, head_dim) -> (m, num_heads, T_query, head_dim)\n",
    "        #   (m, T_key,   emb_dim) -> (m, T_key,   num_heads, head_dim) -> (m, num_heads, T_key, head_dim)\n",
    "        #   (m, T_val,   emb_dim) -> (m, T_val,   num_heads, head_dim) -> (m, num_heads, T_val, head_dim)\n",
    "        queries = self.q_linears(Q) \\\n",
    "            .view(m, -1, self.h, self.head_dim) \\\n",
    "            .permute(0, 2, 1, 3)\n",
    "        keys = self.k_linears(K) \\\n",
    "            .view(m, -1, self.h, self.head_dim) \\\n",
    "            .permute(0, 2, 1, 3)\n",
    "        values = self.v_linears(V) \\\n",
    "            .view(m, -1, self.h, self.head_dim) \\\n",
    "            .permute(0, 2, 1, 3)\n",
    "\n",
    "        # Compute scaled dot product context_vector\n",
    "        #    (m, T_query, num_heads, head_dim)\n",
    "        context_vector, attention = self.__scaled_dot_product_att(\n",
    "            q=queries, k=keys, v=values,\n",
    "            mask=mask, dropout=self.dropout)\n",
    "\n",
    "        # concatenate all heads\n",
    "        #    (m, T_query, emb_dim)\n",
    "        context_vector = context_vector.view(m, -1, self.h * self.head_dim)\n",
    "\n",
    "        # Compute last linear\n",
    "        context_vector = self.linear(context_vector)\n",
    "        return context_vector, attention"
   ]
  },
  {
   "cell_type": "code",
   "execution_count": 20,
   "metadata": {},
   "outputs": [
    {
     "name": "stdout",
     "output_type": "stream",
     "text": [
      "X_self_att.size() = torch.Size([16, 50, 64])\n"
     ]
    }
   ],
   "source": [
    "self_att_x = MultiHeadAttention(embed_dim=64, num_heads=4, dropout=0.1)\n",
    "\n",
    "X_self_att, _ = self_att_x(Q=X_emb_pos, K=X_emb_pos, V=X_emb_pos, mask=X_mask)\n",
    "print(f'{X_self_att.size() = }')"
   ]
  },
  {
   "cell_type": "code",
   "execution_count": 21,
   "metadata": {},
   "outputs": [
    {
     "name": "stdout",
     "output_type": "stream",
     "text": [
      "Y_self_att.size() = torch.Size([16, 40, 64])\n"
     ]
    }
   ],
   "source": [
    "self_att_y = MultiHeadAttention(embed_dim=64, num_heads=4, dropout=0.1)\n",
    "\n",
    "Y_self_att, _ = self_att_y(Q=Y_emb_pos, K=Y_emb_pos, V=Y_emb_pos, mask=Y_mask)\n",
    "print(f'{Y_self_att.size() = }')"
   ]
  },
  {
   "cell_type": "markdown",
   "metadata": {},
   "source": [
    "### 1.4 Layer Norm\n",
    "- Perform Layer Normalization across each example, agg `feature dimensions`\n",
    "    + $\\gamma$: weight parameter, grad = True\n",
    "    + $\\beta$: bias parameter, grad = True\n",
    "\n",
    "$$y  = \\frac{x - E(x)}{\\sqrt{\\text{Var}(x) + \\epsilon}} * \\gamma + \\beta$$"
   ]
  },
  {
   "cell_type": "markdown",
   "metadata": {},
   "source": [
    "#### Implementation 1"
   ]
  },
  {
   "cell_type": "code",
   "execution_count": 22,
   "metadata": {},
   "outputs": [],
   "source": [
    "class LayerNorm(nn.Module):\n",
    "    def __init__(self, normalized_shape, eps=1e-5):\n",
    "        super(LayerNorm, self).__init__()\n",
    "        self.eps = eps\n",
    "\n",
    "        # Trainable params\n",
    "        self.gamma = nn.Parameter(torch.ones(normalized_shape), requires_grad=True)\n",
    "        self.beta = nn.Parameter(torch.zeros(normalized_shape), requires_grad=True)\n",
    "\n",
    "    def forward(self, x):\n",
    "        \"\"\"\n",
    "        Compute Norm across each example, agg (emb_dim), same as nn.LayerNorm(emb_dim)\n",
    "\n",
    "        Arguments:\n",
    "            x (tensor(m, T, emb_dim))  : Input\n",
    "        Returns:\n",
    "            y (tensor(m, T, emb_dim))  : Norm output\n",
    "        \"\"\"\n",
    "        E_x = x.mean(dim=-1, keepdim=True)\n",
    "        Var_x = torch.var(x, dim=-1, keepdim=True)\n",
    "        return (x - E_x) / torch.sqrt(Var_x + self.eps) * self.gamma + self.beta"
   ]
  },
  {
   "cell_type": "markdown",
   "metadata": {},
   "source": [
    "#### Implementation 2 (Built-in)"
   ]
  },
  {
   "cell_type": "code",
   "execution_count": 23,
   "metadata": {},
   "outputs": [],
   "source": [
    "class LayerNorm(nn.Module):\n",
    "    def __init__(self, normalized_shape, eps=1e-5):\n",
    "        super(LayerNorm, self).__init__()\n",
    "        self.ln = nn.LayerNorm(\n",
    "            normalized_shape=normalized_shape,\n",
    "            eps=1e-05)\n",
    "\n",
    "\n",
    "    def forward(self, x):\n",
    "        \"\"\"\n",
    "        Compute Norm across each example, agg (emb_dim), same as nn.LayerNorm(emb_dim)\n",
    "\n",
    "        Arguments:\n",
    "            x (tensor(m, T, emb_dim))  : Input\n",
    "        Returns:\n",
    "            y (tensor(m, T, emb_dim))  : Norm output\n",
    "        \"\"\"\n",
    "        return self.ln(x)"
   ]
  },
  {
   "cell_type": "code",
   "execution_count": 24,
   "metadata": {},
   "outputs": [
    {
     "name": "stdout",
     "output_type": "stream",
     "text": [
      "X_norm.size() = torch.Size([16, 50, 64])\n"
     ]
    }
   ],
   "source": [
    "emb_dim = 64\n",
    "\n",
    "norm = LayerNorm(normalized_shape=emb_dim, eps=1e-6)\n",
    "\n",
    "X_norm = norm(X_self_att)\n",
    "print(f'{X_norm.size() = }')"
   ]
  },
  {
   "cell_type": "markdown",
   "metadata": {},
   "source": [
    "### 1.5 Feed Forward"
   ]
  },
  {
   "cell_type": "code",
   "execution_count": 25,
   "metadata": {},
   "outputs": [],
   "source": [
    "class FeedForward(nn.Module):\n",
    "    def __init__(self, embed_dim, forward_expansion_dim=2048, dropout=0.1):\n",
    "        super(FeedForward, self).__init__()\n",
    "\n",
    "        self.feed_forward = nn.Sequential(\n",
    "            nn.Linear(embed_dim, forward_expansion_dim),\n",
    "            nn.ReLU(),\n",
    "            nn.Dropout(dropout),\n",
    "            nn.Linear(forward_expansion_dim, embed_dim),\n",
    "        )\n",
    "    def forward(self, inp):\n",
    "        \"\"\"\n",
    "        Apply feed forward toward last dimension\n",
    "\n",
    "        Arguments:\n",
    "            inp (tensor(m,*,embed_dim))  : Input tensor\n",
    "        Returns:\n",
    "            out (tensor(m,*,embed_dim))  : Output tensor\n",
    "        \"\"\"\n",
    "        return self.feed_forward(inp)"
   ]
  },
  {
   "cell_type": "code",
   "execution_count": 26,
   "metadata": {},
   "outputs": [
    {
     "name": "stdout",
     "output_type": "stream",
     "text": [
      "ff.size() = torch.Size([16, 50, 64])\n"
     ]
    }
   ],
   "source": [
    "feedforward = FeedForward(embed_dim=64, forward_expansion_dim=2048, dropout=0.1)\n",
    "\n",
    "ff = feedforward(X_norm)\n",
    "print(f'{ff.size() = }')"
   ]
  },
  {
   "cell_type": "markdown",
   "metadata": {},
   "source": [
    "# 2. Encoder\n",
    "### 2.1 Encoder Block\n",
    "\n",
    "<img src=\"assets/transformer_blk_encoder.png\" width=\"150\">\n"
   ]
  },
  {
   "cell_type": "code",
   "execution_count": 27,
   "metadata": {},
   "outputs": [],
   "source": [
    "class EncoderBlock(nn.Module):\n",
    "    def __init__(self,\n",
    "            embed_dim, num_heads,\n",
    "            dropout=0.1, forward_expansion_dim=2048, eps=1e-5):\n",
    "        super(EncoderBlock, self).__init__()\n",
    "\n",
    "        # Layer 1\n",
    "        self.multihead_attention = MultiHeadAttention(\n",
    "            embed_dim=embed_dim, num_heads=num_heads,\n",
    "            dropout=dropout)\n",
    "        self.norm_1 = LayerNorm(\n",
    "            normalized_shape=embed_dim,\n",
    "            eps=eps)\n",
    "        self.dropout_1 = nn.Dropout(dropout)\n",
    "\n",
    "        # Layer 2\n",
    "        self.feed_forward = FeedForward(\n",
    "            embed_dim=embed_dim, forward_expansion_dim=forward_expansion_dim,\n",
    "            dropout=dropout)\n",
    "        self.norm_2 =LayerNorm(\n",
    "            normalized_shape=embed_dim,\n",
    "            eps=eps)\n",
    "        self.dropout_2 = nn.Dropout(dropout)\n",
    "\n",
    "    def forward(self, X_emb_pos, X_mask):\n",
    "        \"\"\"\n",
    "        Arguments:\n",
    "            X_emb_pos (tensor(m, Tx, emb_dim) : Source sequence encoded with embbeding and position\n",
    "            X_mask (Long tensor(m, 1, 1, T))  : Source sequence attention mask(val=1:keep or val=0:supress)\n",
    "        Returns:\n",
    "            X_enc (tensor(m, Tx, emb_dim))    : encoder output from source seq\n",
    "        \"\"\"\n",
    "        # Layer 1\n",
    "        X_att, _ = self.multihead_attention(\n",
    "            Q=X_emb_pos, K=X_emb_pos, V=X_emb_pos,\n",
    "            mask=X_mask)\n",
    "        X_norm_1 = self.dropout_1(\n",
    "            self.norm_1(X_emb_pos + X_att))\n",
    "\n",
    "        # Layer 2\n",
    "        ff = self.feed_forward(X_norm_1)\n",
    "        X_enc = self.dropout_2(\n",
    "            self.norm_2(X_norm_1 + ff))\n",
    "\n",
    "        return X_enc"
   ]
  },
  {
   "cell_type": "markdown",
   "metadata": {},
   "source": [
    "### 2.2 Encoder\n",
    "\n",
    "<img src=\"assets/transformer_encoder.png\" width=\"250\">"
   ]
  },
  {
   "cell_type": "code",
   "execution_count": 28,
   "metadata": {},
   "outputs": [],
   "source": [
    "class Encoder(nn.Module):\n",
    "    def __init__(self,\n",
    "            Tx, X_lexicon_size, embed_dim,\n",
    "            num_layers, num_heads,\n",
    "            forward_expansion_dim=1024,\n",
    "            dropout=0.1, eps=1e-5):\n",
    "        super(Encoder, self).__init__()\n",
    "        # Params\n",
    "        self.embed_dim = embed_dim\n",
    "\n",
    "        # X = emb + pe\n",
    "        self.input_embedding = Embbeding(\n",
    "            lexicon_size=X_lexicon_size, embed_dim=embed_dim)\n",
    "        self.pos_encoding = PositionalEncoder(\n",
    "            max_length=100,\n",
    "            embed_dim=embed_dim)\n",
    "        self.dropout = nn.Dropout(dropout)\n",
    "\n",
    "        # Enc blocks\n",
    "        self.enc_blocks = nn.ModuleList([\n",
    "            EncoderBlock(\n",
    "                embed_dim=embed_dim, num_heads=num_heads,\n",
    "                dropout=dropout, forward_expansion_dim=forward_expansion_dim, eps=eps\n",
    "            ) for _ in range(num_layers)\n",
    "        ])\n",
    "\n",
    "    def forward(self, X_seq, X_mask, device='cpu'):\n",
    "        \"\"\"\n",
    "        Arguments:\n",
    "            X_seq (Long tensor(m, Tx)         : Source sequence, categorical Long\n",
    "            X_mask (Long tensor(m, 1, 1, T))  : Source sequence attention mask(val=1:keep or val=0:supress)\n",
    "        Returns:\n",
    "            X_enc (tensor(m, Tx, emb_dim))    : encoder output from source seq\n",
    "        \"\"\"\n",
    "        # Input emb, pos encoding\n",
    "        m, Tx = X_seq.size()\n",
    "        X_emb = self.input_embedding(X_seq)\n",
    "        X_pos = self.pos_encoding(m=m, T=Tx, device=device)\n",
    "\n",
    "        # X_emb_pos = rescaled*emb + position encoded\n",
    "        X_enc = self.dropout(np.sqrt(self.embed_dim)*X_emb + X_pos)\n",
    "\n",
    "        # Enc blocks\n",
    "        for enc_blk in self.enc_blocks:\n",
    "            X_enc = enc_blk(\n",
    "                X_emb_pos=X_enc, X_mask=X_mask)\n",
    "\n",
    "        return X_enc"
   ]
  },
  {
   "cell_type": "code",
   "execution_count": 29,
   "metadata": {},
   "outputs": [
    {
     "name": "stdout",
     "output_type": "stream",
     "text": [
      "X_enc.size() = torch.Size([16, 50, 64])\n"
     ]
    }
   ],
   "source": [
    "encoder = Encoder(\n",
    "    Tx=Tx, X_lexicon_size=X_lexicon_size, embed_dim=64,\n",
    "    num_layers=3, num_heads=4,\n",
    "    forward_expansion_dim=1024,\n",
    "    dropout=0.1, eps=1e-6)\n",
    "\n",
    "X_enc = encoder(X_seq=X, X_mask=X_mask)\n",
    "print(f'{X_enc.size() = }')"
   ]
  },
  {
   "cell_type": "markdown",
   "metadata": {},
   "source": [
    "# 3. Decoder\n",
    "### 3.1 Decoder Block\n",
    "\n",
    "<img src=\"assets/transformer_blk_decoder.png\" width=\"150\">"
   ]
  },
  {
   "cell_type": "code",
   "execution_count": 30,
   "metadata": {},
   "outputs": [],
   "source": [
    "class DecoderBlock(nn.Module):\n",
    "    def __init__(self,\n",
    "            embed_dim, num_heads,\n",
    "            dropout=0.1, forward_expansion_dim=2048, eps=1e-5):\n",
    "        super(DecoderBlock, self).__init__()\n",
    "        # Layer 1\n",
    "        self.masked_multihead_attention = MultiHeadAttention(\n",
    "            embed_dim=embed_dim, num_heads=num_heads,\n",
    "            dropout=dropout)\n",
    "        self.norm_1 = LayerNorm(\n",
    "            normalized_shape=embed_dim,\n",
    "            eps=eps)\n",
    "        self.dropout_1 = nn.Dropout(dropout)\n",
    "\n",
    "        # Layer 2\n",
    "        self.multihead_attention = MultiHeadAttention(\n",
    "            embed_dim=embed_dim, num_heads=num_heads,\n",
    "            dropout=dropout)\n",
    "        self.norm_2 = LayerNorm(\n",
    "            normalized_shape=embed_dim,\n",
    "            eps=eps)\n",
    "        self.dropout_2 = nn.Dropout(dropout)\n",
    "\n",
    "        # Layer 3\n",
    "        self.feed_forward = FeedForward(\n",
    "            embed_dim=embed_dim, forward_expansion_dim=forward_expansion_dim,\n",
    "            dropout=dropout)\n",
    "        self.norm_3 = LayerNorm(\n",
    "            normalized_shape=embed_dim,\n",
    "            eps=eps)\n",
    "        self.dropout_3 = nn.Dropout(dropout)\n",
    "\n",
    "    def forward(self,\n",
    "            Y_emb_pos, Y_mask,\n",
    "            X_enc, X_mask):\n",
    "        \"\"\"\n",
    "        Arguments:\n",
    "            Y_emb_pos (tensor(m, Ty, emb_dim) : Target sequence encoded with embbeding and position\n",
    "            Y_mask (Long tensor(m, 1, T, T))  : Target sequence attention mask(val=1:keep or val=0:supress)\n",
    "            X_enc (tensor(m, Tx, emb_dim))    : encoder output from source seq\n",
    "            X_mask (Long tensor(m, 1, 1, T))  : Source sequence attention mask(val=1:keep or val=0:supress)\n",
    "        Returns:\n",
    "            Y_dec (tensor(m, Ty, emb_dim))     : deccoder output\n",
    "        \"\"\"\n",
    "        # Layer 1\n",
    "        Y_masked_att, _ = self.masked_multihead_attention(\n",
    "            Q=Y_emb_pos, K=Y_emb_pos, V=Y_emb_pos,\n",
    "            mask=Y_mask)\n",
    "        Y_norm_1 = self.dropout_1(\n",
    "            self.norm_1(Y_emb_pos + Y_masked_att))\n",
    "\n",
    "        # Layer 2\n",
    "        Y_att, attention = self.multihead_attention(\n",
    "            Q=Y_norm_1, K=X_enc, V=X_enc,\n",
    "            mask=X_mask)\n",
    "        Y_norm_2 = self.dropout_2(\n",
    "            self.norm_2(Y_norm_1 + Y_att))\n",
    "\n",
    "        # Layer 3\n",
    "        ff = self.feed_forward(Y_norm_2)\n",
    "        Y_dec = self.dropout_3(\n",
    "            self.norm_3(Y_norm_2 + ff))\n",
    "\n",
    "        return Y_dec, attention"
   ]
  },
  {
   "cell_type": "markdown",
   "metadata": {},
   "source": [
    "### 3.2 Decoder\n",
    "\n",
    "<img src=\"assets/transformer_decoder.png\" width=\"200\">"
   ]
  },
  {
   "cell_type": "code",
   "execution_count": 31,
   "metadata": {},
   "outputs": [],
   "source": [
    "class Decoder(nn.Module):\n",
    "    def __init__(self,\n",
    "            Ty, Y_lexicon_size, embed_dim,\n",
    "            num_layers, num_heads,\n",
    "            forward_expansion_dim=1024,\n",
    "            dropout=0.1, eps=1e-5):\n",
    "        super(Decoder, self).__init__()\n",
    "        # Params\n",
    "        self.embed_dim = embed_dim\n",
    "\n",
    "        # Y = emb + pe\n",
    "        self.input_embedding = Embbeding(\n",
    "            lexicon_size=Y_lexicon_size, embed_dim=embed_dim)\n",
    "        self.pos_encoding = PositionalEncoder(\n",
    "            max_length=100,\n",
    "            embed_dim=embed_dim)\n",
    "\n",
    "        self.dropout = nn.Dropout(dropout)\n",
    "\n",
    "        # Dec blocks\n",
    "        self.dec_blocks = nn.ModuleList([\n",
    "             DecoderBlock(\n",
    "                embed_dim=embed_dim, num_heads=num_heads,\n",
    "                dropout=dropout, forward_expansion_dim=forward_expansion_dim, eps=eps\n",
    "            ) for _ in range(num_layers)\n",
    "        ])\n",
    "\n",
    "        # Classifier\n",
    "        self.fc_out = nn.Linear(\n",
    "            in_features=embed_dim,\n",
    "            out_features=Y_lexicon_size)\n",
    "\n",
    "    def forward(self,\n",
    "            Y_seq, Y_mask,\n",
    "            X_enc, X_mask, device='cpu'):\n",
    "        \"\"\"\n",
    "        Arguments:\n",
    "            Y_seq (Long tensor(m, Ty)         : Target sequence, categorical Long\n",
    "            Y_mask (Long tensor(m, 1, T, T))  : Target sequence attention mask(val=1:keep or val=0:supress)\n",
    "            X_enc (tensor(m, Tx, emb_dim))    : encoder output from source seq\n",
    "            X_mask (Long tensor(m, 1, 1, T))  : Source sequence attention mask(val=1:keep or val=0:supress)\n",
    "        Returns:\n",
    "            out (tensor(m, Ty, emb_dim))      : log softmax probability predict category in Y_lexicon\n",
    "        \"\"\"\n",
    "        # Input emb, pos encoding\n",
    "        m, Ty = Y_seq.size()\n",
    "        Y_emb = self.input_embedding(Y_seq)\n",
    "        Y_pos = self.pos_encoding(m=m, T=Ty, device=device)\n",
    "\n",
    "        # Y_emb_pos = rescaled*emb + position encoded\n",
    "        Y_dec = self.dropout(np.sqrt(self.embed_dim)*Y_emb + Y_pos)\n",
    "\n",
    "        # Dec blocks\n",
    "        for dec_blk in self.dec_blocks:\n",
    "            Y_dec, attention = dec_blk(\n",
    "                Y_emb_pos=Y_dec, Y_mask=Y_mask,\n",
    "                X_enc=X_enc, X_mask=X_mask)\n",
    "\n",
    "        # Classifier\n",
    "        out = self.fc_out(Y_dec)\n",
    "        out = F.log_softmax(out, dim=-1)\n",
    "\n",
    "        return out, attention"
   ]
  },
  {
   "cell_type": "code",
   "execution_count": 32,
   "metadata": {},
   "outputs": [
    {
     "name": "stdout",
     "output_type": "stream",
     "text": [
      "out.size() = torch.Size([16, 40, 14])\n"
     ]
    }
   ],
   "source": [
    "decoder = Decoder(\n",
    "    Ty=Ty, Y_lexicon_size=Y_lexicon_size, embed_dim=64,\n",
    "    num_layers=3, num_heads=4,\n",
    "    forward_expansion_dim=1024,\n",
    "    dropout=0.1, eps=1e-6)\n",
    "\n",
    "out, _ = decoder(\n",
    "    Y_seq=Y, Y_mask=Y_mask,\n",
    "    X_enc=X_enc, X_mask=X_mask)\n",
    "print(f'{out.size() = }')"
   ]
  },
  {
   "cell_type": "markdown",
   "metadata": {},
   "source": [
    "# 4. Transformer"
   ]
  },
  {
   "cell_type": "code",
   "execution_count": 33,
   "metadata": {},
   "outputs": [],
   "source": [
    "class Transformer(nn.Module):\n",
    "    def __init__(self,\n",
    "            Tx, X_lexicon_size,\n",
    "            Ty, Y_lexicon_size,\n",
    "            embed_dim=512,\n",
    "            num_layers=3, num_heads=4,\n",
    "            forward_expansion_dim=1024,\n",
    "            dropout=0.1, eps=1e-6):\n",
    "        super().__init__()\n",
    "        self.encoder = Encoder(\n",
    "            Tx=Tx, X_lexicon_size=X_lexicon_size, embed_dim=embed_dim,\n",
    "            num_layers=num_layers, num_heads=num_heads,\n",
    "            forward_expansion_dim=forward_expansion_dim,\n",
    "            dropout=dropout, eps=eps)\n",
    "        self.decoder = Decoder(\n",
    "            Ty=Ty, Y_lexicon_size=Y_lexicon_size, embed_dim=embed_dim,\n",
    "            num_layers=num_layers, num_heads=num_heads,\n",
    "            forward_expansion_dim=forward_expansion_dim,\n",
    "            dropout=dropout, eps=eps)\n",
    "\n",
    "    def forward(self, X_seq, X_mask, Y_seq, Y_mask, device='cpu'):\n",
    "        \"\"\"\n",
    "        Arguments:\n",
    "            X_seq (Long tensor(m, Tx)         : Source sequence, categorical Long\n",
    "            X_mask (Long tensor(m, 1, 1, T))  : Source sequence attention mask(val=1:keep or val=0:supress)\n",
    "            Y_seq (Long tensor(m, Ty)         : Target sequence, categorical Long\n",
    "            Y_mask (Long tensor(m, 1, T, T))  : Target sequence attention mask(val=1:keep or val=0:supress)\n",
    "        Returns:\n",
    "            out (tensor(m, Ty, emb_dim))      : log softmax probability predict category in Y_lexicon\n",
    "        \"\"\"\n",
    "        X_enc = self.encoder(\n",
    "            X_seq=X_seq, X_mask=X_mask,\n",
    "            device=device)\n",
    "        out, attention = self.decoder(\n",
    "            Y_seq=Y_seq, Y_mask=Y_mask,\n",
    "            X_enc=X_enc, X_mask=X_mask,\n",
    "            device=device)\n",
    "        return out, attention"
   ]
  },
  {
   "cell_type": "code",
   "execution_count": 34,
   "metadata": {},
   "outputs": [
    {
     "name": "stdout",
     "output_type": "stream",
     "text": [
      "out.size() = torch.Size([16, 40, 14])\n"
     ]
    }
   ],
   "source": [
    "transformer = Transformer(\n",
    "    Tx=Tx, X_lexicon_size=X_lexicon_size,\n",
    "    Ty=Ty, Y_lexicon_size=Y_lexicon_size,\n",
    "    embed_dim=512,\n",
    "    num_layers=4, num_heads=4,\n",
    "    forward_expansion_dim=1024,\n",
    "    dropout=0.1, eps=1e-6)\n",
    "\n",
    "out, _ = transformer(\n",
    "    X_seq=X, X_mask=X_mask,\n",
    "    Y_seq=Y, Y_mask=Y_mask)\n",
    "print(f'{out.size() = }')"
   ]
  },
  {
   "cell_type": "markdown",
   "metadata": {},
   "source": [
    "#### Params count"
   ]
  },
  {
   "cell_type": "code",
   "execution_count": 35,
   "metadata": {},
   "outputs": [
    {
     "name": "stdout",
     "output_type": "stream",
     "text": [
      "Number of parameters: 21160974\n"
     ]
    }
   ],
   "source": [
    "def count_parameters(model):\n",
    "    return sum(p.numel() for p in model.parameters() if p.requires_grad)\n",
    "print(f'Number of parameters: {count_parameters(transformer)}')"
   ]
  },
  {
   "cell_type": "markdown",
   "metadata": {},
   "source": [
    "# 5. Train-Test\n",
    "\n",
    "## 5.1 Problem\n",
    "- Translate **human language date** to a `machine standard date` format\n",
    "- Eg:\n",
    "    + **the 29th of August 1958** -> `1958-08-29`\n",
    "    + **03/30/1968**              -> `1968-03-30`\n",
    "    + **24 JUNE 1987**            -> `1987-06-24`"
   ]
  },
  {
   "cell_type": "code",
   "execution_count": 36,
   "metadata": {},
   "outputs": [
    {
     "name": "stdout",
     "output_type": "stream",
     "text": [
      "18 june 1973                   -> 1973-06-18\n",
      "friday april 19 1991           -> 1991-04-19\n",
      "1/25/87                        -> 1987-01-25\n",
      "29 sep 1989                    -> 1989-09-29\n",
      "15 apr 1972                    -> 1972-04-15\n"
     ]
    }
   ],
   "source": [
    "from babel.dates import format_date\n",
    "from faker import Faker\n",
    "import random\n",
    "\n",
    "# data generator\n",
    "fake = Faker()\n",
    "\n",
    "date_formats = ['short', 'medium', 'long',\n",
    "    'full', 'full', 'full', 'full', 'full', 'full', 'full', 'full', 'full', 'full',\n",
    "    'd MMM YYY',  'd MMMM YYY', 'dd MMM YYY', 'd MMM, YYY', 'd MMMM, YYY', 'dd, MMM YYY',\n",
    "    'd MM YY', 'd MMMM YYY', 'MMMM d YYY', 'MMMM d, YYY', 'dd.MM.YY']\n",
    "\n",
    "def generate_training_example():\n",
    "    # Get a random date (standard format)\n",
    "    machine_date = fake.date_object()\n",
    "    \n",
    "    # Generate a human readable format\n",
    "    human_readable = format_date(machine_date, format=random.choice(date_formats), locale='en_US') \\\n",
    "        .lower().replace(',','')\n",
    "    \n",
    "    return human_readable, machine_date.isoformat()\n",
    "\n",
    "for i in range(5):\n",
    "    human, machine = generate_training_example()\n",
    "    print(f'{human:30} -> {machine}')"
   ]
  },
  {
   "cell_type": "code",
   "execution_count": 37,
   "metadata": {},
   "outputs": [
    {
     "name": "stdout",
     "output_type": "stream",
     "text": [
      "['june 20 2012', '09 mar 1971', 'may 21 1980', 'sunday july 12 2015', 'saturday march 9 1974']\n",
      "['2012-06-20', '1971-03-09', '1980-05-21', '2015-07-12', '1974-03-09']\n"
     ]
    }
   ],
   "source": [
    "def generate_dset(m=10000):\n",
    "    X, Y = [], []\n",
    "    for i in range(m):\n",
    "        x, y = generate_training_example()\n",
    "        X.append(x)\n",
    "        Y.append(y)\n",
    "    return X, Y\n",
    "\n",
    "X, Y = generate_dset(m=10000)\n",
    "X_train, Y_train = X[:8000], Y[:8000]\n",
    "X_test, Y_test = X[8000:], Y[8000:]\n",
    "\n",
    "print(X_test[:5])\n",
    "print(Y_test[:5])"
   ]
  },
  {
   "cell_type": "markdown",
   "metadata": {},
   "source": [
    "## 5.2 Lexicon"
   ]
  },
  {
   "cell_type": "code",
   "execution_count": 38,
   "metadata": {},
   "outputs": [
    {
     "name": "stdout",
     "output_type": "stream",
     "text": [
      "X lexicon size: 39\n",
      "{' ': 0, '.': 1, '/': 2, '0': 3, '1': 4, '2': 5, '3': 6, '4': 7, '5': 8, '6': 9, '7': 10, '8': 11, '9': 12, 'a': 13, 'b': 14, 'c': 15, 'd': 16, 'e': 17, 'f': 18, 'g': 19, 'h': 20, 'i': 21, 'j': 22, 'l': 23, 'm': 24, 'n': 25, 'o': 26, 'p': 27, 'r': 28, 's': 29, 't': 30, 'u': 31, 'v': 32, 'w': 33, 'y': 34, '<unk>': 35, '<pad>': 36, '<start>': 37, '<end>': 38}\n"
     ]
    }
   ],
   "source": [
    "X_chars = sorted(list(set(''.join(X_train)))) + ['<unk>', '<pad>', '<start>', '<end>']\n",
    "X_lexicon = { ch:idx for idx, ch in enumerate(X_chars) }\n",
    "X_lexicon_size = len(X_lexicon)\n",
    "\n",
    "print('X lexicon size:', X_lexicon_size)\n",
    "print(X_lexicon)"
   ]
  },
  {
   "cell_type": "code",
   "execution_count": 39,
   "metadata": {},
   "outputs": [
    {
     "name": "stdout",
     "output_type": "stream",
     "text": [
      "Y lexicon size: 15\n",
      "Y_lexicon = {'-': 0, '0': 1, '1': 2, '2': 3, '3': 4, '4': 5, '5': 6, '6': 7, '7': 8, '8': 9, '9': 10, '<unk>': 11, '<pad>': 12, '<start>': 13, '<end>': 14}\n",
      "Y_inverse_lexicon = {0: '-', 1: '0', 2: '1', 3: '2', 4: '3', 5: '4', 6: '5', 7: '6', 8: '7', 9: '8', 10: '9', 11: '<unk>', 12: '<pad>', 13: '<start>', 14: '<end>'}\n"
     ]
    }
   ],
   "source": [
    "Y_chars = sorted(list(set(''.join(Y_train)))) + ['<unk>', '<pad>', '<start>', '<end>']\n",
    "\n",
    "Y_lexicon         = { ch:idx for idx, ch in enumerate(Y_chars) }\n",
    "Y_lexicon_size    = len(Y_lexicon)\n",
    "Y_inverse_lexicon = { idx:ch for idx, ch in enumerate(Y_chars) }\n",
    "\n",
    "\n",
    "print('Y lexicon size:', Y_lexicon_size)\n",
    "print(f'{Y_lexicon = }')\n",
    "print(f'{Y_inverse_lexicon = }')"
   ]
  },
  {
   "cell_type": "markdown",
   "metadata": {},
   "source": [
    "## 5.3 Tokenizer"
   ]
  },
  {
   "cell_type": "code",
   "execution_count": 40,
   "metadata": {},
   "outputs": [],
   "source": [
    "from joblib import Parallel, delayed\n",
    "\n",
    "\n",
    "def get_feat_tensor(data, lexicon, pad_length=30):\n",
    "    \"\"\"\n",
    "    Arguments:\n",
    "        data    (list(str))         : input data list of utterances\n",
    "        lexicon (dict(char:index))  : lexicon data, categorical encoding char to int\n",
    "        pad_length (int)            : padded length of output utterance \n",
    "\n",
    "    Returns:\n",
    "        data_tensor (ndarray (m, pad_length)) : output tensor with\n",
    "            <m> training seamples\n",
    "            <pad_length> padded utterance size\n",
    "    \"\"\"\n",
    "\n",
    "    # Pipeline for each utterance\n",
    "    def get_utt_tensor(utt:str):\n",
    "        # Tokenize: char to int\n",
    "        utt_tensor = [ lexicon['<start>'] ] + \\\n",
    "            [ lexicon[ch] if lexicon.get(ch) is not None\n",
    "                else lexicon['<unk>']\n",
    "                    for ch in utt ] + \\\n",
    "            [ lexicon['<end>'] ]\n",
    "\n",
    "        # padding\n",
    "        utt_tensor = utt_tensor[:pad_length]\n",
    "        if len(utt_tensor) < pad_length:\n",
    "            utt_tensor += [lexicon['<pad>']]*(pad_length - len(utt_tensor))\n",
    "\n",
    "        return np.array(utt_tensor)\n",
    "\n",
    "    # Convert m examples\n",
    "    tensor = Parallel(n_jobs=8, backend='loky')(delayed(function=get_utt_tensor)(utt)\n",
    "        for utt in data)\n",
    "    return np.array(tensor)"
   ]
  },
  {
   "cell_type": "code",
   "execution_count": 41,
   "metadata": {},
   "outputs": [
    {
     "name": "stdout",
     "output_type": "stream",
     "text": [
      "X_train_ts.shape = (8000, 32)\n",
      "X[0] = [37  5  8  0 22 31 23 34  0  5  3  5  4 38 36 36 36 36 36 36 36 36 36 36\n",
      " 36 36 36 36 36 36 36 36]\n",
      "\n",
      "Y_train_ts.shape = (8000, 17)\n",
      "Y[0] = [13  3  1  3  2  0  1  8  0  3  6 14 12 12 12 12 12]\n"
     ]
    }
   ],
   "source": [
    "# Fixed sequence length\n",
    "Tx = 32\n",
    "Ty = 17\n",
    "\n",
    "X_train_ts = get_feat_tensor(X_train, X_lexicon, pad_length=Tx)\n",
    "Y_train_ts = get_feat_tensor(Y_train, Y_lexicon, pad_length=Ty)\n",
    "\n",
    "X_test_ts = get_feat_tensor(X_test, X_lexicon, pad_length=Tx)\n",
    "Y_test_ts = get_feat_tensor(Y_test, Y_lexicon, pad_length=Ty)\n",
    "\n",
    "# X_train = (m, Tx)\n",
    "print(f'{X_train_ts.shape = }')\n",
    "print('X[0] =', X_train_ts[0], end='\\n\\n')\n",
    "\n",
    "# Y_train = (m, Ty)\n",
    "print(f'{Y_train_ts.shape = }')\n",
    "print('Y[0] =', Y_train_ts[0])"
   ]
  },
  {
   "cell_type": "markdown",
   "metadata": {},
   "source": [
    "## 5.4 Train"
   ]
  },
  {
   "cell_type": "code",
   "execution_count": 42,
   "metadata": {},
   "outputs": [],
   "source": [
    "from torch.utils.data import TensorDataset, DataLoader\n",
    "\n",
    "def fit(\n",
    "        X, Y,\n",
    "        X_lexicon_size, Y_lexicon_size,\n",
    "        X_pad_token, Y_pad_token,\n",
    "        alpha=1e-2, num_iters=1000, batch_size=16):\n",
    "    \"\"\"\n",
    "    Arguments:\n",
    "        X (ndarray(m, Tx))      : Input sequence\n",
    "        Y (ndarray(m, Ty))      : Output sequence\n",
    "        X_lexicon_size (int)    : Input sequence feat_dim = size of vocab X.\n",
    "        Y_lexicon_size (int)    : Output sequence feat_dim = size of vocab Y.\n",
    "        X_pad_token (int)       : Padding token of source sequence\n",
    "        Y_pad_token (int)       : Padding token of target sequence, ignore when computing cost\n",
    "    Returns:\n",
    "        transformer (torch model)   : trained transformer\n",
    "        J_history (list)            : List of cost each iter for plotting\n",
    "    \"\"\"\n",
    "    # Dataset\n",
    "    dset = TensorDataset(\n",
    "        torch.LongTensor(X),\n",
    "        torch.LongTensor(Y))\n",
    "\n",
    "    # Dataloader\n",
    "    dloader = DataLoader(\n",
    "        dataset=dset,\n",
    "        batch_size=batch_size,\n",
    "        shuffle=True, num_workers=8, pin_memory=True)\n",
    "\n",
    "    ## Config\n",
    "    device = torch.device(\n",
    "        \"cuda\" if torch.cuda.is_available() else \"cpu\")\n",
    "\n",
    "    # Model\n",
    "    transformer = Transformer(\n",
    "        Tx=Tx, X_lexicon_size=X_lexicon_size,\n",
    "        Ty=Ty-1, Y_lexicon_size=Y_lexicon_size,\n",
    "        embed_dim=64,\n",
    "        num_layers=2, num_heads=2,\n",
    "        forward_expansion_dim=256,\n",
    "        dropout=0.1, eps=1e-5)\n",
    "    transformer = transformer.to(device)\n",
    "    transformer.train()\n",
    "    \n",
    "    # Criterions\n",
    "    #    Note: Exclude padding token when compte loss\n",
    "    criterion = nn.NLLLoss(\n",
    "        ignore_index=Y_pad_token)\n",
    "    \n",
    "    # Optimizer\n",
    "    optimizer = torch.optim.Adam(transformer.parameters(),\n",
    "        lr=alpha, betas=(0.9, 0.999), eps=1e-08, weight_decay=0, amsgrad=False)\n",
    "\n",
    "    # cost and params history\n",
    "    J_history = []\n",
    "    for i in range(num_iters):\n",
    "        cost = 0\n",
    "        for b, batch in enumerate(dloader):\n",
    "            # Batch:\n",
    "            #    X_b = (batch_size, Tx)\n",
    "            #    Y_b = (batch_size, Ty)\n",
    "            Xb, Yb = batch\n",
    "            Xb = Xb.to(device).to(torch.int64)\n",
    "            Yb = Yb.to(device).to(torch.int64)\n",
    "\n",
    "            # t-1 preidct t\n",
    "            Yb_in = Yb[:, :-1]\n",
    "            Yb_target = Yb[:, 1:]\n",
    "\n",
    "            # Create maskes\n",
    "            X_mask = create_mask_source(\n",
    "                X_seq=Xb,\n",
    "                pad_token=X_pad_token,\n",
    "                device=device)\n",
    "\n",
    "            Y_mask = create_mask_target(\n",
    "                Y_seq=Yb_in,\n",
    "                pad_token=Y_pad_token,\n",
    "                device=device)\n",
    "\n",
    "            # Forward\n",
    "            #    Yb_hat = (batch_size, Ty, Y_lexicon_size)\n",
    "            optimizer.zero_grad()\n",
    "            Yb_hat, _ = transformer(\n",
    "                X_seq=Xb, X_mask=X_mask,\n",
    "                Y_seq=Yb_in, Y_mask=Y_mask,\n",
    "                device=device)\n",
    "\n",
    "            # Batch Cost compute\n",
    "            Yb_hat_reshaped = Yb_hat.contiguous().view(-1, Y_lexicon_size)\n",
    "            Yb_target_reshaped = Yb_target.contiguous().view(-1)\n",
    "            cost_b = criterion(Yb_hat_reshaped, Yb_target_reshaped)\n",
    "\n",
    "            # Track Iter Cost\n",
    "            cost += cost_b.item()\n",
    "\n",
    "            # Back Propagation\n",
    "            cost_b.backward()\n",
    "            nn.utils.clip_grad_norm_(transformer.parameters(), max_norm=1)\n",
    "                # Clip grad to avoid exploding gradient\n",
    "            optimizer.step()\n",
    "\n",
    "        # Compute Cost\n",
    "        J_history.append(cost)\n",
    "        if i % 20 == 0 or i == num_iters-1:\n",
    "            print(f\"Cost after iteration {i:4}: {cost:.4f}\")\n",
    "    return transformer, J_history"
   ]
  },
  {
   "cell_type": "code",
   "execution_count": 43,
   "metadata": {
    "scrolled": false
   },
   "outputs": [
    {
     "name": "stdout",
     "output_type": "stream",
     "text": [
      "Tx = 32, X_lexicon_size = 39\n",
      "Ty = 17, Y_lexicon_size = 15\n",
      "Cost after iteration    0: 54.7867\n",
      "Cost after iteration   20: 7.0060\n",
      "Cost after iteration   40: 4.0178\n",
      "Cost after iteration   60: 2.5386\n",
      "Cost after iteration   80: 1.7842\n",
      "Cost after iteration  100: 1.3163\n",
      "Cost after iteration  120: 1.1038\n",
      "Cost after iteration  140: 0.8654\n",
      "Cost after iteration  160: 0.7349\n",
      "Cost after iteration  180: 0.6318\n",
      "Cost after iteration  199: 0.5253\n"
     ]
    }
   ],
   "source": [
    "print(f'{Tx = }, {X_lexicon_size = }')\n",
    "print(f'{Ty = }, {Y_lexicon_size = }')\n",
    "\n",
    "transformer, J_hist = fit(\n",
    "    X=X_train_ts, Y=Y_train_ts,\n",
    "    X_lexicon_size=X_lexicon_size, Y_lexicon_size=Y_lexicon_size,\n",
    "    X_pad_token=X_lexicon['<pad>'], Y_pad_token=Y_lexicon['<pad>'],\n",
    "    alpha=2e-3, num_iters=200, batch_size=256)"
   ]
  },
  {
   "cell_type": "code",
   "execution_count": 44,
   "metadata": {},
   "outputs": [
    {
     "data": {
      "image/png": "[encoded data removed]",
      "text/plain": [
       "<Figure size 864x288 with 2 Axes>"
      ]
     },
     "metadata": {
      "needs_background": "light"
     },
     "output_type": "display_data"
    }
   ],
   "source": [
    "fig, (ax1, ax2) = plt.subplots(1, 2, constrained_layout=True, figsize=(12,4))\n",
    "\n",
    "ax1.plot(J_hist[:10])\n",
    "ax2.plot(10 + np.arange(len(J_hist[10:])), J_hist[10:])\n",
    "ax1.set_title(\"Cost vs. iteration(start)\");  ax2.set_title(\"Cost vs. iteration (end)\")\n",
    "ax1.set_ylabel('Cost')            ;  ax2.set_ylabel('Cost')\n",
    "ax1.set_xlabel('iteration step')  ;  ax2.set_xlabel('iteration step')\n",
    "plt.show()"
   ]
  },
  {
   "cell_type": "markdown",
   "metadata": {},
   "source": [
    "## 5.5 Inference\n",
    "\n",
    "#### Infer - beamsearch"
   ]
  },
  {
   "cell_type": "code",
   "execution_count": 45,
   "metadata": {},
   "outputs": [],
   "source": [
    "from copy import deepcopy\n",
    "\n",
    "\n",
    "def infer_beam(model, input_sentence,\n",
    "        X_lexicon,\n",
    "        Y_lexicon, Y_inverse_lexicon,\n",
    "        Tx=32, Ty=12, beam_width=5, return_att=False):\n",
    "    \"\"\"\n",
    "    Arguments:\n",
    "        model (torch model)                 : trained transformer model\n",
    "        input_sentence (str)                : Input human readable format\n",
    "        X_lexicon (dict(ch:idx))            : Human dictionary\n",
    "        Y_lexicon (dict(ch:idx))            : Machine dictionary\n",
    "        Y_inverse_lexicon (dict(idx:ch))    : Machine inverse dictionary\n",
    "    Returns:\n",
    "        output_sentence (str)               : Predicted machine readable format from model\n",
    "    \"\"\"\n",
    "    # str -> [37,2,1,56,38] -> tensor(1, Tx)\n",
    "    X_seq = torch.LongTensor(\n",
    "        get_feat_tensor([input_sentence], X_lexicon, pad_length=Tx))\n",
    "    X_mask = create_mask_source(\n",
    "        X_seq=X_seq,\n",
    "        pad_token=X_lexicon['<pad>'],\n",
    "        device='cpu')\n",
    "\n",
    "    # Init beams: log_prob, Y_seq\n",
    "    Y_seq = torch.full((1, Ty),\n",
    "        fill_value=Y_lexicon['<pad>'], dtype=torch.int64)\n",
    "    Y_seq[:, 0] = Y_lexicon['<start>']\n",
    "    beams = [(0, Y_seq)]\n",
    "\n",
    "    # Beam Search\n",
    "    final_results = []\n",
    "    for t in range(1, Ty):\n",
    "        new_beams = []\n",
    "        for log_prob, Y_seq in beams:\n",
    "            # Infer\n",
    "            Y_in = Y_seq[:,:t]\n",
    "            Y_mask = create_mask_target(\n",
    "                Y_seq=Y_in,\n",
    "                pad_token=Y_lexicon['<pad>'],\n",
    "                device='cpu')\n",
    "            with torch.no_grad():\n",
    "                # Y_hat = (1, T, Y_lexicon_size)\n",
    "                Y_hat, attention = model(\n",
    "                    X_seq=X_seq, X_mask=X_mask,\n",
    "                    Y_seq=Y_in, Y_mask=Y_mask)\n",
    "\n",
    "            # Update beams\n",
    "            top_log_probs, top_indices = Y_hat[0,t-1,:].topk(beam_width)\n",
    "            for b in range(beam_width):\n",
    "                ids = top_indices[b].item()\n",
    "                log_prob_b = top_log_probs[b].item()\n",
    "                \n",
    "                Y_seq_b = deepcopy(Y_seq)\n",
    "                Y_seq_b[:, t] = ids\n",
    "                if ids == Y_lexicon['<end>']:\n",
    "                    final_results.append((\n",
    "                        log_prob + log_prob_b,\n",
    "                        Y_seq_b,\n",
    "                        attention))\n",
    "                else:\n",
    "                    new_beams.append((\n",
    "                        log_prob + log_prob_b,\n",
    "                        Y_seq_b))\n",
    "        # Relax beams\n",
    "        beams = sorted(new_beams, key=lambda x: x[0], reverse=True)[:beam_width]\n",
    "\n",
    "    # Retrieve best guess Y_seq\n",
    "    final_results = sorted(final_results, key=lambda x: x[0], reverse=True)\n",
    "    output_sentence = ''\n",
    "    # skip <start>\n",
    "    for ids in final_results[0][1].squeeze(dim=0).tolist()[1:]:\n",
    "        if Y_inverse_lexicon[ids] == '<end>': break\n",
    "        output_sentence += Y_inverse_lexicon[ids]\n",
    "\n",
    "    if return_att == True:\n",
    "        attention = final_results[0][2]\n",
    "        return output_sentence, attention\n",
    "    else:\n",
    "        \n",
    "        return output_sentence"
   ]
  },
  {
   "cell_type": "code",
   "execution_count": 46,
   "metadata": {},
   "outputs": [
    {
     "name": "stdout",
     "output_type": "stream",
     "text": [
      "[Input]                        [Prediction]    [Correct Label]\n",
      "june 20 2012                   2012-06-20      2012-06-20     \n",
      "09 mar 1971                    1971-03-09      1971-03-09     \n",
      "may 21 1980                    1980-05-21      1980-05-21     \n",
      "sunday july 12 2015            2015-07-12      2015-07-12     \n",
      "saturday march 9 1974          1974-03-09      1974-03-09     \n",
      "saturday october 16 1993       1993-10-16      1993-10-16     \n",
      "11/4/04                        2004-11-04      2004-11-04     \n",
      "saturday august 23 2014        2014-08-23      2014-08-23     \n",
      "monday july 18 1988            1988-07-18      1988-07-18     \n",
      "30 aug 1988                    1988-08-30      1988-08-30     \n"
     ]
    }
   ],
   "source": [
    "transformer.cpu()\n",
    "transformer.eval()\n",
    "\n",
    "print(f'{\"[Input]\":30} {\"[Prediction]\":15} {\"[Correct Label]\":15}')\n",
    "for i in range(10):\n",
    "    pred = infer_beam(transformer, X_test[i],\n",
    "        X_lexicon=X_lexicon,\n",
    "        Y_lexicon=Y_lexicon, Y_inverse_lexicon=Y_inverse_lexicon,\n",
    "        Tx=Tx, Ty=Ty)\n",
    "    print(f'{X_test[i]:30} {pred:15} {Y_test[i]:15}')"
   ]
  },
  {
   "cell_type": "markdown",
   "metadata": {},
   "source": [
    "#### Accuracy"
   ]
  },
  {
   "cell_type": "code",
   "execution_count": 47,
   "metadata": {},
   "outputs": [
    {
     "name": "stderr",
     "output_type": "stream",
     "text": [
      "100%|██████████| 2000/2000 [01:26<00:00, 23.24it/s]\n"
     ]
    },
    {
     "name": "stdout",
     "output_type": "stream",
     "text": [
      "Test accuracy = 99.850%\n"
     ]
    }
   ],
   "source": [
    "# Predict\n",
    "Y_test_pred = Parallel(n_jobs=8, backend='loky')(delayed(function=infer_beam)(transformer, utt,\n",
    "    X_lexicon=X_lexicon,\n",
    "    Y_lexicon=Y_lexicon, Y_inverse_lexicon=Y_inverse_lexicon,\n",
    "    Tx=Tx, Ty=Ty)\n",
    "        for utt in tqdm(X_test))\n",
    "\n",
    "# Acc\n",
    "scores = [ 1 if Y_test_pred[i] == Y_test[i] else 0 \\\n",
    "    for i in range(len(Y_test)) ]\n",
    "print(f'Test accuracy = {100.0*sum(scores)/len(Y_test):.3f}%')"
   ]
  },
  {
   "cell_type": "markdown",
   "metadata": {},
   "source": [
    "## 5.6 Plot Attention"
   ]
  },
  {
   "cell_type": "code",
   "execution_count": 48,
   "metadata": {
    "scrolled": false
   },
   "outputs": [],
   "source": [
    "import matplotlib.ticker as ticker\n",
    "\n",
    "\n",
    "def display_attention(input_sentence, output_sentence, attention):\n",
    "    \"\"\"\n",
    "    Arguments:\n",
    "        input_sentence (str)                : Input human readable format\n",
    "        output_sentence (str)               : Predicted machine readable format\n",
    "        attention (tensor(m, num_heads, T_query, T_key)) : scaled dot product attention\n",
    "    \"\"\"\n",
    "    _, n_heads, _, _ = attention.size()    \n",
    "    \n",
    "    in_label = ['<start>']+[c for c in input_sentence]+['<end>']\n",
    "    out_label = [c for c in output_sentence]+['<end>']\n",
    "    \n",
    "    for i in range(n_heads):        \n",
    "        _attention = attention.squeeze(0)[i,:,:len(in_label)]\n",
    "        cax = plt.matshow(_attention, cmap='bone')\n",
    "\n",
    "        plt.tick_params(labelsize=12)\n",
    "        plt.xticks(np.arange(len(in_label)), in_label, \n",
    "            rotation=45)\n",
    "        plt.yticks(np.arange(len(out_label)), out_label)\n",
    "        \n",
    "        if i == 0:\n",
    "            plt.title(f\"{input_sentence} --> {output_sentence}\", fontsize=14)\n",
    "        plt.show()"
   ]
  },
  {
   "cell_type": "code",
   "execution_count": 49,
   "metadata": {
    "scrolled": false
   },
   "outputs": [
    {
     "data": {
      "image/png": "[encoded data removed]",
      "text/plain": [
       "<Figure size 549.818x288 with 1 Axes>"
      ]
     },
     "metadata": {
      "needs_background": "light"
     },
     "output_type": "display_data"
    },
    {
     "data": {
      "image/png": "[encoded data removed]",
      "text/plain": [
       "<Figure size 549.818x288 with 1 Axes>"
      ]
     },
     "metadata": {
      "needs_background": "light"
     },
     "output_type": "display_data"
    }
   ],
   "source": [
    "input_sentence = 'september 21st 1887'\n",
    "output_sentence, attention = infer_beam(transformer, input_sentence,\n",
    "    X_lexicon=X_lexicon,\n",
    "    Y_lexicon=Y_lexicon, Y_inverse_lexicon=Y_inverse_lexicon,\n",
    "    Tx=Tx, Ty=Ty-1, return_att=True)\n",
    "\n",
    "display_attention(input_sentence, output_sentence, attention)"
   ]
  },
  {
   "cell_type": "code",
   "execution_count": 50,
   "metadata": {},
   "outputs": [
    {
     "data": {
      "image/png": "[encoded data removed]",
      "text/plain": [
       "<Figure size 733.091x288 with 1 Axes>"
      ]
     },
     "metadata": {
      "needs_background": "light"
     },
     "output_type": "display_data"
    },
    {
     "data": {
      "image/png": "[encoded data removed]",
      "text/plain": [
       "<Figure size 733.091x288 with 1 Axes>"
      ]
     },
     "metadata": {
      "needs_background": "light"
     },
     "output_type": "display_data"
    }
   ],
   "source": [
    "input_sentence = 'tomorrow september 19 1999'\n",
    "output_sentence, attention = infer_beam(transformer, input_sentence,\n",
    "    X_lexicon=X_lexicon,\n",
    "    Y_lexicon=Y_lexicon, Y_inverse_lexicon=Y_inverse_lexicon,\n",
    "    Tx=Tx, Ty=Ty-1, return_att=True)\n",
    "\n",
    "display_attention(input_sentence, output_sentence, attention)"
   ]
  }
 ],
 "metadata": {
  "kernelspec": {
   "display_name": "Python 3.8",
   "language": "python",
   "name": "py38"
  },
  "language_info": {
   "codemirror_mode": {
    "name": "ipython",
    "version": 3
   },
   "file_extension": ".py",
   "mimetype": "text/x-python",
   "name": "python",
   "nbconvert_exporter": "python",
   "pygments_lexer": "ipython3",
   "version": "3.8.13"
  },
  "vscode": {
   "interpreter": {
    "hash": "b166c11a6fb13fc284d60599e45a47824480cbed14934159809ec834d0d5166e"
   }
  }
 },
 "nbformat": 4,
 "nbformat_minor": 4
}
