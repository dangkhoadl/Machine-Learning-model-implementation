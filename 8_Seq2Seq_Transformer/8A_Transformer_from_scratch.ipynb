{
 "cells": [
  {
   "cell_type": "code",
   "execution_count": 1,
   "metadata": {},
   "outputs": [],
   "source": [
    "import torch\n",
    "import torch.nn as nn\n",
    "import torch.nn.functional as F\n",
    "\n",
    "import numpy as np"
   ]
  },
  {
   "cell_type": "markdown",
   "metadata": {},
   "source": [
    "#### Source sequence X"
   ]
  },
  {
   "cell_type": "code",
   "execution_count": 2,
   "metadata": {},
   "outputs": [],
   "source": [
    "X_chars = [chr(asc_idx) for asc_idx in range(ord('a'), ord('z')+1)] \\\n",
    "    + ['<unk>', '<pad>', '<start>', '<end>']\n",
    "\n",
    "X_lexicon = { ch:idx for idx, ch in enumerate(X_chars) }"
   ]
  },
  {
   "cell_type": "code",
   "execution_count": 3,
   "metadata": {},
   "outputs": [
    {
     "name": "stdout",
     "output_type": "stream",
     "text": [
      "X.size() = torch.Size([16, 50])\n",
      "X[0] = tensor([ 3, 19, 12, 18,  9, 20, 10,  6,  8, 10,  4, 23, 13,  6, 10, 18, 22, 11,\n",
      "        18, 12, 27,  6, 15, 23, 19,  4, 28, 21, 18,  5,  3,  6,  0, 16, 15,  5,\n",
      "         5, 26, 25, 29, 15, 21, 16, 28,  0, 17, 27,  9, 16, 29])\n"
     ]
    }
   ],
   "source": [
    "m = 16\n",
    "Tx = 50\n",
    "X_lexicon_size = len(X_lexicon) # 30\n",
    "\n",
    "# (m, Tx)\n",
    "X = torch.randint(low=0, high=X_lexicon_size, size=(m, Tx))\n",
    "print(f'{X.size() = }')\n",
    "print(f'{X[0] = }')"
   ]
  },
  {
   "cell_type": "markdown",
   "metadata": {},
   "source": [
    "#### Target sequence Y"
   ]
  },
  {
   "cell_type": "code",
   "execution_count": 4,
   "metadata": {},
   "outputs": [],
   "source": [
    "Y_chars = [chr(asc_idx) for asc_idx in range(ord('0'), ord('9')+1)] \\\n",
    "    + ['<unk>', '<pad>', '<start>', '<end>']\n",
    "Y_lexicon = { ch:idx for idx, ch in enumerate(Y_chars) }"
   ]
  },
  {
   "cell_type": "code",
   "execution_count": 5,
   "metadata": {},
   "outputs": [
    {
     "name": "stdout",
     "output_type": "stream",
     "text": [
      "Y.size() = torch.Size([16, 40])\n",
      "Y[0] = tensor([ 5,  3,  0, 10,  2,  5,  9, 13, 10, 11,  7,  9, 11,  7, 10,  7,  3,  0,\n",
      "        11,  2,  0,  4,  6,  4,  2,  4, 10, 12,  8,  5,  8,  0,  0,  2,  7, 10,\n",
      "         0,  3,  3, 10])\n"
     ]
    }
   ],
   "source": [
    "m = 16\n",
    "Ty = 40\n",
    "Y_lexicon_size = len(Y_lexicon) # 14\n",
    "\n",
    "# (m, Ty)\n",
    "Y = torch.randint(low=0, high=Y_lexicon_size, size=(m, Ty))\n",
    "print(f'{Y.size() = }')\n",
    "print(f'{Y[0] = }')"
   ]
  },
  {
   "cell_type": "markdown",
   "metadata": {},
   "source": [
    "# 1. Components\n",
    "[https://arxiv.org/pdf/1706.03762v5.pdf](https://arxiv.org/pdf/1706.03762v5.pdf)\n",
    "\n",
    "<img src=\"assets/transformer_transformer.png\" width=\"400\">\n"
   ]
  },
  {
   "cell_type": "markdown",
   "metadata": {},
   "source": [
    "### 1.1 Embedding\n",
    "- Encode **word meaning info**"
   ]
  },
  {
   "cell_type": "code",
   "execution_count": 6,
   "metadata": {},
   "outputs": [],
   "source": [
    "class Embbeding(nn.Module):\n",
    "    def __init__(self, lexicon_size, embed_dim):\n",
    "        super(Embbeding, self).__init__()\n",
    "\n",
    "        # Emb\n",
    "        self.embedding = nn.Embedding(\n",
    "            num_embeddings=lexicon_size,\n",
    "            embedding_dim=embed_dim)\n",
    "\n",
    "    def forward(self, inp):\n",
    "        \"\"\"\n",
    "        Arguments:\n",
    "            inp (Long tensor(m, T))         : Input sequence, categorical Long\n",
    "                m : batch size\n",
    "                T : sequence length\n",
    "        Returns:\n",
    "            emb (tensor(m, T, embed_dim))   : Embbeding sequence\n",
    "        \"\"\"\n",
    "        # (m, T) -> (m, T, emb_dim)\n",
    "        return self.embedding(inp)"
   ]
  },
  {
   "cell_type": "code",
   "execution_count": 7,
   "metadata": {},
   "outputs": [
    {
     "name": "stdout",
     "output_type": "stream",
     "text": [
      "X_emb.size() = torch.Size([16, 50, 64])\n"
     ]
    }
   ],
   "source": [
    "embed_x = Embbeding(\n",
    "    lexicon_size=X_lexicon_size,\n",
    "    embed_dim=64)\n",
    "X_emb = embed_x(X)\n",
    "\n",
    "# (m, Tx, emb_dim)\n",
    "print(f'{X_emb.size() = }')"
   ]
  },
  {
   "cell_type": "code",
   "execution_count": 8,
   "metadata": {},
   "outputs": [
    {
     "name": "stdout",
     "output_type": "stream",
     "text": [
      "Y_emb.size() = torch.Size([16, 40, 64])\n"
     ]
    }
   ],
   "source": [
    "embed_y = Embbeding(\n",
    "    lexicon_size=Y_lexicon_size,\n",
    "    embed_dim=64)\n",
    "Y_emb = embed_y(Y)\n",
    "\n",
    "# (m, Ty, emb_dim)\n",
    "print(f'{Y_emb.size() = }')"
   ]
  },
  {
   "cell_type": "markdown",
   "metadata": {},
   "source": [
    "### 1.2 Positional Encoder\n",
    "- Encode **word positioning info** (pos of a word in a sentence)\n",
    "- PE = a matrix size (Tx, emb_dim)\n",
    "\n",
    "$$\\begin{cases}\n",
    "\\text{PE(pos, 2i)} = \\sin \\left(\\frac{\\text{pos}}{10000^{2i / d}} \\right) \\text{ (even i)} \\\\\n",
    "\\text{PE(pos, 2i + 1)} = \\cos \\left(\\frac{\\text{pos}}{10000^{2i / d}} \\right) \\text{ (odd i)}\n",
    "\\end{cases}$$\n",
    "\n",
    "- X_embed_pe = A*embed + PE\n",
    "    + Amplify embed values to prevent embedding info supressed by PE info after adding"
   ]
  },
  {
   "cell_type": "code",
   "execution_count": 9,
   "metadata": {},
   "outputs": [
    {
     "data": {
      "image/png": "[encoded data removed]",
      "text/plain": [
       "<Figure size 432x288 with 2 Axes>"
      ]
     },
     "metadata": {
      "needs_background": "light"
     },
     "output_type": "display_data"
    }
   ],
   "source": [
    "import seaborn as sns\n",
    "import matplotlib.pyplot as plt\n",
    "T, emb_dim = 100, 64\n",
    "\n",
    "# Init PE matrix\n",
    "#    (T, emb_dim)\n",
    "pe = np.zeros((T, emb_dim))\n",
    "\n",
    "# Assign pe values\n",
    "for t in range(T):\n",
    "    for i in range(0, emb_dim, 2):\n",
    "        pe[t, i] = np.sin(\n",
    "            t / (10000 ** ((2 * i) / emb_dim)))\n",
    "        pe[t, i+1] = np.cos(\n",
    "            t / (10000 ** ((2 * (i + 1)) / emb_dim)))\n",
    "        \n",
    "# Plot\n",
    "sns.heatmap(pe, cmap=plt.cm.Reds)\n",
    "plt.xlabel('Embbed dim')\n",
    "plt.ylabel('Position (t)')\n",
    "plt.show()"
   ]
  },
  {
   "cell_type": "code",
   "execution_count": 10,
   "metadata": {},
   "outputs": [],
   "source": [
    "from torch.autograd import Variable\n",
    "\n",
    "class PositionalEncoder(nn.Module):\n",
    "    def __init__(self, T, embed_dim):\n",
    "        super(PositionalEncoder, self).__init__()\n",
    "        self.emb_dim = embed_dim\n",
    "\n",
    "        # Init PE matrix\n",
    "        #    (T, emb_dim)\n",
    "        pe = torch.zeros(T, self.emb_dim)\n",
    "\n",
    "        # Assign pe values\n",
    "        for t in range(T):\n",
    "            for i in range(0, self.emb_dim, 2):\n",
    "                pe[t, i] = np.sin(\n",
    "                    t / (10000 ** ((2 * i) / self.emb_dim)))\n",
    "                pe[t, i+1] = np.cos(\n",
    "                    t / (10000 ** ((2 * (i + 1)) / self.emb_dim)))\n",
    "\n",
    "        # (T, emb_dim) -> (1, T, emb_dim)\n",
    "        self.register_buffer('pe', pe.unsqueeze(0))\n",
    "\n",
    "    def forward(self, emb):\n",
    "        \"\"\"\n",
    "        Add position encoding info to emb\n",
    "\n",
    "        Arguments:\n",
    "            emb (tensor(m, T, embed_dim))       : Embbeding sequence\n",
    "\n",
    "        Returns:\n",
    "            emb_pos (tensor(m, T, embed_dim))   : Embbeding + PE sequence\n",
    "        \"\"\"\n",
    "        # Get dim\n",
    "        T = emb.size(1)\n",
    "        \n",
    "        # Retrieve pe\n",
    "        pe = Variable(self.pe[:,:T], requires_grad=False)\n",
    "        if emb.is_cuda: pe.cuda()\n",
    "\n",
    "        # emb_pos = rescaled*emb + position encoded\n",
    "        emb_pos = np.sqrt(self.emb_dim)*emb + pe\n",
    "        return emb_pos"
   ]
  },
  {
   "cell_type": "code",
   "execution_count": 11,
   "metadata": {},
   "outputs": [
    {
     "name": "stdout",
     "output_type": "stream",
     "text": [
      "X_emb_pos.size() = torch.Size([16, 50, 64])\n"
     ]
    }
   ],
   "source": [
    "pos_encoder_x = PositionalEncoder(\n",
    "    T=Tx,\n",
    "    embed_dim=64)\n",
    "\n",
    "X_emb_pos = pos_encoder_x(X_emb)\n",
    "print(f'{X_emb_pos.size() = }')"
   ]
  },
  {
   "cell_type": "code",
   "execution_count": 12,
   "metadata": {},
   "outputs": [
    {
     "name": "stdout",
     "output_type": "stream",
     "text": [
      "Y_emb_pos.size() = torch.Size([16, 40, 64])\n"
     ]
    }
   ],
   "source": [
    "pos_encoder_y = PositionalEncoder(\n",
    "    T=Ty,\n",
    "    embed_dim=64)\n",
    "\n",
    "Y_emb_pos = pos_encoder_y(Y_emb)\n",
    "print(f'{Y_emb_pos.size() = }')"
   ]
  },
  {
   "cell_type": "markdown",
   "metadata": {},
   "source": [
    "### 1.3 Multi-Headed Attention\n",
    "\n",
    "#### Masking\n",
    "- **pad token mask**: Suppress attention where `<pad>` exists\n",
    "- **No peaking forward Mask**: For Target sequence, prevent the decoder paying attention ahead toward the rest of the translated sentence when predicting the next word."
   ]
  },
  {
   "cell_type": "markdown",
   "metadata": {},
   "source": [
    "#### Source mask example\n",
    "\n",
    "```python\n",
    "# X_seq = (3, 14), pad_token = 0\n",
    "X_seq = tensor([\n",
    "    [ 101, 1045, 2123, 1005, 1056, 2113, 1998, 1045, 2123, 1005, 1056, 2729, 1012,  102],\n",
    "    [ 101, 2054, 2395, 2079, 2017, 2444, 2006, 1029,  102,    0,    0,    0, 0,    0],\n",
    "    [ 101, 3419, 5598, 2046, 1996, 4770, 1012,  102,    0,    0,    0,    0, 0,    0]])\n",
    "\n",
    "# X_mask = (3, 1, 1, 14)\n",
    "X_mask = tensor([\n",
    "        [[[1, 1, 1, 1, 1, 1, 1, 1, 1, 1, 1, 1, 1, 1]]],\n",
    "        [[[1, 1, 1, 1, 1, 1, 1, 1, 1, 0, 0, 0, 0, 0]]],\n",
    "        [[[1, 1, 1, 1, 1, 1, 1, 1, 0, 0, 0, 0, 0, 0]]]], dtype=torch.int8)\n",
    "```"
   ]
  },
  {
   "cell_type": "code",
   "execution_count": 13,
   "metadata": {},
   "outputs": [],
   "source": [
    "def create_mask_source(X_seq, pad_token, device='cpu'):\n",
    "    \"\"\"\n",
    "    Create mask values (0 = masked, 1 = keep)\n",
    "\n",
    "    Arguments:\n",
    "        X_seq (Long tensor(m, T)) : Source Sequence, categorical Long\n",
    "            m : batch size\n",
    "            T : sequence length\n",
    "        pad_token (int)           : token value of <pad>, get from X_lexicon['<pad>']\n",
    "\n",
    "    Returns:\n",
    "        mask (Long tensor(m, 1, 1, T)) : attention mask(val=1:keep or val=0:supress) for source sequence\n",
    "    \"\"\"\n",
    "    # Get dim\n",
    "    m, Tx = X_seq.size()\n",
    "\n",
    "    # padding token Mask\n",
    "    #    mask = 1 if seq != padding token else 0\n",
    "    #    (m, T) -> (m, 1, 1, T)\n",
    "    padding_mask = (X_seq != pad_token) \\\n",
    "        .unsqueeze(dim=1).unsqueeze(dim=2) \\\n",
    "        .to(device)\n",
    "\n",
    "    return padding_mask \\\n",
    "        .to(torch.int8).requires_grad_(False)"
   ]
  },
  {
   "cell_type": "code",
   "execution_count": 14,
   "metadata": {},
   "outputs": [
    {
     "name": "stdout",
     "output_type": "stream",
     "text": [
      "X_mask.size() = torch.Size([16, 1, 1, 50])\n"
     ]
    }
   ],
   "source": [
    "X_mask = create_mask_source(X, pad_token=X_lexicon['<pad>'])\n",
    "print(f'{X_mask.size() = }')"
   ]
  },
  {
   "cell_type": "markdown",
   "metadata": {},
   "source": [
    "#### Target mask example\n",
    "\n",
    "```python\n",
    "# Y_seq = (3, 12), pad_token = 1\n",
    "Y_seq = tensor([\n",
    "    [0, 70, 17, 55, 6, 70, 17,  2665, 25349, 21573, 2, 1],\n",
    "    [0, 88, 235, 25, 109, 142, 2, 1, 1, 1, 1, 1],\n",
    "    [0, 33939, 1945, 307, 1005, 1388, 9479, 27375, 2, 1, 1, 1]])\n",
    "\n",
    "# Y_mask = (3, 1, 12, 12)\n",
    "Y_mask = tensor([[\n",
    "         [[1, 0, 0, 0, 0, 0, 0, 0, 0, 0, 0, 0],\n",
    "          [1, 1, 0, 0, 0, 0, 0, 0, 0, 0, 0, 0],\n",
    "          [1, 1, 1, 0, 0, 0, 0, 0, 0, 0, 0, 0],\n",
    "          [1, 1, 1, 1, 0, 0, 0, 0, 0, 0, 0, 0],\n",
    "          [1, 1, 1, 1, 1, 0, 0, 0, 0, 0, 0, 0],\n",
    "          [1, 1, 1, 1, 1, 1, 0, 0, 0, 0, 0, 0],\n",
    "          [1, 1, 1, 1, 1, 1, 1, 0, 0, 0, 0, 0],\n",
    "          [1, 1, 1, 1, 1, 1, 1, 1, 0, 0, 0, 0],\n",
    "          [1, 1, 1, 1, 1, 1, 1, 1, 1, 0, 0, 0],\n",
    "          [1, 1, 1, 1, 1, 1, 1, 1, 1, 1, 0, 0],\n",
    "          [1, 1, 1, 1, 1, 1, 1, 1, 1, 1, 1, 0],\n",
    "          [1, 1, 1, 1, 1, 1, 1, 1, 1, 1, 1, 0]]],\n",
    "\n",
    "        [[[1, 0, 0, 0, 0, 0, 0, 0, 0, 0, 0, 0],\n",
    "          [1, 1, 0, 0, 0, 0, 0, 0, 0, 0, 0, 0],\n",
    "          [1, 1, 1, 0, 0, 0, 0, 0, 0, 0, 0, 0],\n",
    "          [1, 1, 1, 1, 0, 0, 0, 0, 0, 0, 0, 0],\n",
    "          [1, 1, 1, 1, 1, 0, 0, 0, 0, 0, 0, 0],\n",
    "          [1, 1, 1, 1, 1, 1, 0, 0, 0, 0, 0, 0],\n",
    "          [1, 1, 1, 1, 1, 1, 1, 0, 0, 0, 0, 0],\n",
    "          [1, 1, 1, 1, 1, 1, 1, 0, 0, 0, 0, 0],\n",
    "          [1, 1, 1, 1, 1, 1, 1, 0, 0, 0, 0, 0],\n",
    "          [1, 1, 1, 1, 1, 1, 1, 0, 0, 0, 0, 0],\n",
    "          [1, 1, 1, 1, 1, 1, 1, 0, 0, 0, 0, 0],\n",
    "          [1, 1, 1, 1, 1, 1, 1, 0, 0, 0, 0, 0]]],\n",
    "\n",
    "        [[[1, 0, 0, 0, 0, 0, 0, 0, 0, 0, 0, 0],\n",
    "          [1, 1, 0, 0, 0, 0, 0, 0, 0, 0, 0, 0],\n",
    "          [1, 1, 1, 0, 0, 0, 0, 0, 0, 0, 0, 0],\n",
    "          [1, 1, 1, 1, 0, 0, 0, 0, 0, 0, 0, 0],\n",
    "          [1, 1, 1, 1, 1, 0, 0, 0, 0, 0, 0, 0],\n",
    "          [1, 1, 1, 1, 1, 1, 0, 0, 0, 0, 0, 0],\n",
    "          [1, 1, 1, 1, 1, 1, 1, 0, 0, 0, 0, 0],\n",
    "          [1, 1, 1, 1, 1, 1, 1, 1, 0, 0, 0, 0],\n",
    "          [1, 1, 1, 1, 1, 1, 1, 1, 1, 0, 0, 0],\n",
    "          [1, 1, 1, 1, 1, 1, 1, 1, 1, 0, 0, 0],\n",
    "          [1, 1, 1, 1, 1, 1, 1, 1, 1, 0, 0, 0],\n",
    "          [1, 1, 1, 1, 1, 1, 1, 1, 1, 0, 0, 0]]]], dtype=torch.int8)\n",
    "```"
   ]
  },
  {
   "cell_type": "code",
   "execution_count": 15,
   "metadata": {},
   "outputs": [],
   "source": [
    "def create_mask_target(Y_seq, pad_token, device='cpu'):\n",
    "    \"\"\"\n",
    "    Create mask values (0 = masked, 1 = keep)\n",
    "\n",
    "    Arguments:\n",
    "        Y_seq (Long tensor(m, T)) : Target Sequence, categorical Long\n",
    "            m : batch size\n",
    "            T : sequence length\n",
    "        pad_token (int)           : token value of <pad>, get from Y_lexicon['<pad>']\n",
    "\n",
    "    Returns:\n",
    "        mask (Long tensor(m, 1, T, T)) : attention mask(val=1:keep or val=0:supress) for target sequence\n",
    "    \"\"\"\n",
    "    # Get dim\n",
    "    m, Ty = Y_seq.size()\n",
    "\n",
    "    # padding token Mask\n",
    "    #    mask = 1 if seq != padding token else 0\n",
    "    #    (m, T) -> (m, 1, 1, T) -> (m, 1, T, T)\n",
    "    padding_mask = (Y_seq != pad_token) \\\n",
    "        .unsqueeze(dim=1).unsqueeze(dim=2) \\\n",
    "        .expand(m, 1, Ty, Ty).to(torch.bool) \\\n",
    "        .to(device)\n",
    "\n",
    "    # No peaking forward Mask: (m, 1, T, T)\n",
    "    #   (T, T) = Lower triangular matrix\n",
    "    nopeak_mask = torch.tril(torch.ones( (Ty, Ty) )) \\\n",
    "        .unsqueeze(dim=0).unsqueeze(dim=1) \\\n",
    "        .expand(m, 1, Ty, Ty).to(torch.bool) \\\n",
    "        .to(device)\n",
    "\n",
    "    return (padding_mask & nopeak_mask) \\\n",
    "        .to(torch.int8).requires_grad_(False)"
   ]
  },
  {
   "cell_type": "code",
   "execution_count": 16,
   "metadata": {},
   "outputs": [
    {
     "name": "stdout",
     "output_type": "stream",
     "text": [
      "Y_mask.size() = torch.Size([16, 1, 40, 40])\n"
     ]
    }
   ],
   "source": [
    "Y_mask = create_mask_target(Y, pad_token=Y_lexicon['<pad>'])\n",
    "print(f'{Y_mask.size() = }')"
   ]
  },
  {
   "cell_type": "markdown",
   "metadata": {},
   "source": [
    "#### Scaled Dot-Product Attention\n",
    "\n",
    "$$\\text{Attention}(Q,K,V) = \\text{softmax} \\left( \\frac{QK^T}{\\sqrt{d_k}} \\right) V$$\n",
    "\n",
    "<img src=\"assets/transformer_SDPAtt.png\" width=\"200\">\n",
    "\n",
    "#### Multi-head Attention\n",
    "\n",
    "<img src=\"assets/transformer_multiheadAtt.png\" width=\"300\">"
   ]
  },
  {
   "cell_type": "code",
   "execution_count": 17,
   "metadata": {},
   "outputs": [],
   "source": [
    "class MultiHeadAttention(nn.Module):\n",
    "    def __init__(self, embed_dim, num_heads, dropout=0.1):\n",
    "        super(MultiHeadAttention, self).__init__()\n",
    "\n",
    "        # Params\n",
    "        self.emb_dim = embed_dim\n",
    "        self.h = num_heads\n",
    "\n",
    "        # Split emb_dim = num_head * head_dim\n",
    "        self.head_dim = self.emb_dim // self.h\n",
    "\n",
    "        assert (\n",
    "            self.emb_dim == self.h * self.head_dim\n",
    "        ), \"Embedding size needs to be divisible by num_heads\"\n",
    "\n",
    "        # Linear key, queries, values\n",
    "        self.q_linears = nn.Linear(self.emb_dim, self.emb_dim)\n",
    "        self.k_linears = nn.Linear(self.emb_dim, self.emb_dim)\n",
    "        self.v_linears = nn.Linear(self.emb_dim, self.emb_dim)\n",
    "\n",
    "        self.dropout = nn.Dropout(dropout)\n",
    "        self.linear = nn.Linear(num_heads*self.head_dim, self.emb_dim)\n",
    "\n",
    "    def __scaled_dot_product_att(self, q, k, v, mask=None, dropout=None):\n",
    "        \"\"\"\n",
    "        Compute scaled dot product attention\n",
    "\n",
    "        Arguments:\n",
    "            q (tensor(m, T_query, num_heads, head_dim))        : query\n",
    "            k (tensor(m, T_key, num_heads, head_dim))          : key\n",
    "            v (tensor(m, T_val, num_heads, head_dim))          : value\n",
    "            mask (tensor None or (m, 1, T, T) or (m, 1, 1, T)) : attention mask, 1=keep, 0=suppress att\n",
    "            dropout (None or nn.Dropout)                       : dropout function\n",
    "        Returns:\n",
    "            attention (tensor(m, T_query, num_heads, head_dim)): scaled dot product attention\n",
    "        \"\"\"\n",
    "        # energy = (m, T_query, num_heads, head_dim) x (m, T_key, num_heads, head_dim)\n",
    "        #    -> (m, num_heads, T_query, T_key)\n",
    "        energy = torch.einsum(\"mqhd,mkhd->mhqk\", [q, k]) / np.sqrt(self.emb_dim)\n",
    "\n",
    "        if mask is not None:\n",
    "            # Masking, suppress energy/attention where mask == 0\n",
    "            energy = energy.masked_fill(mask == 0, float('-1e20'))\n",
    "\n",
    "        # softmax = (m, num_heads, T_query, T_key)\n",
    "        energy_sm = F.softmax(energy, dim=3)\n",
    "        if dropout is not None:\n",
    "            energy_sm = dropout(energy_sm)\n",
    "\n",
    "        # attention = softmax * v\n",
    "        #   (m, T_query, num_heads, head_dim)\n",
    "        attention = torch.einsum(\"mhqk,mvhd->mqhd\", [energy_sm, v])\n",
    "        return attention\n",
    "\n",
    "    def forward(self, Q, K, V, mask=None):\n",
    "        \"\"\"\n",
    "        Compute Multihead attention\n",
    "\n",
    "        Arguments:\n",
    "            Q (tensor(m, T_query, emb_dim))        : Query\n",
    "            K (tensor(m, T_key, emb_dim))          : Key\n",
    "            V (tensor(m, T_val, emb_dim))          : Value\n",
    "            mask (tensor None or (m, 1, T, T) or (m, 1, 1, T)) : attention mask, 1=keep, 0=suppress att\n",
    "        Returns:\n",
    "            attention (tensor(m, T_query, emb_dim)): multihead attention\n",
    "        \"\"\"\n",
    "\n",
    "        # Batch size\n",
    "        m = Q.size(0)\n",
    "\n",
    "        # Compute key, queries, values linears, then split q,k,v -> multiple heads\n",
    "        #   (m, T_query, emb_dim) -> (m, T_query, num_heads, head_dim)\n",
    "        #   (m, T_key, emb_dim) -> (m, T_key, num_heads, head_dim)\n",
    "        #   (m, T_val, emb_dim) -> (m, T_val, num_heads, head_dim)\n",
    "        queries = self.q_linears(Q).view(m, -1, self.h, self.head_dim)\n",
    "        keys = self.k_linears(K).view(m, -1, self.h, self.head_dim)\n",
    "        values = self.v_linears(V).view(m, -1, self.h, self.head_dim)\n",
    "\n",
    "        # Compute scaled dot product attention\n",
    "        #    (m, T_query, num_heads, head_dim)\n",
    "        attention = self.__scaled_dot_product_att(\n",
    "            q=queries, k=keys, v=values,\n",
    "            mask=mask, dropout=self.dropout)\n",
    "\n",
    "        # concatenate all heads\n",
    "        #    (m, T_query, emb_dim)\n",
    "        concat = attention.view(m, -1, self.h * self.head_dim)\n",
    "\n",
    "        # Compute last linear\n",
    "        attention = self.linear(concat)\n",
    "        return attention"
   ]
  },
  {
   "cell_type": "code",
   "execution_count": 18,
   "metadata": {},
   "outputs": [
    {
     "name": "stdout",
     "output_type": "stream",
     "text": [
      "X_self_att.size() = torch.Size([16, 50, 64])\n"
     ]
    }
   ],
   "source": [
    "self_att_x = MultiHeadAttention(embed_dim=64, num_heads=4, dropout=0.1)\n",
    "\n",
    "X_self_att = self_att_x(Q=X_emb_pos, K=X_emb_pos, V=X_emb_pos, mask=X_mask)\n",
    "print(f'{X_self_att.size() = }')"
   ]
  },
  {
   "cell_type": "code",
   "execution_count": 19,
   "metadata": {},
   "outputs": [
    {
     "name": "stdout",
     "output_type": "stream",
     "text": [
      "Y_self_att.size() = torch.Size([16, 40, 64])\n"
     ]
    }
   ],
   "source": [
    "self_att_y = MultiHeadAttention(embed_dim=64, num_heads=4, dropout=0.1)\n",
    "\n",
    "Y_self_att = self_att_y(Q=Y_emb_pos, K=Y_emb_pos, V=Y_emb_pos, mask=Y_mask)\n",
    "print(f'{Y_self_att.size() = }')"
   ]
  },
  {
   "cell_type": "markdown",
   "metadata": {},
   "source": [
    "### 1.4 Layer Norm\n",
    "- Perform Layer Normalization across each example, agg `feature dimensions`\n",
    "    + $\\gamma$: weight parameter, grad = True\n",
    "    + $\\beta$: bias parameter, grad = True\n",
    "\n",
    "$$y  = \\frac{x - E(x)}{\\sqrt{\\text{Var}(x) + \\epsilon}} * \\gamma + \\beta$$"
   ]
  },
  {
   "cell_type": "code",
   "execution_count": 20,
   "metadata": {},
   "outputs": [],
   "source": [
    "class LayerNorm(nn.Module):\n",
    "    def __init__(self, normalized_shape, eps=1e-5):\n",
    "        super(LayerNorm, self).__init__()\n",
    "        self.eps = eps\n",
    "\n",
    "        # Trainable params\n",
    "        self.gamma = nn.Parameter(torch.ones(normalized_shape), requires_grad=True)\n",
    "        self.beta = nn.Parameter(torch.zeros(normalized_shape), requires_grad=True)\n",
    "\n",
    "    def forward(self, x):\n",
    "        \"\"\"\n",
    "        Compute Norm across each example, agg (emb_dim), same as nn.LayerNorm(emb_dim)\n",
    "\n",
    "        Arguments:\n",
    "            x (tensor(m, T, emb_dim))  : Input\n",
    "            affine (bool)              : If True apply transform to input x\n",
    "        Returns:\n",
    "            y (tensor(m, T, emb_dim))  : Norm output\n",
    "        \"\"\"\n",
    "        E_x = x.mean(dim=-1, keepdim=True)\n",
    "        Var_x = torch.var(x, dim=-1, keepdim=True)\n",
    "        return (x - E_x) / torch.sqrt(Var_x + self.eps) * self.gamma + self.beta"
   ]
  },
  {
   "cell_type": "code",
   "execution_count": 21,
   "metadata": {},
   "outputs": [
    {
     "name": "stdout",
     "output_type": "stream",
     "text": [
      "X_norm.size() = torch.Size([16, 50, 64])\n"
     ]
    }
   ],
   "source": [
    "emb_dim = 64\n",
    "\n",
    "norm = LayerNorm(normalized_shape=emb_dim, eps=1e-6)\n",
    "\n",
    "X_norm = norm(X_self_att)\n",
    "print(f'{X_norm.size() = }')"
   ]
  },
  {
   "cell_type": "markdown",
   "metadata": {},
   "source": [
    "### 1.5 Feed Forward"
   ]
  },
  {
   "cell_type": "code",
   "execution_count": 22,
   "metadata": {},
   "outputs": [],
   "source": [
    "class FeedForward(nn.Module):\n",
    "    def __init__(self, embed_dim, forward_expansion_dim=2048, dropout=0.1):\n",
    "        super(FeedForward, self).__init__()\n",
    "\n",
    "        self.feed_forward = nn.Sequential(\n",
    "            nn.Linear(embed_dim, forward_expansion_dim),\n",
    "            nn.ReLU(),\n",
    "            nn.Dropout(dropout),\n",
    "            nn.Linear(forward_expansion_dim, embed_dim),\n",
    "        )\n",
    "    def forward(self, inp):\n",
    "        \"\"\"\n",
    "        Apply feed forward toward last dimension\n",
    "\n",
    "        Arguments:\n",
    "            inp (tensor(m,*,embed_dim))  : Input tensor\n",
    "        Returns:\n",
    "            out (tensor(m,*,embed_dim))  : Output tensor\n",
    "        \"\"\"\n",
    "        return self.feed_forward(inp)"
   ]
  },
  {
   "cell_type": "code",
   "execution_count": 23,
   "metadata": {},
   "outputs": [
    {
     "name": "stdout",
     "output_type": "stream",
     "text": [
      "ff.size() = torch.Size([16, 50, 64])\n"
     ]
    }
   ],
   "source": [
    "feedforward = FeedForward(embed_dim=64, forward_expansion_dim=2048, dropout=0.1)\n",
    "\n",
    "ff = feedforward(X_norm)\n",
    "print(f'{ff.size() = }')"
   ]
  },
  {
   "cell_type": "markdown",
   "metadata": {},
   "source": [
    "# 2. Encoder\n",
    "### 2.1 Encoder Block\n",
    "\n",
    "<img src=\"assets/transformer_blk_encoder.png\" width=\"150\">\n"
   ]
  },
  {
   "cell_type": "code",
   "execution_count": 24,
   "metadata": {},
   "outputs": [],
   "source": [
    "class EncoderBlock(nn.Module):\n",
    "    def __init__(self,\n",
    "            embed_dim, num_heads,\n",
    "            dropout=0.1, forward_expansion_dim=2048, eps=1e-5):\n",
    "        super(EncoderBlock, self).__init__()\n",
    "\n",
    "        # Layer 1\n",
    "        self.multihead_attention = MultiHeadAttention(\n",
    "            embed_dim=embed_dim, num_heads=num_heads,\n",
    "            dropout=dropout)\n",
    "        self.norm_1 = LayerNorm(\n",
    "            normalized_shape=embed_dim,\n",
    "            eps=eps)\n",
    "        self.dropout_1 = nn.Dropout(dropout)\n",
    "\n",
    "        # Layer 2\n",
    "        self.feed_forward = FeedForward(\n",
    "            embed_dim=embed_dim, forward_expansion_dim=forward_expansion_dim,\n",
    "            dropout=dropout)\n",
    "        self.norm_2 =LayerNorm(\n",
    "            normalized_shape=embed_dim,\n",
    "            eps=eps)\n",
    "        self.dropout_2 = nn.Dropout(dropout)\n",
    "\n",
    "    def forward(self, X_emb_pos, X_mask):\n",
    "        \"\"\"\n",
    "        Arguments:\n",
    "            X_emb_pos (tensor(m, Tx, emb_dim) : Source sequence encoded with embbeding and position\n",
    "            X_mask (Long tensor(m, 1, 1, T))  : Source sequence attention mask(val=1:keep or val=0:supress)\n",
    "        Returns:\n",
    "            X_enc (tensor(m, Tx, emb_dim))    : encoder output from source seq\n",
    "        \"\"\"\n",
    "        # Layer 1\n",
    "        att = self.multihead_attention(\n",
    "            Q=X_emb_pos, K=X_emb_pos, V=X_emb_pos,\n",
    "            mask=X_mask)\n",
    "        X_norm_1 = self.dropout_1(\n",
    "            self.norm_1(X_emb_pos + att))\n",
    "\n",
    "        # Layer 2\n",
    "        ff = self.feed_forward(X_norm_1)\n",
    "        X_enc = self.dropout_2(\n",
    "            self.norm_2(X_norm_1 + ff))\n",
    "\n",
    "        return X_enc"
   ]
  },
  {
   "cell_type": "markdown",
   "metadata": {},
   "source": [
    "### 2.2 Encoder\n",
    "\n",
    "<img src=\"assets/transformer_encoder.png\" width=\"250\">"
   ]
  },
  {
   "cell_type": "code",
   "execution_count": 25,
   "metadata": {},
   "outputs": [],
   "source": [
    "class Encoder(nn.Module):\n",
    "    def __init__(self,\n",
    "            Tx, X_lexicon_size, embed_dim,\n",
    "            num_layers, num_heads,\n",
    "            forward_expansion_dim=1024,\n",
    "            dropout=0.1, eps=1e-5):\n",
    "        super(Encoder, self).__init__()\n",
    "        # Params\n",
    "        self.embed_dim = embed_dim\n",
    "\n",
    "        # X = emb + pe\n",
    "        self.input_embedding = Embbeding(\n",
    "            lexicon_size=X_lexicon_size, embed_dim=embed_dim)\n",
    "        self.pos_encoding = PositionalEncoder(\n",
    "            T=Tx, embed_dim=embed_dim)\n",
    "        self.dropout = nn.Dropout(dropout)\n",
    "\n",
    "        # Enc blocks\n",
    "        self.enc_blocks = nn.ModuleList([\n",
    "            EncoderBlock(\n",
    "                embed_dim=embed_dim, num_heads=num_heads,\n",
    "                dropout=dropout, forward_expansion_dim=forward_expansion_dim, eps=eps\n",
    "            ) for _ in range(num_layers)\n",
    "        ])\n",
    "\n",
    "    def forward(self, X_seq, X_mask):\n",
    "        \"\"\"\n",
    "        Arguments:\n",
    "            X_seq (Long tensor(m, Tx)         : Source sequence, categorical Long\n",
    "            X_mask (Long tensor(m, 1, 1, T))  : Source sequence attention mask(val=1:keep or val=0:supress)\n",
    "        Returns:\n",
    "            X_enc (tensor(m, Tx, emb_dim))    : encoder output from source seq\n",
    "        \"\"\"\n",
    "        # X = emb + pe\n",
    "        X_emb = self.input_embedding(X_seq)\n",
    "        X_emb_pos = self.pos_encoding(X_emb)\n",
    "        X_enc = self.dropout(X_emb_pos)\n",
    "\n",
    "        # Enc blocks\n",
    "        for enc_blk in self.enc_blocks:\n",
    "            X_enc = enc_blk(\n",
    "                X_emb_pos=X_enc, X_mask=X_mask)\n",
    "\n",
    "        return X_enc"
   ]
  },
  {
   "cell_type": "code",
   "execution_count": 26,
   "metadata": {},
   "outputs": [
    {
     "name": "stdout",
     "output_type": "stream",
     "text": [
      "X_enc.size() = torch.Size([16, 50, 64])\n"
     ]
    }
   ],
   "source": [
    "encoder = Encoder(\n",
    "    Tx=Tx, X_lexicon_size=X_lexicon_size, embed_dim=64,\n",
    "    num_layers=3, num_heads=4,\n",
    "    forward_expansion_dim=1024,\n",
    "    dropout=0.1, eps=1e-6)\n",
    "\n",
    "X_enc = encoder(X_seq=X, X_mask=X_mask)\n",
    "print(f'{X_enc.size() = }')"
   ]
  },
  {
   "cell_type": "markdown",
   "metadata": {},
   "source": [
    "# 3. Decoder\n",
    "### 3.1 Decoder Block\n",
    "\n",
    "<img src=\"assets/transformer_blk_decoder.png\" width=\"150\">"
   ]
  },
  {
   "cell_type": "code",
   "execution_count": 27,
   "metadata": {},
   "outputs": [],
   "source": [
    "class DecoderBlock(nn.Module):\n",
    "    def __init__(self,\n",
    "            embed_dim, num_heads,\n",
    "            dropout=0.1, forward_expansion_dim=2048, eps=1e-5):\n",
    "        super(DecoderBlock, self).__init__()\n",
    "        # Layer 1\n",
    "        self.masked_multihead_attention = MultiHeadAttention(\n",
    "            embed_dim=embed_dim, num_heads=num_heads,\n",
    "            dropout=dropout)\n",
    "        self.norm_1 = LayerNorm(\n",
    "            normalized_shape=embed_dim,\n",
    "            eps=eps)\n",
    "        self.dropout_1 = nn.Dropout(dropout)\n",
    "\n",
    "        # Layer 2\n",
    "        self.multihead_attention = MultiHeadAttention(\n",
    "            embed_dim=embed_dim, num_heads=num_heads,\n",
    "            dropout=dropout)\n",
    "        self.norm_2 = LayerNorm(\n",
    "            normalized_shape=embed_dim,\n",
    "            eps=eps)\n",
    "        self.dropout_2 = nn.Dropout(dropout)\n",
    "\n",
    "        # Layer 3\n",
    "        self.feed_forward = FeedForward(\n",
    "            embed_dim=embed_dim, forward_expansion_dim=forward_expansion_dim,\n",
    "            dropout=dropout)\n",
    "        self.norm_3 = LayerNorm(\n",
    "            normalized_shape=embed_dim,\n",
    "            eps=eps)\n",
    "        self.dropout_3 = nn.Dropout(dropout)\n",
    "\n",
    "    def forward(self,\n",
    "            Y_emb_pos, Y_mask,\n",
    "            X_enc, X_mask):\n",
    "        \"\"\"\n",
    "        Arguments:\n",
    "            Y_emb_pos (tensor(m, Ty, emb_dim) : Target sequence encoded with embbeding and position\n",
    "            Y_mask (Long tensor(m, 1, T, T))  : Target sequence attention mask(val=1:keep or val=0:supress)\n",
    "            X_enc (tensor(m, Tx, emb_dim))    : encoder output from source seq\n",
    "            X_mask (Long tensor(m, 1, 1, T))  : Source sequence attention mask(val=1:keep or val=0:supress)\n",
    "        Returns:\n",
    "            Y_dec (tensor(m, Ty, emb_dim))     : deccoder output\n",
    "        \"\"\"\n",
    "        # Layer 1\n",
    "        masked_att = self.masked_multihead_attention(\n",
    "            Q=Y_emb_pos, K=Y_emb_pos, V=Y_emb_pos,\n",
    "            mask=Y_mask)\n",
    "        Y_norm_1 = self.dropout_1(\n",
    "            self.norm_1(Y_emb_pos + masked_att))\n",
    "\n",
    "        # Layer 2\n",
    "        att = self.multihead_attention(\n",
    "            Q=Y_norm_1, K=X_enc, V=X_enc,\n",
    "            mask=X_mask)\n",
    "        Y_norm_2 = self.dropout_2(\n",
    "            self.norm_2(Y_norm_1 + att))\n",
    "\n",
    "        # Layer 3\n",
    "        ff = self.feed_forward(Y_norm_2)\n",
    "        Y_dec = self.dropout_3(\n",
    "            self.norm_3(Y_norm_2 + ff))\n",
    "\n",
    "        return Y_dec"
   ]
  },
  {
   "cell_type": "markdown",
   "metadata": {},
   "source": [
    "### 3.2 Decoder\n",
    "\n",
    "<img src=\"assets/transformer_decoder.png\" width=\"200\">"
   ]
  },
  {
   "cell_type": "code",
   "execution_count": 28,
   "metadata": {},
   "outputs": [],
   "source": [
    "class Decoder(nn.Module):\n",
    "    def __init__(self,\n",
    "            Ty, Y_lexicon_size, embed_dim,\n",
    "            num_layers, num_heads,\n",
    "            forward_expansion_dim=1024,\n",
    "            dropout=0.1, eps=1e-5):\n",
    "        super(Decoder, self).__init__()\n",
    "        # Params\n",
    "        self.embed_dim = embed_dim\n",
    "\n",
    "        # Y = emb + pe\n",
    "        self.input_embedding = Embbeding(\n",
    "            lexicon_size=Y_lexicon_size, embed_dim=embed_dim)\n",
    "        self.pos_encoding = PositionalEncoder(\n",
    "            T=Ty, embed_dim=embed_dim)\n",
    "        self.dropout = nn.Dropout(dropout)\n",
    "\n",
    "        # Dec blocks\n",
    "        self.dec_blocks = nn.ModuleList([\n",
    "             DecoderBlock(\n",
    "                embed_dim=embed_dim, num_heads=num_heads,\n",
    "                dropout=dropout, forward_expansion_dim=forward_expansion_dim, eps=eps\n",
    "            ) for _ in range(num_layers)\n",
    "        ])\n",
    "\n",
    "        # Classifier\n",
    "        self.fc_out = nn.Linear(\n",
    "            in_features=embed_dim,\n",
    "            out_features=Y_lexicon_size)\n",
    "\n",
    "    def forward(self,\n",
    "            Y_seq, Y_mask,\n",
    "            X_enc, X_mask):\n",
    "        \"\"\"\n",
    "        Arguments:\n",
    "            Y_seq (Long tensor(m, Ty)         : Target sequence, categorical Long\n",
    "            Y_mask (Long tensor(m, 1, T, T))  : Target sequence attention mask(val=1:keep or val=0:supress)\n",
    "            X_enc (tensor(m, Tx, emb_dim))    : encoder output from source seq\n",
    "            X_mask (Long tensor(m, 1, 1, T))  : Source sequence attention mask(val=1:keep or val=0:supress)\n",
    "        Returns:\n",
    "            out (tensor(m, Ty, emb_dim))      : log softmax probability predict category in Y_lexicon\n",
    "        \"\"\"\n",
    "        # Y = emb + pe\n",
    "        Y_emb = self.input_embedding(Y_seq)\n",
    "        Y_emb_pos = self.pos_encoding(Y_emb)\n",
    "        Y_dec = self.dropout(Y_emb_pos)\n",
    "\n",
    "        # Dec blocks\n",
    "        for dec_blk in self.dec_blocks:\n",
    "            Y_dec = dec_blk(\n",
    "                Y_emb_pos=Y_dec, Y_mask=Y_mask,\n",
    "                X_enc=X_enc, X_mask=X_mask)\n",
    "\n",
    "        # Classifier\n",
    "        out = self.fc_out(Y_dec)\n",
    "        out = F.log_softmax(out, dim=-1)\n",
    "\n",
    "        return out"
   ]
  },
  {
   "cell_type": "code",
   "execution_count": 29,
   "metadata": {},
   "outputs": [
    {
     "name": "stdout",
     "output_type": "stream",
     "text": [
      "out.size() = torch.Size([16, 40, 14])\n"
     ]
    }
   ],
   "source": [
    "decoder = Decoder(\n",
    "    Ty=Ty, Y_lexicon_size=Y_lexicon_size, embed_dim=64,\n",
    "    num_layers=3, num_heads=4,\n",
    "    forward_expansion_dim=1024,\n",
    "    dropout=0.1, eps=1e-6)\n",
    "\n",
    "out = decoder(\n",
    "    Y_seq=Y, Y_mask=Y_mask,\n",
    "    X_enc=X_enc, X_mask=X_mask)\n",
    "print(f'{out.size() = }')"
   ]
  },
  {
   "cell_type": "markdown",
   "metadata": {},
   "source": [
    "# 4. Transformer"
   ]
  },
  {
   "cell_type": "code",
   "execution_count": 30,
   "metadata": {},
   "outputs": [],
   "source": [
    "class Transformer(nn.Module):\n",
    "    def __init__(self,\n",
    "            Tx, X_lexicon_size,\n",
    "            Ty, Y_lexicon_size,\n",
    "            embed_dim=512,\n",
    "            num_layers=3, num_heads=4,\n",
    "            forward_expansion_dim=1024,\n",
    "            dropout=0.1, eps=1e-6):\n",
    "        super().__init__()\n",
    "        self.encoder = Encoder(\n",
    "            Tx=Tx, X_lexicon_size=X_lexicon_size, embed_dim=embed_dim,\n",
    "            num_layers=num_layers, num_heads=num_heads,\n",
    "            forward_expansion_dim=forward_expansion_dim,\n",
    "            dropout=dropout, eps=eps)\n",
    "        self.decoder = Decoder(\n",
    "            Ty=Ty, Y_lexicon_size=Y_lexicon_size, embed_dim=embed_dim,\n",
    "            num_layers=num_layers, num_heads=num_heads,\n",
    "            forward_expansion_dim=forward_expansion_dim,\n",
    "            dropout=dropout, eps=eps)\n",
    "\n",
    "    def forward(self, X_seq, X_mask, Y_seq, Y_mask):\n",
    "        \"\"\"\n",
    "        Arguments:\n",
    "            X_seq (Long tensor(m, Tx)         : Source sequence, categorical Long\n",
    "            X_mask (Long tensor(m, 1, 1, T))  : Source sequence attention mask(val=1:keep or val=0:supress)\n",
    "            Y_seq (Long tensor(m, Ty)         : Target sequence, categorical Long\n",
    "            Y_mask (Long tensor(m, 1, T, T))  : Target sequence attention mask(val=1:keep or val=0:supress)\n",
    "        Returns:\n",
    "            out (tensor(m, Ty, emb_dim))      : log softmax probability predict category in Y_lexicon\n",
    "        \"\"\"\n",
    "        X_enc = self.encoder(\n",
    "            X_seq=X_seq, X_mask=X_mask)\n",
    "        out = self.decoder(\n",
    "            Y_seq=Y_seq, Y_mask=Y_mask,\n",
    "            X_enc=X_enc, X_mask=X_mask)\n",
    "        return out"
   ]
  },
  {
   "cell_type": "code",
   "execution_count": 31,
   "metadata": {},
   "outputs": [
    {
     "name": "stdout",
     "output_type": "stream",
     "text": [
      "out.size() = torch.Size([16, 40, 14])\n"
     ]
    }
   ],
   "source": [
    "transformer = Transformer(\n",
    "    Tx=Tx, X_lexicon_size=X_lexicon_size,\n",
    "    Ty=Ty, Y_lexicon_size=Y_lexicon_size,\n",
    "    embed_dim=512,\n",
    "    num_layers=4, num_heads=4,\n",
    "    forward_expansion_dim=1024,\n",
    "    dropout=0.1, eps=1e-6)\n",
    "\n",
    "out = transformer(\n",
    "    X_seq=X, X_mask=X_mask,\n",
    "    Y_seq=Y, Y_mask=Y_mask)\n",
    "print(f'{out.size() = }')"
   ]
  },
  {
   "cell_type": "markdown",
   "metadata": {},
   "source": [
    "#### Params count"
   ]
  },
  {
   "cell_type": "code",
   "execution_count": 32,
   "metadata": {},
   "outputs": [
    {
     "name": "stdout",
     "output_type": "stream",
     "text": [
      "Number of parameters: 172\n"
     ]
    }
   ],
   "source": [
    "num_params = len(list(transformer.parameters()))\n",
    "\n",
    "print(f'Number of parameters: {num_params}')"
   ]
  }
 ],
 "metadata": {
  "kernelspec": {
   "display_name": "Python 3.8",
   "language": "python",
   "name": "py38"
  },
  "language_info": {
   "codemirror_mode": {
    "name": "ipython",
    "version": 3
   },
   "file_extension": ".py",
   "mimetype": "text/x-python",
   "name": "python",
   "nbconvert_exporter": "python",
   "pygments_lexer": "ipython3",
   "version": "3.8.13"
  },
  "vscode": {
   "interpreter": {
    "hash": "b166c11a6fb13fc284d60599e45a47824480cbed14934159809ec834d0d5166e"
   }
  }
 },
 "nbformat": 4,
 "nbformat_minor": 4
}
