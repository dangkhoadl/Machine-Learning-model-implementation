{
 "cells": [
  {
   "cell_type": "code",
   "execution_count": 1,
   "metadata": {},
   "outputs": [],
   "source": [
    "import nltk\n",
    "import matplotlib.pyplot as plt\n",
    "import numpy as np\n",
    "import pandas as pd\n",
    "import pickle"
   ]
  },
  {
   "cell_type": "markdown",
   "metadata": {},
   "source": [
    "# 1. Dataset\n",
    "- Train English -> French dictionary"
   ]
  },
  {
   "cell_type": "markdown",
   "metadata": {},
   "source": [
    "## 1.1 Data\n",
    "#### Load Embeddings"
   ]
  },
  {
   "cell_type": "code",
   "execution_count": 2,
   "metadata": {},
   "outputs": [
    {
     "name": "stdout",
     "output_type": "stream",
     "text": [
      "6370\n",
      "5766\n",
      "\n",
      "(300,)\n",
      "(300,)\n",
      "\n",
      "the : [ 0.08007812  0.10498047  0.04980469  0.0534668  -0.06738281]\n",
      "was : [ 0.02600098 -0.00189209  0.18554688 -0.05175781  0.00512695]\n",
      "for : [-0.01177979 -0.04736328  0.04467773  0.06347656 -0.01818848]\n",
      "that : [-0.01574707 -0.02832031  0.08349609  0.05029297 -0.11035156]\n",
      "with : [-0.02490234  0.02197266 -0.03540039  0.13671875  0.01635742]\n",
      "from : [ 0.05810547 -0.00017452  0.07617188  0.05322266  0.02514648]\n",
      "\n",
      "la : [-0.0061825  -0.00094387 -0.00882648  0.0324623  -0.0218281 ]\n",
      "était : [-0.0341354  0.042414  -0.0656882  0.0563061  0.0743264]\n",
      "pour : [ 0.0426481   0.0395683  -0.00825683 -0.0214458  -0.0976271 ]\n",
      "cela : [-0.0662544  -0.0448791  -0.034903    0.0451009  -0.00433476]\n",
      "avec : [-0.0279761  0.0359985 -0.0309898  0.125742  -0.0408834]\n",
      "depuis : [-0.0174121 -0.0528022 -0.0012797  0.0361534 -0.0464965]\n"
     ]
    }
   ],
   "source": [
    "en_embeddings = pickle.load(open('datasets/en_embeddings.p', 'rb'))\n",
    "fr_embeddings = pickle.load(open('datasets/fr_embeddings.p', 'rb'))\n",
    "\n",
    "print(len(en_embeddings))\n",
    "print(len(fr_embeddings))\n",
    "print()\n",
    "print(en_embeddings['the'].shape)\n",
    "print(fr_embeddings['la'].shape)\n",
    "\n",
    "# View\n",
    "print()\n",
    "for i, key in enumerate(en_embeddings):\n",
    "    print(key, ':', en_embeddings[key][:5])\n",
    "    if i == 5: break\n",
    "\n",
    "print()\n",
    "for i, key in enumerate(fr_embeddings):\n",
    "    print(key, ':', fr_embeddings[key][:5])\n",
    "    if i == 5: break"
   ]
  },
  {
   "cell_type": "markdown",
   "metadata": {},
   "source": [
    "#### Train - Test dictionary"
   ]
  },
  {
   "cell_type": "code",
   "execution_count": 3,
   "metadata": {},
   "outputs": [],
   "source": [
    "def get_dict(file_name):\n",
    "    my_file = pd.read_csv(file_name, delimiter=' ')\n",
    "    etof = {}  # the english to french dictionary to be returned\n",
    "    for i in range(len(my_file)):\n",
    "        en = my_file.loc[i][0]\n",
    "        fr = my_file.loc[i][1]\n",
    "        etof[en] = fr\n",
    "    return etof"
   ]
  },
  {
   "cell_type": "code",
   "execution_count": 4,
   "metadata": {},
   "outputs": [
    {
     "name": "stdout",
     "output_type": "stream",
     "text": [
      "5000\n",
      "1500\n",
      "\n",
      "the -> la\n",
      "and -> et\n",
      "was -> était\n",
      "for -> pour\n",
      "that -> cela\n",
      "with -> avec\n",
      "\n",
      "torpedo -> torpilles\n",
      "giovanni -> giovanni\n",
      "chat -> chat\n",
      "catholics -> catholiques\n",
      "herald -> herald\n",
      "chuck -> chuck\n"
     ]
    }
   ],
   "source": [
    "en_fr_train = get_dict('datasets/en-fr.train.txt')\n",
    "en_fr_test = get_dict('datasets/en-fr.test.txt')\n",
    "\n",
    "print(len(en_fr_train))\n",
    "print(len(en_fr_test))\n",
    "\n",
    "# View\n",
    "print()\n",
    "for i, key in enumerate(en_fr_train):\n",
    "    print(key, '->', en_fr_train[key])\n",
    "    if i == 5: break\n",
    "print()\n",
    "for i, key in enumerate(en_fr_test):\n",
    "    print(key, '->', en_fr_test[key])\n",
    "    if i == 5: break"
   ]
  },
  {
   "cell_type": "markdown",
   "metadata": {},
   "source": [
    "## 1.2 Feature Engineering\n",
    "#### Generate embedding matrix\n",
    "<img src=\"./assets/X_to_Y.jpg\" width=\"780\"/>\n"
   ]
  },
  {
   "cell_type": "code",
   "execution_count": 5,
   "metadata": {},
   "outputs": [],
   "source": [
    "def generate_XY(en_fr, french_vecs, english_vecs):\n",
    "    \"\"\"\n",
    "    Input:\n",
    "        en_fr (dict(str) -> str) : English to French dictionary\n",
    "        french_vecs (dict(str) -> ndarray) : French words to their corresponding word embeddings.\n",
    "        english_vecs (dict(str) -> ndarray) : English words to their corresponding word embeddings.\n",
    "    Output: \n",
    "        X (ndarray (m,n)) : m English embeddings, n = embedding dim size\n",
    "        Y (ndarray (m,n)) : m French embeddings, n = embedding dim size\n",
    "        en_vocabs (list(str) size m) : list of english words in X\n",
    "        fr_vocabs (list(str) size m) : list of french words in Y\n",
    "    \"\"\"\n",
    "    X = []\n",
    "    Y = []\n",
    "    en_vocabs = []\n",
    "    fr_vocabs= []\n",
    "\n",
    "    # English, French words in embeddings\n",
    "    english_set = english_vecs.keys()\n",
    "    french_set = french_vecs.keys()\n",
    "\n",
    "    for en_word, fr_word in en_fr.items():\n",
    "        if en_word in english_set and fr_word in french_set:\n",
    "            en_vec = english_vecs[en_word]\n",
    "            fr_vec = french_vecs[fr_word]\n",
    "\n",
    "            X.append(en_vec)\n",
    "            Y.append(fr_vec)\n",
    "            \n",
    "            en_vocabs.append(en_word)\n",
    "            fr_vocabs.append(fr_word)\n",
    "\n",
    "    return np.vstack(X), np.vstack(Y), en_vocabs, fr_vocabs"
   ]
  },
  {
   "cell_type": "code",
   "execution_count": 6,
   "metadata": {},
   "outputs": [
    {
     "name": "stdout",
     "output_type": "stream",
     "text": [
      "(4932, 300)\n",
      "(4932, 300)\n"
     ]
    }
   ],
   "source": [
    "X_train, Y_train, _, _ = generate_XY(\n",
    "    en_fr_train, fr_embeddings, en_embeddings)\n",
    "\n",
    "print(X_train.shape)\n",
    "print(Y_train.shape)"
   ]
  },
  {
   "cell_type": "markdown",
   "metadata": {},
   "source": [
    "# 2. Model Training\n",
    "## 2.1 Linear transformation\n",
    "\n",
    "$$\\hat{Y} = X\\cdot R$$\n",
    "- $X$: Input English embeddings\n",
    "- $\\hat{Y}$: Output French Embedding\n",
    "- $R$: parameter, transform matrix"
   ]
  },
  {
   "cell_type": "code",
   "execution_count": 7,
   "metadata": {},
   "outputs": [],
   "source": [
    "def f(X, R):\n",
    "    '''\n",
    "    Inputs: \n",
    "        X (ndarray (m,n)) : m English embeddings, n = embedding dim size\n",
    "        R (ndarray (n,n)) : transformation matrix from English to French vector space\n",
    "    Outputs:\n",
    "        Y_hat (ndarray (m,n)) : m predicted French embeddings, n = embedding dim size\n",
    "    '''\n",
    "    return np.dot(X, R)"
   ]
  },
  {
   "cell_type": "markdown",
   "metadata": {},
   "source": [
    "## 2.2 Cost function\n",
    "#### Frobenius normalization\n",
    "- **Frobenius normalization** of matrix A = square root of the sum of the absolute squares of  A's elements\n",
    "\n",
    "$$||A||_F = \\sqrt{\\sum\\limits_{i=1}^m\\sum\\limits_{j=1}^n |a_{ij}|^2 }$$\n",
    "\n",
    "#### Cost function: Frobenius norm square\n",
    "\n",
    "$$\\begin{split}\n",
    "    J(R) &= \\frac{1}{m} ||\\hat{Y} - Y||_F^2 \\\\\n",
    "        &= \\frac{1}{m} ||X\\cdot R - Y||_F^2 \\\\\n",
    "        &= \\frac{1}{m} ||\\hat{Y} - Y||_F^2\n",
    "\\end{split}$$\n",
    "\n",
    "- $m$: dataset size\n",
    "- $n$: Embedding vector dim size (feat size)"
   ]
  },
  {
   "cell_type": "code",
   "execution_count": 8,
   "metadata": {},
   "outputs": [],
   "source": [
    "def compute_cost(X, Y, R):\n",
    "    '''\n",
    "    Inputs: \n",
    "        X (ndarray (m,n)) : m English embeddings, n = embedding dim size\n",
    "        Y (ndarray (m,n)) : m French embeddings, n = embedding dim size\n",
    "        R (ndarray (n,n)) : transformation matrix from English to French vector space\n",
    "    Outputs:\n",
    "        cost (scalar): cost\n",
    "    '''\n",
    "    m = X.shape[0]\n",
    "    \n",
    "    Y_hat = f(X, R)\n",
    "    return 1./m * np.sum(np.power(Y_hat - Y, 2))"
   ]
  },
  {
   "cell_type": "markdown",
   "metadata": {},
   "source": [
    "## 2.3 Gradient\n",
    "\n",
    "#### Gradient of cost function\n",
    "$$\\begin{split}\n",
    "\\frac{\\partial J(R)}{\\partial R}  &= \\frac{\\frac{1}{m} ||X\\cdot R - Y||_F^2}{\\partial R} \\\\\n",
    "     &= \\frac{2}{m} X^T (X\\cdot R - Y) \\\\\n",
    "     &= \\frac{2}{m} X^T (\\hat{Y} - Y) \\\\\n",
    "\\end{split}$$\n",
    "\n",
    "#### Update R\n",
    "+ $\\alpha$: Learning rate\n",
    "\n",
    "$\\begin{split}\n",
    "\\text{repeat until convergence: } \\\\\n",
    "R &= R -  \\alpha \\frac{\\partial J(R)}{\\partial R} \n",
    "\\end{split}$"
   ]
  },
  {
   "cell_type": "code",
   "execution_count": 9,
   "metadata": {},
   "outputs": [],
   "source": [
    "def compute_gradient(X, Y, R):\n",
    "    '''\n",
    "    Inputs: \n",
    "        X (ndarray (m,n)) : m English embeddings, n = embedding dim size\n",
    "        Y (ndarray (m,n)) : m French embeddings, n = embedding dim size\n",
    "        R (ndarray (n,n)) : transformation matrix from English to French vector space\n",
    "    Outputs:\n",
    "        dJ_dR (ndarray (n,n)) : gradient of the cost function\n",
    "    '''\n",
    "    m = X.shape[0]\n",
    "    \n",
    "    Y_hat = f(X, R)\n",
    "    return 1./m * np.dot(X.T, Y_hat - Y)"
   ]
  },
  {
   "cell_type": "markdown",
   "metadata": {},
   "source": [
    "## 2.4 Train"
   ]
  },
  {
   "cell_type": "code",
   "execution_count": 10,
   "metadata": {},
   "outputs": [],
   "source": [
    "def fit(X, Y,\n",
    "        num_iters=100, alpha=0.0003):\n",
    "    '''\n",
    "    Inputs:\n",
    "        X (ndarray (m,n)) : m English embeddings, n = embedding dim size\n",
    "        Y (ndarray (m,n)) : m French embeddings, n = embedding dim size\n",
    "        num_iters (int)   : number of iterations to run gradient descent\n",
    "        alpha (float)     : Learning rate\n",
    "    Outputs:\n",
    "        R: a matrix of dimension (n,n) - the projection matrix that minimizes the F norm ||X R -Y||^2\n",
    "    '''\n",
    "    m, n = X.shape\n",
    "\n",
    "    # cost history\n",
    "    J_history = []\n",
    "\n",
    "    # Init R\n",
    "    R = np.random.rand(n, n)\n",
    "    for i in range(num_iters):\n",
    "\n",
    "        # Calculate the gradient\n",
    "        dJ_dR = compute_gradient(X, Y, R)\n",
    "\n",
    "        # Update R\n",
    "        R -= alpha * dJ_dR\n",
    "\n",
    "        # Save cost J at each iteration\n",
    "        cost = compute_cost(X, Y, R)\n",
    "        if i<100000:\n",
    "            J_history.append( cost )\n",
    "\n",
    "        # Print\n",
    "        if i % 100 == 0 or i == num_iters-1:\n",
    "            print(f\"Cost after iteration {i}: {cost:.4f}\")\n",
    "    return R, J_history"
   ]
  },
  {
   "cell_type": "code",
   "execution_count": 11,
   "metadata": {},
   "outputs": [
    {
     "name": "stdout",
     "output_type": "stream",
     "text": [
      "Cost after iteration 0: 783.4176\n",
      "Cost after iteration 100: 26.6473\n",
      "Cost after iteration 200: 4.3753\n",
      "Cost after iteration 300: 1.4495\n",
      "Cost after iteration 400: 0.8259\n",
      "Cost after iteration 500: 0.6538\n",
      "Cost after iteration 600: 0.5982\n",
      "Cost after iteration 700: 0.5783\n",
      "Cost after iteration 800: 0.5706\n",
      "Cost after iteration 900: 0.5673\n",
      "Cost after iteration 999: 0.5659\n"
     ]
    }
   ],
   "source": [
    "np.random.seed(129)\n",
    "R, J_hist = fit(X_train, Y_train, num_iters=1000, alpha=0.8)"
   ]
  },
  {
   "cell_type": "code",
   "execution_count": 12,
   "metadata": {
    "scrolled": true
   },
   "outputs": [
    {
     "data": {
      "image/png": "[encoded data removed]",
      "text/plain": [
       "<Figure size 864x288 with 2 Axes>"
      ]
     },
     "metadata": {
      "needs_background": "light"
     },
     "output_type": "display_data"
    }
   ],
   "source": [
    "fig, (ax1, ax2) = plt.subplots(1, 2, constrained_layout=True, figsize=(12,4))\n",
    "\n",
    "ax1.plot(J_hist[:10])\n",
    "ax2.plot(10 + np.arange(len(J_hist[10:])), J_hist[10:])\n",
    "ax1.set_title(\"Cost vs. iteration(start)\");  ax2.set_title(\"Cost vs. iteration (end)\")\n",
    "ax1.set_ylabel('Cost')            ;  ax2.set_ylabel('Cost') \n",
    "ax1.set_xlabel('iteration step')  ;  ax2.set_xlabel('iteration step')\n",
    "plt.show()"
   ]
  },
  {
   "cell_type": "markdown",
   "metadata": {},
   "source": [
    "# 3. Inference"
   ]
  },
  {
   "cell_type": "code",
   "execution_count": 13,
   "metadata": {},
   "outputs": [],
   "source": [
    "def cosine_similarity(A, B):\n",
    "    '''\n",
    "    Input:\n",
    "        A: a numpy array which corresponds to a word vector\n",
    "        B: A numpy array which corresponds to a word vector\n",
    "    Output:\n",
    "        cos: numerical number representing the cosine distance between A and B.\n",
    "    '''\n",
    "    return np.dot(A, B) / (np.linalg.norm(A)*np.linalg.norm(B))"
   ]
  },
  {
   "cell_type": "code",
   "execution_count": 14,
   "metadata": {},
   "outputs": [],
   "source": [
    "def get_k_nearest(v, candidates, k=1):\n",
    "    \"\"\"\n",
    "    Input:\n",
    "        v (ndarray (n,)) : the vector you are going find the nearest neighbor for\n",
    "        candidates (dict(str) -> ndarray) : French words to their corresponding word embeddings.\n",
    "        k (int) : top k nearest neighbors to find\n",
    "    Output:\n",
    "        k_words (list(str)): the words of the top k closest vectors\n",
    "    \"\"\"\n",
    "    sim_list = []\n",
    "    for fr_word, emb in candidates.items():\n",
    "        cosim = cosine_similarity(v, emb)\n",
    "        sim_list.append( (fr_word, cosim) )\n",
    "        \n",
    "    # Sort\n",
    "    sim_list.sort(key=lambda x:x[1], reverse=True)\n",
    "    return list(map(lambda x: x[0], sim_list[:k]))"
   ]
  },
  {
   "cell_type": "code",
   "execution_count": 15,
   "metadata": {},
   "outputs": [],
   "source": [
    "from joblib import Parallel, delayed\n",
    "\n",
    "def infer(X, R, french_vecs):\n",
    "    '''\n",
    "    Input:\n",
    "        X (ndarray (m,n)) : m English embeddings, n = embedding dim size\n",
    "        R (ndarray (n,n)) : transformation matrix from English to French vector space\n",
    "        french_vecs (dict(str) -> ndarray) : French words to their corresponding word embeddings.\n",
    "    Output:\n",
    "        preds (list(str)) : List of predicted french words \n",
    "    '''\n",
    "    Y_hat = f(X, R)\n",
    "\n",
    "    # Find the nearest vocab in the dictionary\n",
    "    def process(y_hat_emb):\n",
    "        return get_k_nearest(y_hat_emb, french_vecs, 1)[0]\n",
    "    preds = Parallel(n_jobs=16)(delayed(process)(y_hat_emb) for y_hat_emb in Y_hat)\n",
    "\n",
    "    return preds"
   ]
  },
  {
   "cell_type": "markdown",
   "metadata": {},
   "source": [
    "#### Accuracy"
   ]
  },
  {
   "cell_type": "code",
   "execution_count": 16,
   "metadata": {},
   "outputs": [
    {
     "name": "stdout",
     "output_type": "stream",
     "text": [
      "Accuracy: 43.60%\n"
     ]
    }
   ],
   "source": [
    "# Get test data\n",
    "X_test, _, en_vocabs, fr_vocabs  = generate_XY(\n",
    "    en_fr_test, fr_embeddings, en_embeddings)\n",
    "\n",
    "# Infer\n",
    "preds = infer(X_test, R, fr_embeddings)\n",
    "\n",
    "# Accuracy\n",
    "num_corrects = 0\n",
    "for i, pred in enumerate(preds):\n",
    "    if pred == fr_vocabs[i]:\n",
    "        num_corrects += 1\n",
    "acc = num_corrects / len(preds)\n",
    "print(f'Accuracy: {acc*100.:.2f}%')"
   ]
  },
  {
   "cell_type": "markdown",
   "metadata": {},
   "source": [
    "#### Error Analysis"
   ]
  },
  {
   "cell_type": "code",
   "execution_count": 17,
   "metadata": {
    "scrolled": true
   },
   "outputs": [
    {
     "name": "stdout",
     "output_type": "stream",
     "text": [
      "[En]            [Predicted Fr]  [Correct Fr]   \n",
      "chat            conversation    chat           \n",
      "herald          précédant       herald         \n",
      "chuck           attraper        chuck          \n",
      "pit             gradins         fosse          \n",
      "supplied        fournis         fournie        \n",
      "optional        réglage         facultatives   \n",
      "sprint          courses         sprint         \n",
      "achievements    récompenses     réalisations   \n",
      "denis           henderson       denis          \n",
      "geographical    géographiques   géographique   \n"
     ]
    }
   ],
   "source": [
    "num_incorrects = 0\n",
    "\n",
    "print(f'{\"[En]\":<15} {\"[Predicted Fr]\":<15} {\"[Correct Fr]\":<15}')\n",
    "for i, pred in enumerate(preds):\n",
    "    if pred != fr_vocabs[i]:\n",
    "        num_incorrects += 1\n",
    "        print(f'{en_vocabs[i]:<15} {pred:<15} {fr_vocabs[i]:<15}')\n",
    "    if num_incorrects == 10: break"
   ]
  }
 ],
 "metadata": {
  "kernelspec": {
   "display_name": "Python 3.8",
   "language": "python",
   "name": "py38"
  },
  "language_info": {
   "codemirror_mode": {
    "name": "ipython",
    "version": 3
   },
   "file_extension": ".py",
   "mimetype": "text/x-python",
   "name": "python",
   "nbconvert_exporter": "python",
   "pygments_lexer": "ipython3",
   "version": "3.8.13"
  }
 },
 "nbformat": 4,
 "nbformat_minor": 4
}
